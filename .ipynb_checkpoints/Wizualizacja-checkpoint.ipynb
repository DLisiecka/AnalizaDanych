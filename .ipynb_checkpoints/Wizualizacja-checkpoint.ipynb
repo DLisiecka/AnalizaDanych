{
 "cells": [
  {
   "cell_type": "code",
   "execution_count": 5,
   "metadata": {},
   "outputs": [
    {
     "name": "stdout",
     "output_type": "stream",
     "text": [
      "                        Nazwa   2011   2012   2013   2014   2015   2016  \\\n",
      "Kod                                                                       \n",
      "0                      POLSKA  40131  37062  35847  34970  32967  33664   \n",
      "200000           DOLNOŚLĄSKIE   2973   3221   2586   2466   2280   2324   \n",
      "201000   Powiat bolesławiecki     49     70     67     70     79     84   \n",
      "202000  Powiat dzierżoniowski     68     57     64     54     53     56   \n",
      "203000       Powiat głogowski     50     64     65     58     54     53   \n",
      "\n",
      "         2017   2018   2019   2020  \n",
      "Kod                                 \n",
      "0       32760  31674  30288  23540  \n",
      "200000   2183   2148   1929   1578  \n",
      "201000     52     63     53     55  \n",
      "202000     38     47     50     34  \n",
      "203000     47     44     37     35  \n"
     ]
    }
   ],
   "source": [
    "import pandas as pd\n",
    "file_name = '1. wypadki ogołem, smiertelni ranni POWIAT.xlsx' \n",
    "df = pd.read_excel(file_name, index_col=0)\n",
    "print(df.head()) # print the first 5 rows"
   ]
  }
 ],
 "metadata": {
  "kernelspec": {
   "display_name": "Python 3",
   "language": "python",
   "name": "python3"
  },
  "language_info": {
   "codemirror_mode": {
    "name": "ipython",
    "version": 3
   },
   "file_extension": ".py",
   "mimetype": "text/x-python",
   "name": "python",
   "nbconvert_exporter": "python",
   "pygments_lexer": "ipython3",
   "version": "3.8.5"
  }
 },
 "nbformat": 4,
 "nbformat_minor": 4
}
