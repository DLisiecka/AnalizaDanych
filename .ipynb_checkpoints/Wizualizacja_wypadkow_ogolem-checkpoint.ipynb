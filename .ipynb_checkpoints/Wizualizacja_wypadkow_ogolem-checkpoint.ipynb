{
 "cells": [
  {
   "cell_type": "code",
   "execution_count": 1,
   "id": "73af8669",
   "metadata": {},
   "outputs": [],
   "source": [
    "import os\n",
    "import pandas as pd\n",
    "import dash\n",
    "import dash_bootstrap_components as dbc\n",
    "import dash_core_components as dcc\n",
    "import dash_html_components as html\n",
    "from dash.dependencies import Input, Output\n",
    "import dash_table as dt"
   ]
  },
  {
   "cell_type": "code",
   "execution_count": 2,
   "id": "41c0c3f5",
   "metadata": {},
   "outputs": [],
   "source": [
    "app = dash.Dash(\n",
    "    external_stylesheets=[dbc.themes.BOOTSTRAP]\n",
    ")"
   ]
  },
  {
   "cell_type": "code",
   "execution_count": 3,
   "id": "cdb11921",
   "metadata": {},
   "outputs": [],
   "source": [
    "df = pd.read_excel('DATA/1.Wypadki_ogolem_smiertleni_ranni_WOJ.xlsx')"
   ]
  },
  {
   "cell_type": "code",
   "execution_count": 4,
   "id": "92f503e1",
   "metadata": {},
   "outputs": [],
   "source": [
    "SIDEBAR_STYLE = {\n",
    "    \"position\": \"fixed\",\n",
    "    \"top\": 0,\n",
    "    \"left\": 0,\n",
    "    \"bottom\": 0,\n",
    "    \"width\": \"16rem\",\n",
    "    \"padding\": \"2rem 1rem\",\n",
    "    \"background-color\": \"#f8f9fa\",\n",
    "}\n",
    "\n",
    "CONTENT_STYLE = {\n",
    "    \"margin-left\": \"18rem\",\n",
    "    \"margin-right\": \"2rem\",\n",
    "    \"padding\": \"2rem 1rem\",\n",
    "}"
   ]
  },
  {
   "cell_type": "code",
   "execution_count": 5,
   "id": "b8a200d7",
   "metadata": {},
   "outputs": [],
   "source": [
    "jednostka_options = [{'label': i, 'value': i} for i in df[\"Jednostka terytorialna\"].unique()]\n",
    "jednostka_options.append({'label': 'All', 'value': 'All'})"
   ]
  },
  {
   "cell_type": "code",
   "execution_count": 6,
   "id": "7f3f8e21",
   "metadata": {},
   "outputs": [],
   "source": [
    "sidebar = html.Div(\n",
    "    [\n",
    "        html.H2(\"Analiza wypadków\"),\n",
    "        html.Hr(),\n",
    "        html.P(\n",
    "            \"Tabela z ilością wypadków, ofiar śmiertelnych i rannych w latach 2014-2020\", className=\"lead\"\n",
    "        ),\n",
    "        html.Br(),\n",
    "        html.B(\"Wybierz jednostkę terytorialną\"),\n",
    "        dcc.Dropdown(\n",
    "            id=\"dropdown_jednostka_value\", \n",
    "            options=jednostka_options,\n",
    "            multi=True,\n",
    "            placeholder=\"Wybieranie jednostki...\",\n",
    "            value=[\"All\"]\n",
    "        )\n",
    "    ],\n",
    "    style=SIDEBAR_STYLE,\n",
    ")\n",
    "\n",
    "\n",
    "# MAIN PANEL\n",
    "content = html.Div([\n",
    "    dt.DataTable(id=\"result_table_container\",\n",
    "                columns = [\n",
    "                    {'id': col, 'name' : col} for col in df.columns.values\n",
    "                ])\n",
    "], \n",
    "    style=CONTENT_STYLE)\n",
    "\n",
    "\n",
    "app.layout = html.Div([sidebar, content])\n",
    "\n",
    "\n",
    "# CALLBACKS\n",
    "@app.callback(\n",
    "    Output(\"result_table_container\", \"data\"),\n",
    "    [Input(\"dropdown_jednostka_value\", \"value\")]\n",
    ")\n",
    "\n",
    "def display_table(dropdown_jednostka_value): \n",
    "    if \"All\" in dropdown_jednostka_value:\n",
    "        return df.to_dict('records')\n",
    "    result_table = df[df[\"Jednostka terytorialna\"].isin(dropdown_jednostka_value)]\n",
    "  \n",
    "    return result_table.to_dict('records')\n",
    "\n",
    "\n"
   ]
  },
  {
   "cell_type": "code",
   "execution_count": 7,
   "id": "f3255bc1",
   "metadata": {},
   "outputs": [
    {
     "name": "stdout",
     "output_type": "stream",
     "text": [
      "Dash is running on http://127.0.0.1:8050/\n",
      "\n",
      " * Serving Flask app \"__main__\" (lazy loading)\n",
      " * Environment: production\n",
      "\u001b[31m   WARNING: This is a development server. Do not use it in a production deployment.\u001b[0m\n",
      "\u001b[2m   Use a production WSGI server instead.\u001b[0m\n",
      " * Debug mode: off\n"
     ]
    },
    {
     "name": "stderr",
     "output_type": "stream",
     "text": [
      " * Running on http://127.0.0.1:8050/ (Press CTRL+C to quit)\n",
      "127.0.0.1 - - [17/Dec/2021 12:57:19] \"GET / HTTP/1.1\" 200 -\n",
      "127.0.0.1 - - [17/Dec/2021 12:57:19] \"GET /_dash-layout HTTP/1.1\" 200 -\n",
      "127.0.0.1 - - [17/Dec/2021 12:57:19] \"GET /_dash-dependencies HTTP/1.1\" 200 -\n",
      "127.0.0.1 - - [17/Dec/2021 12:57:19] \"POST /_dash-update-component HTTP/1.1\" 200 -\n",
      "127.0.0.1 - - [17/Dec/2021 12:57:19] \"GET /_dash-component-suites/dash_table/async-highlight.js HTTP/1.1\" 200 -\n",
      "127.0.0.1 - - [17/Dec/2021 12:57:19] \"GET /_dash-component-suites/dash_table/async-table.js HTTP/1.1\" 200 -\n",
      "127.0.0.1 - - [17/Dec/2021 12:57:25] \"POST /_dash-update-component HTTP/1.1\" 200 -\n",
      "127.0.0.1 - - [17/Dec/2021 12:57:29] \"POST /_dash-update-component HTTP/1.1\" 200 -\n",
      "127.0.0.1 - - [17/Dec/2021 12:57:34] \"POST /_dash-update-component HTTP/1.1\" 200 -\n"
     ]
    }
   ],
   "source": [
    "app.run_server()"
   ]
  },
  {
   "cell_type": "code",
   "execution_count": null,
   "id": "1c35d8fd",
   "metadata": {},
   "outputs": [],
   "source": []
  }
 ],
 "metadata": {
  "kernelspec": {
   "display_name": "Python 3 (ipykernel)",
   "language": "python",
   "name": "python3"
  },
  "language_info": {
   "codemirror_mode": {
    "name": "ipython",
    "version": 3
   },
   "file_extension": ".py",
   "mimetype": "text/x-python",
   "name": "python",
   "nbconvert_exporter": "python",
   "pygments_lexer": "ipython3",
   "version": "3.7.6"
  }
 },
 "nbformat": 4,
 "nbformat_minor": 5
}
