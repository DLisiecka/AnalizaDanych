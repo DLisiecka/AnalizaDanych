{
 "cells": [
  {
   "cell_type": "code",
   "execution_count": 24,
   "metadata": {},
   "outputs": [],
   "source": [
    "import dash\n",
    "import dash_core_components as dcc\n",
    "import dash_html_components as html\n",
    "import plotly.express as px\n",
    "import pandas as pd"
   ]
  },
  {
   "cell_type": "code",
   "execution_count": 13,
   "metadata": {},
   "outputs": [],
   "source": [
    "external_stylesheets=['https://codepen.io/chriddyp/pen/bWLwgP.css']\n",
    "app = dash.Dash(__name__, external_stylesheets=external_stylesheets)"
   ]
  },
  {
   "cell_type": "code",
   "execution_count": 19,
   "metadata": {},
   "outputs": [
    {
     "name": "stdout",
     "output_type": "stream",
     "text": [
      "     Jednostka terytorialna                 Powiat   Rok  Wypadki ogółem  \\\n",
      "0              DOLNOŚLĄSKIE   Powiat bolesławiecki  2014              70   \n",
      "1              DOLNOŚLĄSKIE  Powiat dzierżoniowski  2014              54   \n",
      "2              DOLNOŚLĄSKIE       Powiat głogowski  2014              58   \n",
      "3              DOLNOŚLĄSKIE        Powiat górowski  2014              41   \n",
      "4              DOLNOŚLĄSKIE        Powiat jaworski  2014              63   \n",
      "...                     ...                    ...   ...             ...   \n",
      "2655     ZACHODNIOPOMORSKIE         Powiat wałecki  2020              45   \n",
      "2656     ZACHODNIOPOMORSKIE         Powiat łobeski  2020              21   \n",
      "2657     ZACHODNIOPOMORSKIE      Powiat m.Koszalin  2020              25   \n",
      "2658     ZACHODNIOPOMORSKIE      Powiat m.Szczecin  2020             299   \n",
      "2659     ZACHODNIOPOMORSKIE   Powiat m.Świnoujście  2020              27   \n",
      "\n",
      "      Ofiary śmiertelne  Ranni  \n",
      "0                    11     92  \n",
      "1                     7     66  \n",
      "2                     6     83  \n",
      "3                     1     50  \n",
      "4                     4     92  \n",
      "...                 ...    ...  \n",
      "2655                 11     42  \n",
      "2656                  5     20  \n",
      "2657                  1     26  \n",
      "2658                 10    334  \n",
      "2659                  2     26  \n",
      "\n",
      "[2660 rows x 6 columns]\n"
     ]
    }
   ],
   "source": [
    "df= pd.read_excel('1.1.Wypadki_ogolem_smiertleni_ranni_POW.xlsx')\n",
    "print(df)"
   ]
  },
  {
   "cell_type": "code",
   "execution_count": 40,
   "metadata": {},
   "outputs": [],
   "source": [
    "fig=px.bar(df,x=\"Jednostka terytorialna\",y=\"Wypadki ogółem\", barmode=\"group\")\n"
   ]
  },
  {
   "cell_type": "code",
   "execution_count": 41,
   "metadata": {},
   "outputs": [],
   "source": [
    "app.layout=html.Div(children=[\n",
    "    html.H1(children='Analiza wypadków w latach 2014-2020'),\n",
    "    \n",
    "    dcc.Graph(\n",
    "    id='example',\n",
    "        figure=fig\n",
    "    )\n",
    "])"
   ]
  },
  {
   "cell_type": "code",
   "execution_count": null,
   "metadata": {},
   "outputs": [
    {
     "name": "stdout",
     "output_type": "stream",
     "text": [
      "Dash is running on http://127.0.0.1:8050/\n",
      "\n",
      " * Serving Flask app \"__main__\" (lazy loading)\n",
      " * Environment: production\n",
      "   WARNING: This is a development server. Do not use it in a production deployment.\n",
      "   Use a production WSGI server instead.\n",
      " * Debug mode: off\n"
     ]
    },
    {
     "name": "stderr",
     "output_type": "stream",
     "text": [
      " * Running on http://127.0.0.1:8050/ (Press CTRL+C to quit)\n",
      "127.0.0.1 - - [05/Dec/2021 17:10:37] \"\u001b[37mGET / HTTP/1.1\u001b[0m\" 200 -\n",
      "127.0.0.1 - - [05/Dec/2021 17:10:39] \"\u001b[37mGET /_dash-dependencies HTTP/1.1\u001b[0m\" 200 -\n",
      "127.0.0.1 - - [05/Dec/2021 17:10:39] \"\u001b[37mGET /_dash-layout HTTP/1.1\u001b[0m\" 200 -\n"
     ]
    }
   ],
   "source": [
    "app.run_server()"
   ]
  }
 ],
 "metadata": {
  "kernelspec": {
   "display_name": "Python 3",
   "language": "python",
   "name": "python3"
  },
  "language_info": {
   "codemirror_mode": {
    "name": "ipython",
    "version": 3
   },
   "file_extension": ".py",
   "mimetype": "text/x-python",
   "name": "python",
   "nbconvert_exporter": "python",
   "pygments_lexer": "ipython3",
   "version": "3.8.5"
  }
 },
 "nbformat": 4,
 "nbformat_minor": 4
}
