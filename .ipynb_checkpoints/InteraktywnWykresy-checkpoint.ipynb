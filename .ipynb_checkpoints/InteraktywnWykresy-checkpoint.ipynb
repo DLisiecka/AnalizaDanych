{
 "cells": [
  {
   "cell_type": "code",
   "execution_count": 1,
   "metadata": {},
   "outputs": [],
   "source": [
    "# potrzebne bilioteki\n",
    "import dash\n",
    "import dash_core_components as dcc\n",
    "import dash_html_components as html\n",
    "from dash.dependencies import Output, Input\n",
    "import plotly.express as px\n",
    "import pandas as pd"
   ]
  },
  {
   "cell_type": "code",
   "execution_count": 2,
   "metadata": {
    "scrolled": true
   },
   "outputs": [],
   "source": [
    "# wczytanie danych\n",
    "df=pd.read_excel(r'C:\\Users\\natal\\OneDrive\\Dokumenty\\AnalizaDanych\\DATA\\1.1.Wypadki_ogolem_smiertleni_ranni_POW.xlsx')\n",
    "df_Wypadki=df.groupby([\"Jednostka\", \"Rok\"], as_index = False).sum()\n",
    "# map emotions to a color\n",
    "c = dict(zip(df_Wypadki[\"Jednostka\"].unique(), px.colors.qualitative.G10))"
   ]
  },
  {
   "cell_type": "code",
   "execution_count": 3,
   "metadata": {},
   "outputs": [],
   "source": [
    "external_stylesheets = ['https://codepen.io/chriddyp/pen/bWLwgP.css']\n",
    "app = dash.Dash(__name__, external_stylesheets=external_stylesheets)\n",
    "\n",
    "app.layout = html.Div([\n",
    "    dcc.Location(id='url', refresh=False),\n",
    "    html.Div(id='page-content')\n",
    "])\n",
    "\n",
    "index_page = html.Div([\n",
    "    dcc.Link('Analiza wypadków', href='/page-1', className='button',style = {'marginBottom': '8px'}),\n",
    "    html.Br(),\n",
    "    dcc.Link('Go to Page 2', href='/page-2', className='button'),\n",
    "])\n",
    "\n",
    "page_1_layout = html.Div([\n",
    "        html.H1('Analiza wypadków samochodowych w Polsce w latach 2014-2020'),\n",
    "        html.Div([\n",
    "        dcc.Dropdown(id='dpdn2', value=df_Wypadki['Jednostka'].unique(), multi=True,\n",
    "                     options=[{'label': x, 'value': x} for x in\n",
    "                              df_Wypadki.Jednostka.unique()]),\n",
    "        html.Div([\n",
    "            dcc.Graph(id='my-graph', figure={}, clickData=None, hoverData=None,  \n",
    "                      config={\n",
    "                          'staticPlot': False,     \n",
    "                          'scrollZoom': True,     \n",
    "                          'doubleClick': 'reset',  \n",
    "                          'showTips': False,       \n",
    "                          'displayModeBar': True,  \n",
    "                          'watermark': True,},\n",
    "                      className='' #six columns\n",
    "                      ),\n",
    "            #dcc.Graph(id='pie-graph', figure={}, className='six columns'),\n",
    "            #dcc.Graph(id='pie-graph2', figure={}, className='six columns'),\n",
    "        ]),\n",
    "        html.Div([dcc.Graph(id='pie-graph', figure={}, className='six columns'),#six columns\n",
    "            dcc.Graph(id='pie-graph2', figure={}, className='six columns')]) #six columns\n",
    "    ]), \n",
    "    html.Div(id='page-1-content'),\n",
    "    html.Br(),\n",
    "    dcc.Link('Go to Page 2', href='/page-2'),\n",
    "    html.Br(),\n",
    "    dcc.Link('Go back to home', href='/')\n",
    "])\n",
    "\n",
    "page_2_layout = html.Div([\n",
    "    html.H1('Page 2'),\n",
    "    html.Div(id='page-2-content'),\n",
    "    html.Br(),\n",
    "    dcc.Link('Analiza wypadków', href='/page-1'),\n",
    "    html.Br(),\n",
    "    dcc.Link('Go back to home', href='/')\n",
    "])\n",
    "\n",
    "# Update the index\n",
    "@app.callback(dash.dependencies.Output('page-content', 'children'),\n",
    "              [dash.dependencies.Input('url', 'pathname')])\n",
    "def display_page(pathname):\n",
    "    if pathname == '/page-1':\n",
    "        return page_1_layout\n",
    "    elif pathname == '/page-2':\n",
    "        return page_2_layout\n",
    "    else:\n",
    "        return index_page\n",
    "    # You could also return a 404 \"URL not found\" page here"
   ]
  },
  {
   "cell_type": "code",
   "execution_count": 4,
   "metadata": {},
   "outputs": [],
   "source": [
    "@app.callback(\n",
    "    Output(component_id='my-graph', component_property='figure'),\n",
    "    Input(component_id='dpdn2', component_property='value')\n",
    ")\n",
    "\n",
    "def update_graph(Jednostka_chosen):\n",
    "    dff = df_Wypadki[df_Wypadki.Jednostka.isin(Jednostka_chosen)]\n",
    "    fig = px.line(data_frame=dff, x='Rok', y='Wypadki ogółem', color='Jednostka',\n",
    "                  custom_data=['Jednostka', 'Wypadki ogółem', 'Ofiary śmiertelne', 'Ranni'],\n",
    "                 title=f'Wypadki ogółem: ', color_discrete_map=c)\n",
    "    fig.update_traces(mode='lines+markers')\n",
    "    return fig\n",
    "\n"
   ]
  },
  {
   "cell_type": "code",
   "execution_count": 5,
   "metadata": {},
   "outputs": [],
   "source": [
    "@app.callback(\n",
    "    Output(component_id='pie-graph', component_property='figure'),\n",
    "    Input(component_id='my-graph', component_property='hoverData'),\n",
    "    Input(component_id='my-graph', component_property='clickData'),\n",
    "    Input(component_id='my-graph', component_property='selectedData'),\n",
    "    Input(component_id='dpdn2', component_property='value')\n",
    ")\n",
    "def update_side_graph(hov_data, clk_data, slct_data, Jednostka_chosen):\n",
    "    if hov_data is None:\n",
    "        dff2 = df_Wypadki[df_Wypadki.Jednostka.isin(Jednostka_chosen)]\n",
    "        dff2 = df_Wypadki[df_Wypadki.Rok == 2014]\n",
    "        print(dff2)\n",
    "        fig2 = px.pie(data_frame=dff2, values='Ofiary śmiertelne', names='Jednostka',\n",
    "                      title='Ofiary śmiertelne w 2014',color=\"Jednostka\", color_discrete_map=c)\n",
    "        return fig2\n",
    "    else:\n",
    "        print(f'hover data: {hov_data}')\n",
    "        #print(hov_data['points'][0]['customdata'][0])\n",
    "        #print(f'click data: {clk_data}')\n",
    "        #print(f'selected data: {slct_data}')\n",
    "        dff2 = df_Wypadki[df_Wypadki.Jednostka.isin(Jednostka_chosen)]\n",
    "        hov_year = hov_data['points'][0]['x']\n",
    "        dff2 = dff2[dff2.Rok == hov_year]\n",
    "        fig2 = px.pie(data_frame=dff2, values='Ofiary śmiertelne', names='Jednostka',\n",
    "                      title=f'Ofiary śmiertelne w: {hov_year}',color='Jednostka', color_discrete_map=c)\n",
    "        return fig2\n",
    "    \n",
    "@app.callback(\n",
    "    Output(component_id='pie-graph2', component_property='figure'),\n",
    "    Input(component_id='my-graph', component_property='hoverData'),\n",
    "    Input(component_id='my-graph', component_property='clickData'),\n",
    "    Input(component_id='my-graph', component_property='selectedData'),\n",
    "    Input(component_id='dpdn2', component_property='value')\n",
    ")\n",
    "def update_side_graph(hov_data, clk_data, slct_data, Jednostka_chosen):\n",
    "    if hov_data is None:\n",
    "        dff2 = df_Wypadki[df_Wypadki.Jednostka.isin(Jednostka_chosen)]\n",
    "        dff2 = df_Wypadki[df_Wypadki.Rok == 2014]\n",
    "        print(dff2)\n",
    "        fig2 = px.pie(data_frame=dff2, values='Ranni', names='Jednostka',\n",
    "                      title='Ranni w 2014',color='Jednostka', color_discrete_map=c)\n",
    "        return fig2\n",
    "    else:\n",
    "        print(f'hover data: {hov_data}')\n",
    "        #print(hov_data['points'][0]['customdata'][0])\n",
    "        #print(f'click data: {clk_data}')\n",
    "        #print(f'selected data: {slct_data}')\n",
    "        dff2 = df_Wypadki[df_Wypadki.Jednostka.isin(Jednostka_chosen)]\n",
    "        hov_year = hov_data['points'][0]['x']\n",
    "        dff2 = dff2[dff2.Rok == hov_year]\n",
    "        fig2 = px.pie(data_frame=dff2, values='Ranni', names='Jednostka',\n",
    "                      title=f'Ranni w: {hov_year}',color='Jednostka', color_discrete_map=c)\n",
    "        return fig2\n",
    "        \n"
   ]
  },
  {
   "cell_type": "code",
   "execution_count": null,
   "metadata": {},
   "outputs": [
    {
     "name": "stdout",
     "output_type": "stream",
     "text": [
      "Dash is running on http://127.0.0.1:8050/\n",
      "\n",
      " * Serving Flask app \"__main__\" (lazy loading)\n",
      " * Environment: production\n",
      "   WARNING: This is a development server. Do not use it in a production deployment.\n",
      "   Use a production WSGI server instead.\n",
      " * Debug mode: off\n"
     ]
    },
    {
     "name": "stderr",
     "output_type": "stream",
     "text": [
      " * Running on http://127.0.0.1:8050/ (Press CTRL+C to quit)\n",
      "127.0.0.1 - - [20/Dec/2021 20:31:04] \"\u001b[37mGET / HTTP/1.1\u001b[0m\" 200 -\n",
      "127.0.0.1 - - [20/Dec/2021 20:31:05] \"\u001b[37mGET /_dash-layout HTTP/1.1\u001b[0m\" 200 -\n",
      "127.0.0.1 - - [20/Dec/2021 20:31:05] \"\u001b[37mGET /_dash-dependencies HTTP/1.1\u001b[0m\" 200 -\n",
      "127.0.0.1 - - [20/Dec/2021 20:31:05] \"\u001b[37mPOST /_dash-update-component HTTP/1.1\u001b[0m\" 200 -\n",
      "127.0.0.1 - - [20/Dec/2021 20:31:05] \"\u001b[37mPOST /_dash-update-component HTTP/1.1\u001b[0m\" 200 -\n",
      "127.0.0.1 - - [20/Dec/2021 20:31:08] \"\u001b[37mPOST /_dash-update-component HTTP/1.1\u001b[0m\" 200 -\n"
     ]
    },
    {
     "name": "stdout",
     "output_type": "stream",
     "text": [
      "debug 2 None\n",
      "debug 1 None\n",
      "               Jednostka   Rok  Wypadki ogółem  Ofiary śmiertelne  Ranni\n",
      "0           DOLNOŚLĄSKIE  2014            2466                242   3154\n",
      "7     KUJAWSKO-POMORSKIE  2014            1044                179   1112\n",
      "14             LUBELSKIE  2014            1408                195   1667\n",
      "21              LUBUSKIE  2014             717                 81    957\n",
      "28           MAZOWIECKIE  2014            4385                518   5211\n",
      "35           MAŁOPOLSKIE  2014            3936                234   4805\n",
      "42              OPOLSKIE  2014             738                104    857\n",
      "49          PODKARPACKIE  2014            1751                144   2184\n",
      "56             PODLASKIE  2014             692                126    793\n",
      "63             POMORSKIE  2014            2724                181   3476\n",
      "70   WARMIŃSKO-MAZURSKIE  2014            1645                148   2052\n",
      "77         WIELKOPOLSKIE  2014            2392                268   2808\n",
      "84    ZACHODNIOPOMORSKIE  2014            1418                147   1717\n",
      "91               ŁÓDZKIE  2014            3986                256   4807\n",
      "98               ŚLĄSKIE  2014            4360                249   5324\n",
      "105       ŚWIĘTOKRZYSKIE  2014            1308                130   1621               Jednostka   Rok  Wypadki ogółem  Ofiary śmiertelne  Ranni\n",
      "0           DOLNOŚLĄSKIE  2014            2466                242   3154\n",
      "7     KUJAWSKO-POMORSKIE  2014            1044                179   1112\n",
      "14             LUBELSKIE  2014            1408                195   1667\n",
      "21              LUBUSKIE  2014             717                 81    957\n",
      "28           MAZOWIECKIE  2014            4385                518   5211\n",
      "35           MAŁOPOLSKIE  2014            3936                234   4805\n",
      "42              OPOLSKIE  2014             738                104    857\n",
      "49          PODKARPACKIE  2014            1751                144   2184\n",
      "56             PODLASKIE  2014             692                126    793\n",
      "63             POMORSKIE  2014            2724                181   3476\n",
      "70   WARMIŃSKO-MAZURSKIE  2014            1645                148   2052\n",
      "77         WIELKOPOLSKIE  2014            2392                268   2808\n",
      "84    ZACHODNIOPOMORSKIE  2014            1418                147   1717\n",
      "91               ŁÓDZKIE  2014            3986                256   4807\n",
      "98               ŚLĄSKIE  2014            4360                249   5324\n",
      "105       ŚWIĘTOKRZYSKIE  2014            1308                130   1621\n",
      "\n"
     ]
    },
    {
     "name": "stderr",
     "output_type": "stream",
     "text": [
      "127.0.0.1 - - [20/Dec/2021 20:31:09] \"\u001b[37mPOST /_dash-update-component HTTP/1.1\u001b[0m\" 200 -\n",
      "127.0.0.1 - - [20/Dec/2021 20:31:09] \"\u001b[37mPOST /_dash-update-component HTTP/1.1\u001b[0m\" 200 -\n",
      "127.0.0.1 - - [20/Dec/2021 20:31:09] \"\u001b[37mPOST /_dash-update-component HTTP/1.1\u001b[0m\" 200 -\n",
      "127.0.0.1 - - [20/Dec/2021 20:31:15] \"\u001b[37mPOST /_dash-update-component HTTP/1.1\u001b[0m\" 200 -\n",
      "127.0.0.1 - - [20/Dec/2021 20:31:15] \"\u001b[37mPOST /_dash-update-component HTTP/1.1\u001b[0m\" 200 -\n"
     ]
    },
    {
     "name": "stdout",
     "output_type": "stream",
     "text": [
      "debug 2 {'points': [{'curveNumber': 1, 'pointNumber': 2, 'pointIndex': 2, 'x': 2016, 'y': 1018, 'customdata': ['KUJAWSKO-POMORSKIE', 1018, 178, 1101]}]}\n",
      "hover data: {'points': [{'curveNumber': 1, 'pointNumber': 2, 'pointIndex': 2, 'x': 2016, 'y': 1018, 'customdata': ['KUJAWSKO-POMORSKIE', 1018, 178, 1101]}]}\n",
      "debug 1 {'points': [{'curveNumber': 1, 'pointNumber': 2, 'pointIndex': 2, 'x': 2016, 'y': 1018, 'customdata': ['KUJAWSKO-POMORSKIE', 1018, 178, 1101]}]}\n",
      "hover data: {'points': [{'curveNumber': 1, 'pointNumber': 2, 'pointIndex': 2, 'x': 2016, 'y': 1018, 'customdata': ['KUJAWSKO-POMORSKIE', 1018, 178, 1101]}]}\n"
     ]
    },
    {
     "name": "stderr",
     "output_type": "stream",
     "text": [
      "127.0.0.1 - - [20/Dec/2021 20:31:16] \"\u001b[37mPOST /_dash-update-component HTTP/1.1\u001b[0m\" 200 -\n",
      "127.0.0.1 - - [20/Dec/2021 20:31:16] \"\u001b[37mPOST /_dash-update-component HTTP/1.1\u001b[0m\" 200 -\n"
     ]
    },
    {
     "name": "stdout",
     "output_type": "stream",
     "text": [
      "debug 2 {'points': [{'curveNumber': 3, 'pointNumber': 3, 'pointIndex': 3, 'x': 2017, 'y': 682, 'customdata': ['LUBUSKIE', 682, 84, 855]}]}\n",
      "hover data: {'points': [{'curveNumber': 3, 'pointNumber': 3, 'pointIndex': 3, 'x': 2017, 'y': 682, 'customdata': ['LUBUSKIE', 682, 84, 855]}]}\n",
      "debug 1 {'points': [{'curveNumber': 3, 'pointNumber': 3, 'pointIndex': 3, 'x': 2017, 'y': 682, 'customdata': ['LUBUSKIE', 682, 84, 855]}]}\n",
      "hover data: {'points': [{'curveNumber': 3, 'pointNumber': 3, 'pointIndex': 3, 'x': 2017, 'y': 682, 'customdata': ['LUBUSKIE', 682, 84, 855]}]}\n"
     ]
    },
    {
     "name": "stderr",
     "output_type": "stream",
     "text": [
      "127.0.0.1 - - [20/Dec/2021 20:31:17] \"\u001b[37mPOST /_dash-update-component HTTP/1.1\u001b[0m\" 200 -\n",
      "127.0.0.1 - - [20/Dec/2021 20:31:17] \"\u001b[37mPOST /_dash-update-component HTTP/1.1\u001b[0m\" 200 -\n"
     ]
    },
    {
     "name": "stdout",
     "output_type": "stream",
     "text": [
      "debug 2 {'points': [{'curveNumber': 3, 'pointNumber': 4, 'pointIndex': 4, 'x': 2018, 'y': 663, 'customdata': ['LUBUSKIE', 663, 79, 790]}]}\n",
      "hover data: {'points': [{'curveNumber': 3, 'pointNumber': 4, 'pointIndex': 4, 'x': 2018, 'y': 663, 'customdata': ['LUBUSKIE', 663, 79, 790]}]}\n",
      "debug 1 {'points': [{'curveNumber': 3, 'pointNumber': 4, 'pointIndex': 4, 'x': 2018, 'y': 663, 'customdata': ['LUBUSKIE', 663, 79, 790]}]}\n",
      "hover data: {'points': [{'curveNumber': 3, 'pointNumber': 4, 'pointIndex': 4, 'x': 2018, 'y': 663, 'customdata': ['LUBUSKIE', 663, 79, 790]}]}\n"
     ]
    },
    {
     "name": "stderr",
     "output_type": "stream",
     "text": [
      "127.0.0.1 - - [20/Dec/2021 20:31:18] \"\u001b[37mPOST /_dash-update-component HTTP/1.1\u001b[0m\" 200 -\n",
      "127.0.0.1 - - [20/Dec/2021 20:31:18] \"\u001b[37mPOST /_dash-update-component HTTP/1.1\u001b[0m\" 200 -\n"
     ]
    },
    {
     "name": "stdout",
     "output_type": "stream",
     "text": [
      "debug 2 {'points': [{'curveNumber': 1, 'pointNumber': 3, 'pointIndex': 3, 'x': 2017, 'y': 949, 'customdata': ['KUJAWSKO-POMORSKIE', 949, 151, 1080]}]}\n",
      "hover data: {'points': [{'curveNumber': 1, 'pointNumber': 3, 'pointIndex': 3, 'x': 2017, 'y': 949, 'customdata': ['KUJAWSKO-POMORSKIE', 949, 151, 1080]}]}\n",
      "debug 1 {'points': [{'curveNumber': 1, 'pointNumber': 3, 'pointIndex': 3, 'x': 2017, 'y': 949, 'customdata': ['KUJAWSKO-POMORSKIE', 949, 151, 1080]}]}\n",
      "hover data: {'points': [{'curveNumber': 1, 'pointNumber': 3, 'pointIndex': 3, 'x': 2017, 'y': 949, 'customdata': ['KUJAWSKO-POMORSKIE', 949, 151, 1080]}]}\n"
     ]
    }
   ],
   "source": [
    "\n",
    "if __name__ == '__main__':\n",
    "    app.run_server()"
   ]
  }
 ],
 "metadata": {
  "kernelspec": {
   "display_name": "Python 3",
   "language": "python",
   "name": "python3"
  },
  "language_info": {
   "codemirror_mode": {
    "name": "ipython",
    "version": 3
   },
   "file_extension": ".py",
   "mimetype": "text/x-python",
   "name": "python",
   "nbconvert_exporter": "python",
   "pygments_lexer": "ipython3",
   "version": "3.8.5"
  }
 },
 "nbformat": 4,
 "nbformat_minor": 4
}
