{
 "cells": [
  {
   "cell_type": "code",
   "execution_count": 1,
   "metadata": {},
   "outputs": [],
   "source": [
    "# potrzebne bilioteki\n",
    "import dash\n",
    "import dash_core_components as dcc\n",
    "import dash_html_components as html\n",
    "from dash.dependencies import Output, Input\n",
    "import plotly.express as px\n",
    "import pandas as pd"
   ]
  },
  {
   "cell_type": "code",
   "execution_count": 2,
   "metadata": {
    "scrolled": true
   },
   "outputs": [],
   "source": [
    "# wczytanie danych #uwaga przerobiłam tabelke bo nie działało na zgrupowanych danych - do poprawy\n",
    "df_Wypadki=pd.read_excel(r'C:\\Users\\natal\\OneDrive\\Dokumenty\\AnalizaDanych\\DATA\\test.xlsx')\n",
    "# map emotions to a color\n",
    "c = dict(zip(df_Wypadki[\"Jednostka\"].unique(), px.colors.qualitative.G10))"
   ]
  },
  {
   "cell_type": "code",
   "execution_count": 3,
   "metadata": {},
   "outputs": [],
   "source": [
    "external_stylesheets = ['https://codepen.io/chriddyp/pen/bWLwgP.css']\n",
    "app = dash.Dash(__name__, external_stylesheets=external_stylesheets)\n",
    "\n",
    "app.layout = html.Div([\n",
    "    dcc.Dropdown(id='dpdn2', value=df_Wypadki['Jednostka'].unique(), multi=True,\n",
    "                 options=[{'label': x, 'value': x} for x in\n",
    "                          df_Wypadki.Jednostka.unique()]),\n",
    "    html.Div([\n",
    "        dcc.Graph(id='my-graph', figure={}, clickData=None, hoverData=None,  \n",
    "                  config={\n",
    "                      'staticPlot': False,     \n",
    "                      'scrollZoom': True,     \n",
    "                      'doubleClick': 'reset',  \n",
    "                      'showTips': False,       \n",
    "                      'displayModeBar': True,  \n",
    "                      'watermark': True,},\n",
    "                  className='' #six columns\n",
    "                  ),\n",
    "        #dcc.Graph(id='pie-graph', figure={}, className='six columns'),\n",
    "        #dcc.Graph(id='pie-graph2', figure={}, className='six columns'),\n",
    "    ]),\n",
    "    html.Div([dcc.Graph(id='pie-graph', figure={}, className='six columns'),#six columns\n",
    "        dcc.Graph(id='pie-graph2', figure={}, className='six columns')]) #six columns\n",
    "]) "
   ]
  },
  {
   "cell_type": "code",
   "execution_count": 4,
   "metadata": {},
   "outputs": [],
   "source": [
    "@app.callback(\n",
    "    Output(component_id='my-graph', component_property='figure'),\n",
    "    Input(component_id='dpdn2', component_property='value')\n",
    ")\n",
    "\n",
    "def update_graph(Jednostka_chosen):\n",
    "    dff = df_Wypadki[df_Wypadki.Jednostka.isin(Jednostka_chosen)]\n",
    "    fig = px.line(data_frame=dff, x='Rok', y='Wypadki ogółem', color='Jednostka',\n",
    "                  custom_data=['Jednostka', 'Wypadki ogółem', 'Ofiary śmiertelne', 'Ranni'],\n",
    "                 title=f'Wypadki ogółem: ', color_discrete_map=c)\n",
    "    fig.update_traces(mode='lines+markers')\n",
    "    return fig\n",
    "\n"
   ]
  },
  {
   "cell_type": "code",
   "execution_count": 5,
   "metadata": {},
   "outputs": [],
   "source": [
    "@app.callback(\n",
    "    Output(component_id='pie-graph', component_property='figure'),\n",
    "    Input(component_id='my-graph', component_property='hoverData'),\n",
    "    Input(component_id='my-graph', component_property='clickData'),\n",
    "    Input(component_id='my-graph', component_property='selectedData'),\n",
    "    Input(component_id='dpdn2', component_property='value')\n",
    ")\n",
    "def update_side_graph(hov_data, clk_data, slct_data, Jednostka_chosen):\n",
    "    if hov_data is None:\n",
    "        dff2 = df_Wypadki[df_Wypadki.Jednostka.isin(Jednostka_chosen)]\n",
    "        dff2 = df_Wypadki[df_Wypadki.Rok == 2014]\n",
    "        print(dff2)\n",
    "        fig2 = px.pie(data_frame=dff2, values='Ofiary śmiertelne', names='Jednostka',\n",
    "                      title='Ofiary śmiertelne w 2014',color=\"emotion\", color_discrete_map=c)\n",
    "        return fig2\n",
    "    else:\n",
    "        print(f'hover data: {hov_data}')\n",
    "        #print(hov_data['points'][0]['customdata'][0])\n",
    "        #print(f'click data: {clk_data}')\n",
    "        #print(f'selected data: {slct_data}')\n",
    "        dff2 = df_Wypadki[df_Wypadki.Jednostka.isin(Jednostka_chosen)]\n",
    "        hov_year = hov_data['points'][0]['x']\n",
    "        dff2 = dff2[dff2.Rok == hov_year]\n",
    "        fig2 = px.pie(data_frame=dff2, values='Ofiary śmiertelne', names='Jednostka',\n",
    "                      title=f'Ofiary śmiertelne w: {hov_year}',color='Jednostka', color_discrete_map=c)\n",
    "        return fig2\n",
    "    \n",
    "@app.callback(\n",
    "    Output(component_id='pie-graph2', component_property='figure'),\n",
    "    Input(component_id='my-graph', component_property='hoverData'),\n",
    "    Input(component_id='my-graph', component_property='clickData'),\n",
    "    Input(component_id='my-graph', component_property='selectedData'),\n",
    "    Input(component_id='dpdn2', component_property='value')\n",
    ")\n",
    "def update_side_graph(hov_data, clk_data, slct_data, Jednostka_chosen):\n",
    "    if hov_data is None:\n",
    "        dff2 = df_Wypadki[df_Wypadki.Jednostka.isin(Jednostka_chosen)]\n",
    "        dff2 = df_Wypadki[df_Wypadki.Rok == 2014]\n",
    "        print(dff2)\n",
    "        fig2 = px.pie(data_frame=dff2, values='Ranni', names='Jednostka',\n",
    "                      title='Ranni w 2014',color='Jednostka', color_discrete_map=c)\n",
    "        return fig2\n",
    "    else:\n",
    "        print(f'hover data: {hov_data}')\n",
    "        #print(hov_data['points'][0]['customdata'][0])\n",
    "        #print(f'click data: {clk_data}')\n",
    "        #print(f'selected data: {slct_data}')\n",
    "        dff2 = df_Wypadki[df_Wypadki.Jednostka.isin(Jednostka_chosen)]\n",
    "        hov_year = hov_data['points'][0]['x']\n",
    "        dff2 = dff2[dff2.Rok == hov_year]\n",
    "        fig2 = px.pie(data_frame=dff2, values='Ranni', names='Jednostka',\n",
    "                      title=f'Ranni w: {hov_year}',color='Jednostka', color_discrete_map=c)\n",
    "        return fig2\n",
    "        \n"
   ]
  },
  {
   "cell_type": "code",
   "execution_count": null,
   "metadata": {},
   "outputs": [
    {
     "name": "stdout",
     "output_type": "stream",
     "text": [
      "Dash is running on http://127.0.0.1:8050/\n",
      "\n",
      " * Serving Flask app \"__main__\" (lazy loading)\n",
      " * Environment: production\n",
      "   WARNING: This is a development server. Do not use it in a production deployment.\n",
      "   Use a production WSGI server instead.\n",
      " * Debug mode: off\n"
     ]
    },
    {
     "name": "stderr",
     "output_type": "stream",
     "text": [
      " * Running on http://127.0.0.1:8050/ (Press CTRL+C to quit)\n",
      "127.0.0.1 - - [18/Dec/2021 22:03:48] \"\u001b[37mGET / HTTP/1.1\u001b[0m\" 200 -\n",
      "127.0.0.1 - - [18/Dec/2021 22:03:49] \"\u001b[37mGET /_dash-dependencies HTTP/1.1\u001b[0m\" 200 -\n",
      "127.0.0.1 - - [18/Dec/2021 22:03:49] \"\u001b[37mGET /_dash-layout HTTP/1.1\u001b[0m\" 200 -\n"
     ]
    },
    {
     "name": "stdout",
     "output_type": "stream",
     "text": [
      "               Jednostka   Rok  Wypadki ogółem  Ofiary śmiertelne  Ranni\n",
      "0           DOLNOŚLĄSKIE  2014            2466                242   3154\n",
      "7     KUJAWSKO-POMORSKIE  2014            1044                179   1112\n",
      "14             LUBELSKIE  2014            1408                195   1667\n",
      "21              LUBUSKIE  2014             717                 81    957\n",
      "28               ŁÓDZKIE  2014            3986                256   4807\n",
      "35           MAŁOPOLSKIE  2014            3936                234   4805\n",
      "42           MAZOWIECKIE  2014            4385                518   5211\n",
      "49              OPOLSKIE  2014             738                104    857\n",
      "56          PODKARPACKIE  2014            1751                144   2184\n",
      "63             PODLASKIE  2014             692                126    793\n",
      "70             POMORSKIE  2014            2724                181   3476\n",
      "77               ŚLĄSKIE  2014            4360                249   5324\n",
      "84        ŚWIĘTOKRZYSKIE  2014            1308                130   1621\n",
      "91   WARMIŃSKO-MAZURSKIE  2014            1645                148   2052\n",
      "98         WIELKOPOLSKIE  2014            2392                268   2808\n",
      "105   ZACHODNIOPOMORSKIE  2014            1418                147   1717               Jednostka   Rok  Wypadki ogółem  Ofiary śmiertelne  Ranni\n",
      "0           DOLNOŚLĄSKIE  2014            2466                242   3154\n",
      "7     KUJAWSKO-POMORSKIE  2014            1044                179   1112\n",
      "14             LUBELSKIE  2014            1408                195   1667\n",
      "21              LUBUSKIE  2014             717                 81    957\n",
      "28               ŁÓDZKIE  2014            3986                256   4807\n",
      "35           MAŁOPOLSKIE  2014            3936                234   4805\n",
      "42           MAZOWIECKIE  2014            4385                518   5211\n",
      "49              OPOLSKIE  2014             738                104    857\n",
      "56          PODKARPACKIE  2014            1751                144   2184\n",
      "63             PODLASKIE  2014             692                126    793\n",
      "70             POMORSKIE  2014            2724                181   3476\n",
      "77               ŚLĄSKIE  2014            4360                249   5324\n",
      "84        ŚWIĘTOKRZYSKIE  2014            1308                130   1621\n",
      "91   WARMIŃSKO-MAZURSKIE  2014            1645                148   2052\n",
      "98         WIELKOPOLSKIE  2014            2392                268   2808\n",
      "105   ZACHODNIOPOMORSKIE  2014            1418                147   1717\n",
      "\n",
      "Exception on /_dash-update-component [POST]\n",
      "Traceback (most recent call last):\n",
      "  File \"C:\\Users\\natal\\anaconda3\\lib\\site-packages\\flask\\app.py\", line 2447, in wsgi_app\n",
      "    response = self.full_dispatch_request()\n",
      "  File \"C:\\Users\\natal\\anaconda3\\lib\\site-packages\\flask\\app.py\", line 1952, in full_dispatch_request\n",
      "    rv = self.handle_user_exception(e)\n",
      "  File \"C:\\Users\\natal\\anaconda3\\lib\\site-packages\\flask\\app.py\", line 1821, in handle_user_exception\n",
      "    reraise(exc_type, exc_value, tb)\n",
      "  File \"C:\\Users\\natal\\anaconda3\\lib\\site-packages\\flask\\_compat.py\", line 39, in reraise\n",
      "    raise value\n",
      "  File \"C:\\Users\\natal\\anaconda3\\lib\\site-packages\\flask\\app.py\", line 1950, in full_dispatch_request\n",
      "    rv = self.dispatch_request()\n",
      "  File \"C:\\Users\\natal\\anaconda3\\lib\\site-packages\\flask\\app.py\", line 1936, in dispatch_request\n",
      "    return self.view_functions[rule.endpoint](**req.view_args)\n",
      "  File \"C:\\Users\\natal\\anaconda3\\lib\\site-packages\\dash\\dash.py\", line 1078, in dispatch\n",
      "    response.set_data(func(*args, outputs_list=outputs_list))\n",
      "  File \"C:\\Users\\natal\\anaconda3\\lib\\site-packages\\dash\\dash.py\", line 1009, in add_context\n",
      "    output_value = func(*args, **kwargs)  # %% callback invoked %%\n",
      "  File \"<ipython-input-5-e119718bb826>\", line 13, in update_side_graph\n",
      "    fig2 = px.pie(data_frame=dff2, values='Ofiary śmiertelne', names='Jednostka',\n",
      "  File \"C:\\Users\\natal\\anaconda3\\lib\\site-packages\\plotly\\express\\_chart_types.py\", line 1364, in pie\n",
      "    return make_figure(\n",
      "  File \"C:\\Users\\natal\\anaconda3\\lib\\site-packages\\plotly\\express\\_core.py\", line 1879, in make_figure\n",
      "    args = build_dataframe(args, constructor)\n",
      "  File \"C:\\Users\\natal\\anaconda3\\lib\\site-packages\\plotly\\express\\_core.py\", line 1399, in build_dataframe\n",
      "    df_output, wide_id_vars = process_args_into_dataframe(\n",
      "  File \"C:\\Users\\natal\\anaconda3\\lib\\site-packages\\plotly\\express\\_core.py\", line 1205, in process_args_into_dataframe\n",
      "    raise ValueError(err_msg)\n",
      "ValueError: Value of 'color' is not the name of a column in 'data_frame'. Expected one of ['Jednostka', 'Rok', 'Wypadki ogółem', 'Ofiary śmiertelne', 'Ranni'] but received: emotion\n"
     ]
    },
    {
     "name": "stderr",
     "output_type": "stream",
     "text": [
      "127.0.0.1 - - [18/Dec/2021 22:03:49] \"\u001b[35m\u001b[1mPOST /_dash-update-component HTTP/1.1\u001b[0m\" 500 -\n",
      "127.0.0.1 - - [18/Dec/2021 22:03:50] \"\u001b[37mPOST /_dash-update-component HTTP/1.1\u001b[0m\" 200 -\n",
      "127.0.0.1 - - [18/Dec/2021 22:03:50] \"\u001b[37mPOST /_dash-update-component HTTP/1.1\u001b[0m\" 200 -\n",
      "127.0.0.1 - - [18/Dec/2021 22:03:51] \"\u001b[37mPOST /_dash-update-component HTTP/1.1\u001b[0m\" 200 -\n",
      "127.0.0.1 - - [18/Dec/2021 22:03:51] \"\u001b[37mPOST /_dash-update-component HTTP/1.1\u001b[0m\" 200 -\n"
     ]
    },
    {
     "name": "stdout",
     "output_type": "stream",
     "text": [
      "hover data: {'points': [{'curveNumber': 3, 'pointNumber': 4, 'pointIndex': 4, 'x': 2018, 'y': 663, 'customdata': ['LUBUSKIE', 663, 79, 790]}]}\n",
      "hover data: {'points': [{'curveNumber': 3, 'pointNumber': 4, 'pointIndex': 4, 'x': 2018, 'y': 663, 'customdata': ['LUBUSKIE', 663, 79, 790]}]}\n",
      "hover data: {'points': [{'curveNumber': 7, 'pointNumber': 4, 'pointIndex': 4, 'x': 2018, 'y': 705, 'customdata': ['OPOLSKIE', 705, 81, 787]}]}\n",
      "hover data: {'points': [{'curveNumber': 7, 'pointNumber': 4, 'pointIndex': 4, 'x': 2018, 'y': 705, 'customdata': ['OPOLSKIE', 705, 81, 787]}]}\n"
     ]
    },
    {
     "name": "stderr",
     "output_type": "stream",
     "text": [
      "127.0.0.1 - - [18/Dec/2021 22:03:52] \"\u001b[37mPOST /_dash-update-component HTTP/1.1\u001b[0m\" 200 -\n",
      "127.0.0.1 - - [18/Dec/2021 22:03:52] \"\u001b[37mPOST /_dash-update-component HTTP/1.1\u001b[0m\" 200 -\n",
      "127.0.0.1 - - [18/Dec/2021 22:03:52] \"\u001b[37mPOST /_dash-update-component HTTP/1.1\u001b[0m\" 200 -\n",
      "127.0.0.1 - - [18/Dec/2021 22:03:52] \"\u001b[37mPOST /_dash-update-component HTTP/1.1\u001b[0m\" 200 -\n"
     ]
    },
    {
     "name": "stdout",
     "output_type": "stream",
     "text": [
      "hover data: {'points': [{'curveNumber': 3, 'pointNumber': 4, 'pointIndex': 4, 'x': 2018, 'y': 663, 'customdata': ['LUBUSKIE', 663, 79, 790]}]}\n",
      "hover data: {'points': [{'curveNumber': 3, 'pointNumber': 4, 'pointIndex': 4, 'x': 2018, 'y': 663, 'customdata': ['LUBUSKIE', 663, 79, 790]}]}\n"
     ]
    },
    {
     "name": "stderr",
     "output_type": "stream",
     "text": [
      "127.0.0.1 - - [18/Dec/2021 22:03:53] \"\u001b[37mPOST /_dash-update-component HTTP/1.1\u001b[0m\" 200 -\n",
      "127.0.0.1 - - [18/Dec/2021 22:03:53] \"\u001b[37mPOST /_dash-update-component HTTP/1.1\u001b[0m\" 200 -\n"
     ]
    },
    {
     "name": "stdout",
     "output_type": "stream",
     "text": [
      "hover data: {'points': [{'curveNumber': 3, 'pointNumber': 3, 'pointIndex': 3, 'x': 2017, 'y': 682, 'customdata': ['LUBUSKIE', 682, 84, 855]}]}\n",
      "hover data: {'points': [{'curveNumber': 3, 'pointNumber': 3, 'pointIndex': 3, 'x': 2017, 'y': 682, 'customdata': ['LUBUSKIE', 682, 84, 855]}]}\n"
     ]
    },
    {
     "name": "stderr",
     "output_type": "stream",
     "text": [
      "127.0.0.1 - - [18/Dec/2021 22:03:54] \"\u001b[37mPOST /_dash-update-component HTTP/1.1\u001b[0m\" 200 -\n",
      "127.0.0.1 - - [18/Dec/2021 22:03:54] \"\u001b[37mPOST /_dash-update-component HTTP/1.1\u001b[0m\" 200 -\n"
     ]
    },
    {
     "name": "stdout",
     "output_type": "stream",
     "text": [
      "hover data: {'points': [{'curveNumber': 3, 'pointNumber': 4, 'pointIndex': 4, 'x': 2018, 'y': 663, 'customdata': ['LUBUSKIE', 663, 79, 790]}]}\n",
      "hover data: {'points': [{'curveNumber': 3, 'pointNumber': 4, 'pointIndex': 4, 'x': 2018, 'y': 663, 'customdata': ['LUBUSKIE', 663, 79, 790]}]}\n"
     ]
    },
    {
     "name": "stderr",
     "output_type": "stream",
     "text": [
      "127.0.0.1 - - [18/Dec/2021 22:03:55] \"\u001b[37mPOST /_dash-update-component HTTP/1.1\u001b[0m\" 200 -\n",
      "127.0.0.1 - - [18/Dec/2021 22:03:55] \"\u001b[37mPOST /_dash-update-component HTTP/1.1\u001b[0m\" 200 -\n"
     ]
    },
    {
     "name": "stdout",
     "output_type": "stream",
     "text": [
      "hover data: {'points': [{'curveNumber': 3, 'pointNumber': 3, 'pointIndex': 3, 'x': 2017, 'y': 682, 'customdata': ['LUBUSKIE', 682, 84, 855]}]}\n",
      "hover data: {'points': [{'curveNumber': 3, 'pointNumber': 3, 'pointIndex': 3, 'x': 2017, 'y': 682, 'customdata': ['LUBUSKIE', 682, 84, 855]}]}\n"
     ]
    },
    {
     "name": "stderr",
     "output_type": "stream",
     "text": [
      "127.0.0.1 - - [18/Dec/2021 22:03:56] \"\u001b[37mPOST /_dash-update-component HTTP/1.1\u001b[0m\" 200 -\n",
      "127.0.0.1 - - [18/Dec/2021 22:03:56] \"\u001b[37mPOST /_dash-update-component HTTP/1.1\u001b[0m\" 200 -\n"
     ]
    },
    {
     "name": "stdout",
     "output_type": "stream",
     "text": [
      "hover data: {'points': [{'curveNumber': 3, 'pointNumber': 4, 'pointIndex': 4, 'x': 2018, 'y': 663, 'customdata': ['LUBUSKIE', 663, 79, 790]}]}\n",
      "hover data: {'points': [{'curveNumber': 3, 'pointNumber': 4, 'pointIndex': 4, 'x': 2018, 'y': 663, 'customdata': ['LUBUSKIE', 663, 79, 790]}]}\n"
     ]
    },
    {
     "name": "stderr",
     "output_type": "stream",
     "text": [
      "127.0.0.1 - - [18/Dec/2021 22:03:56] \"\u001b[37mPOST /_dash-update-component HTTP/1.1\u001b[0m\" 200 -\n",
      "127.0.0.1 - - [18/Dec/2021 22:03:56] \"\u001b[37mPOST /_dash-update-component HTTP/1.1\u001b[0m\" 200 -\n"
     ]
    },
    {
     "name": "stdout",
     "output_type": "stream",
     "text": [
      "hover data: {'points': [{'curveNumber': 3, 'pointNumber': 4, 'pointIndex': 4, 'x': 2018, 'y': 663, 'customdata': ['LUBUSKIE', 663, 79, 790]}]}\n",
      "hover data: {'points': [{'curveNumber': 3, 'pointNumber': 4, 'pointIndex': 4, 'x': 2018, 'y': 663, 'customdata': ['LUBUSKIE', 663, 79, 790]}]}\n"
     ]
    },
    {
     "name": "stderr",
     "output_type": "stream",
     "text": [
      "127.0.0.1 - - [18/Dec/2021 22:03:57] \"\u001b[37mPOST /_dash-update-component HTTP/1.1\u001b[0m\" 200 -\n",
      "127.0.0.1 - - [18/Dec/2021 22:03:57] \"\u001b[37mPOST /_dash-update-component HTTP/1.1\u001b[0m\" 200 -\n"
     ]
    },
    {
     "name": "stdout",
     "output_type": "stream",
     "text": [
      "hover data: {'points': [{'curveNumber': 3, 'pointNumber': 3, 'pointIndex': 3, 'x': 2017, 'y': 682, 'customdata': ['LUBUSKIE', 682, 84, 855]}]}\n",
      "hover data: {'points': [{'curveNumber': 3, 'pointNumber': 3, 'pointIndex': 3, 'x': 2017, 'y': 682, 'customdata': ['LUBUSKIE', 682, 84, 855]}]}\n"
     ]
    },
    {
     "name": "stderr",
     "output_type": "stream",
     "text": [
      "127.0.0.1 - - [18/Dec/2021 22:03:58] \"\u001b[37mPOST /_dash-update-component HTTP/1.1\u001b[0m\" 200 -\n",
      "127.0.0.1 - - [18/Dec/2021 22:03:58] \"\u001b[37mPOST /_dash-update-component HTTP/1.1\u001b[0m\" 200 -\n"
     ]
    },
    {
     "name": "stdout",
     "output_type": "stream",
     "text": [
      "hover data: {'points': [{'curveNumber': 3, 'pointNumber': 4, 'pointIndex': 4, 'x': 2018, 'y': 663, 'customdata': ['LUBUSKIE', 663, 79, 790]}]}\n",
      "hover data: {'points': [{'curveNumber': 3, 'pointNumber': 4, 'pointIndex': 4, 'x': 2018, 'y': 663, 'customdata': ['LUBUSKIE', 663, 79, 790]}]}\n"
     ]
    },
    {
     "name": "stderr",
     "output_type": "stream",
     "text": [
      "127.0.0.1 - - [18/Dec/2021 22:03:59] \"\u001b[37mPOST /_dash-update-component HTTP/1.1\u001b[0m\" 200 -\n",
      "127.0.0.1 - - [18/Dec/2021 22:03:59] \"\u001b[37mPOST /_dash-update-component HTTP/1.1\u001b[0m\" 200 -\n"
     ]
    },
    {
     "name": "stdout",
     "output_type": "stream",
     "text": [
      "hover data: {'points': [{'curveNumber': 3, 'pointNumber': 4, 'pointIndex': 4, 'x': 2018, 'y': 663, 'customdata': ['LUBUSKIE', 663, 79, 790]}]}\n",
      "hover data: {'points': [{'curveNumber': 3, 'pointNumber': 4, 'pointIndex': 4, 'x': 2018, 'y': 663, 'customdata': ['LUBUSKIE', 663, 79, 790]}]}\n"
     ]
    },
    {
     "name": "stderr",
     "output_type": "stream",
     "text": [
      "127.0.0.1 - - [18/Dec/2021 22:04:00] \"\u001b[37mPOST /_dash-update-component HTTP/1.1\u001b[0m\" 200 -\n",
      "127.0.0.1 - - [18/Dec/2021 22:04:00] \"\u001b[37mPOST /_dash-update-component HTTP/1.1\u001b[0m\" 200 -\n"
     ]
    },
    {
     "name": "stdout",
     "output_type": "stream",
     "text": [
      "hover data: {'points': [{'curveNumber': 3, 'pointNumber': 3, 'pointIndex': 3, 'x': 2017, 'y': 682, 'customdata': ['LUBUSKIE', 682, 84, 855]}]}\n",
      "hover data: {'points': [{'curveNumber': 3, 'pointNumber': 3, 'pointIndex': 3, 'x': 2017, 'y': 682, 'customdata': ['LUBUSKIE', 682, 84, 855]}]}\n"
     ]
    },
    {
     "name": "stderr",
     "output_type": "stream",
     "text": [
      "127.0.0.1 - - [18/Dec/2021 22:04:01] \"\u001b[37mPOST /_dash-update-component HTTP/1.1\u001b[0m\" 200 -\n",
      "127.0.0.1 - - [18/Dec/2021 22:04:01] \"\u001b[37mPOST /_dash-update-component HTTP/1.1\u001b[0m\" 200 -\n"
     ]
    },
    {
     "name": "stdout",
     "output_type": "stream",
     "text": [
      "hover data: {'points': [{'curveNumber': 3, 'pointNumber': 4, 'pointIndex': 4, 'x': 2018, 'y': 663, 'customdata': ['LUBUSKIE', 663, 79, 790]}]}\n",
      "hover data: {'points': [{'curveNumber': 3, 'pointNumber': 4, 'pointIndex': 4, 'x': 2018, 'y': 663, 'customdata': ['LUBUSKIE', 663, 79, 790]}]}\n"
     ]
    },
    {
     "name": "stderr",
     "output_type": "stream",
     "text": [
      "127.0.0.1 - - [18/Dec/2021 22:04:02] \"\u001b[37mPOST /_dash-update-component HTTP/1.1\u001b[0m\" 200 -\n",
      "127.0.0.1 - - [18/Dec/2021 22:04:02] \"\u001b[37mPOST /_dash-update-component HTTP/1.1\u001b[0m\" 200 -\n"
     ]
    },
    {
     "name": "stdout",
     "output_type": "stream",
     "text": [
      "hover data: {'points': [{'curveNumber': 9, 'pointNumber': 5, 'pointIndex': 5, 'x': 2019, 'y': 585, 'customdata': ['PODLASKIE', 585, 106, 620]}]}\n",
      "hover data: {'points': [{'curveNumber': 9, 'pointNumber': 5, 'pointIndex': 5, 'x': 2019, 'y': 585, 'customdata': ['PODLASKIE', 585, 106, 620]}]}\n"
     ]
    },
    {
     "name": "stderr",
     "output_type": "stream",
     "text": [
      "127.0.0.1 - - [18/Dec/2021 22:04:04] \"\u001b[37mPOST /_dash-update-component HTTP/1.1\u001b[0m\" 200 -\n",
      "127.0.0.1 - - [18/Dec/2021 22:04:04] \"\u001b[37mPOST /_dash-update-component HTTP/1.1\u001b[0m\" 200 -\n"
     ]
    },
    {
     "name": "stdout",
     "output_type": "stream",
     "text": [
      "hover data: {'points': [{'curveNumber': 9, 'pointNumber': 6, 'pointIndex': 6, 'x': 2020, 'y': 430, 'customdata': ['PODLASKIE', 430, 78, 451]}]}\n",
      "hover data: {'points': [{'curveNumber': 9, 'pointNumber': 6, 'pointIndex': 6, 'x': 2020, 'y': 430, 'customdata': ['PODLASKIE', 430, 78, 451]}]}\n"
     ]
    },
    {
     "name": "stderr",
     "output_type": "stream",
     "text": [
      "127.0.0.1 - - [18/Dec/2021 22:04:05] \"\u001b[37mPOST /_dash-update-component HTTP/1.1\u001b[0m\" 200 -\n",
      "127.0.0.1 - - [18/Dec/2021 22:04:05] \"\u001b[37mPOST /_dash-update-component HTTP/1.1\u001b[0m\" 200 -\n"
     ]
    },
    {
     "name": "stdout",
     "output_type": "stream",
     "text": [
      "hover data: {'points': [{'curveNumber': 7, 'pointNumber': 5, 'pointIndex': 5, 'x': 2019, 'y': 614, 'customdata': ['OPOLSKIE', 614, 73, 703]}]}\n",
      "hover data: {'points': [{'curveNumber': 7, 'pointNumber': 5, 'pointIndex': 5, 'x': 2019, 'y': 614, 'customdata': ['OPOLSKIE', 614, 73, 703]}]}\n"
     ]
    },
    {
     "name": "stderr",
     "output_type": "stream",
     "text": [
      "127.0.0.1 - - [18/Dec/2021 22:04:06] \"\u001b[37mPOST /_dash-update-component HTTP/1.1\u001b[0m\" 200 -\n",
      "127.0.0.1 - - [18/Dec/2021 22:04:06] \"\u001b[37mPOST /_dash-update-component HTTP/1.1\u001b[0m\" 200 -\n"
     ]
    },
    {
     "name": "stdout",
     "output_type": "stream",
     "text": [
      "hover data: {'points': [{'curveNumber': 9, 'pointNumber': 5, 'pointIndex': 5, 'x': 2019, 'y': 585, 'customdata': ['PODLASKIE', 585, 106, 620]}]}\n",
      "hover data: {'points': [{'curveNumber': 9, 'pointNumber': 5, 'pointIndex': 5, 'x': 2019, 'y': 585, 'customdata': ['PODLASKIE', 585, 106, 620]}]}\n"
     ]
    },
    {
     "name": "stderr",
     "output_type": "stream",
     "text": [
      "127.0.0.1 - - [18/Dec/2021 22:04:07] \"\u001b[37mPOST /_dash-update-component HTTP/1.1\u001b[0m\" 200 -\n",
      "127.0.0.1 - - [18/Dec/2021 22:04:07] \"\u001b[37mPOST /_dash-update-component HTTP/1.1\u001b[0m\" 200 -\n"
     ]
    },
    {
     "name": "stdout",
     "output_type": "stream",
     "text": [
      "hover data: {'points': [{'curveNumber': 9, 'pointNumber': 6, 'pointIndex': 6, 'x': 2020, 'y': 430, 'customdata': ['PODLASKIE', 430, 78, 451]}]}\n",
      "hover data: {'points': [{'curveNumber': 9, 'pointNumber': 6, 'pointIndex': 6, 'x': 2020, 'y': 430, 'customdata': ['PODLASKIE', 430, 78, 451]}]}\n"
     ]
    },
    {
     "name": "stderr",
     "output_type": "stream",
     "text": [
      "127.0.0.1 - - [18/Dec/2021 22:04:22] \"\u001b[37mPOST /_dash-update-component HTTP/1.1\u001b[0m\" 200 -\n",
      "127.0.0.1 - - [18/Dec/2021 22:04:22] \"\u001b[37mPOST /_dash-update-component HTTP/1.1\u001b[0m\" 200 -\n"
     ]
    },
    {
     "name": "stdout",
     "output_type": "stream",
     "text": [
      "hover data: {'points': [{'curveNumber': 3, 'pointNumber': 3, 'pointIndex': 3, 'x': 2017, 'y': 682, 'customdata': ['LUBUSKIE', 682, 84, 855]}]}\n",
      "hover data: {'points': [{'curveNumber': 3, 'pointNumber': 3, 'pointIndex': 3, 'x': 2017, 'y': 682, 'customdata': ['LUBUSKIE', 682, 84, 855]}]}\n"
     ]
    }
   ],
   "source": [
    "\n",
    "if __name__ == '__main__':\n",
    "    app.run_server()"
   ]
  }
 ],
 "metadata": {
  "kernelspec": {
   "display_name": "Python 3",
   "language": "python",
   "name": "python3"
  },
  "language_info": {
   "codemirror_mode": {
    "name": "ipython",
    "version": 3
   },
   "file_extension": ".py",
   "mimetype": "text/x-python",
   "name": "python",
   "nbconvert_exporter": "python",
   "pygments_lexer": "ipython3",
   "version": "3.8.5"
  }
 },
 "nbformat": 4,
 "nbformat_minor": 4
}
