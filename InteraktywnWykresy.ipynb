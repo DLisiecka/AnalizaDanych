{
 "cells": [
  {
   "cell_type": "code",
   "execution_count": 1,
   "metadata": {},
   "outputs": [],
   "source": [
    "# potrzebne bilioteki\n",
    "import dash\n",
    "import dash_core_components as dcc\n",
    "import dash_html_components as html\n",
    "from dash.dependencies import Output, Input,State\n",
    "from dash_bootstrap_components._components.Container import Container\n",
    "import dash_bootstrap_components as dbc\n",
    "import plotly.express as px\n",
    "import pandas as pd"
   ]
  },
  {
   "cell_type": "code",
   "execution_count": 2,
   "metadata": {
    "scrolled": true
   },
   "outputs": [],
   "source": [
    "# wczytanie danych\n",
    "df=pd.read_excel(r'C:\\Users\\natal\\OneDrive\\Dokumenty\\AnalizaDanych\\DATA\\1.1.Wypadki_ogolem_smiertleni_ranni_POW.xlsx')\n",
    "df_Wypadki=df.groupby([\"Jednostka\", \"Rok\"], as_index = False).sum()\n",
    "# map emotions to a color\n",
    "c = dict(zip(df_Wypadki[\"Jednostka\"].unique(), px.colors.qualitative.G10))"
   ]
  },
  {
   "cell_type": "code",
   "execution_count": 3,
   "metadata": {},
   "outputs": [],
   "source": [
    "external_stylesheets = [dbc.themes.FLATLY]\n",
    "app = dash.Dash(__name__, external_stylesheets=external_stylesheets)"
   ]
  },
  {
   "cell_type": "code",
   "execution_count": 4,
   "metadata": {},
   "outputs": [],
   "source": [
    "#dodanie navbar\n",
    "navbar = dbc.NavbarSimple(\n",
    "    brand=\"Analiza i prognozowanie wypadków drogowych w Polsce na podstawie danych za lata 2014-2020\",\n",
    "    brand_href=\"/\",\n",
    "    color=\"primary\",\n",
    "    dark=True,\n",
    ")\n",
    "\n",
    "\n",
    "app.layout = html.Div([\n",
    "    dcc.Location(id='url', refresh=False),\n",
    "    navbar,\n",
    "    html.Div(id='page-content')\n",
    "])\n",
    "\n",
    "#definicja poszczegolnych kolumn\n",
    "def colGen(href, header, buttonLabel=\"Kliknij\"):\n",
    "    cardStyle = {\n",
    "        'height': '100%',\n",
    "        'minHeight': '180px', \n",
    "        'display': 'flex', \n",
    "        'border': 'none',\n",
    "        'borderRadius': '5px',\n",
    "        'boxShadow': '5px 0 10px 10px #f7f7f7',\n",
    "        'justifyContent': 'space-between'\n",
    "    }\n",
    "    headerStyle = {'margin': 'auto'}\n",
    "\n",
    "    return dbc.Col(\n",
    "        dbc.Card(\n",
    "            children=[\n",
    "                html.H3(\n",
    "                    children=header,\n",
    "                    className=\"text-center\",\n",
    "                    style=headerStyle\n",
    "                ),\n",
    "                dbc.Button(\n",
    "                    buttonLabel,\n",
    "                    href=href,\n",
    "                    color=\"primary\",\n",
    "                    className=\"mt-3\"\n",
    "                ),\n",
    "            ],\n",
    "            body=True, \n",
    "            color=\"dark\", \n",
    "            outline=True,\n",
    "            style=cardStyle\n",
    "        ),\n",
    "        width = 4, \n",
    "        className=\"mb-4\"\n",
    "    )\n",
    "\n",
    "index_page = html.Div([\n",
    "    dbc.Container([\n",
    "        dbc.Row([\n",
    "            dbc.Col(\n",
    "                html.H1(\n",
    "                    \"Projekt na kierunku Data Scientist. Analityk danych\", \n",
    "                    className=\"text-center\"\n",
    "                ), \n",
    "                className=\"mb-5 mt-5\"\n",
    "            )\n",
    "        ]),\n",
    "        dbc.Row([\n",
    "            colGen('/page-1', 'Wizualizacja wypadków ogółem'),\n",
    "            colGen('/page-2', 'Wizualizacja wybranych przyczyn'),\n",
    "            colGen('/', 'Prognoza')\n",
    "        ]),\n",
    "        dbc.Row([\n",
    "            dbc.Col(\n",
    "                html.H5(\n",
    "                    children='Do analizy wykorzystano Dash by Plotly.'\n",
    "                ), \n",
    "                className=\"mb-4\")\n",
    "        ]),\n",
    "        dbc.Row([\n",
    "            dbc.Col(\n",
    "                html.H5(\n",
    "                    children='Po kliknięciu na odpowiednią kartę można przejść do wizualizacji.'\n",
    "                ), \n",
    "                className=\"mb-5\")\n",
    "        ]),\n",
    "        \n",
    "    ]),\n",
    "])\n",
    "        \n",
    "\n",
    "page_1_layout = html.Div([\n",
    "        html.Div([\n",
    "            dcc.Dropdown(id='dpdn2', value=df_Wypadki['Jednostka'].unique(), multi=True,\n",
    "                         options=[{'label': x, 'value': x} for x in df_Wypadki.Jednostka.unique()])\n",
    "        ]),\n",
    "        html.Div([\n",
    "            dcc.Graph(id='my-graph', figure={}, clickData=None, hoverData=None,  \n",
    "                      config={\n",
    "                          'staticPlot': False,     \n",
    "                          'scrollZoom': True,     \n",
    "                          'doubleClick': 'reset',  \n",
    "                          'showTips': False,       \n",
    "                          'displayModeBar': True,  \n",
    "                          'watermark': True,},\n",
    "                      className='' #six columns\n",
    "                      ),\n",
    "        ]),\n",
    "        html.Div(\n",
    "            dbc.Row(\n",
    "                [\n",
    "                    dbc.Col(dcc.Graph(id='pie-graph', figure={})),\n",
    "                    dbc.Col(dcc.Graph(id='pie-graph2', figure={}))\n",
    "                ]\n",
    "            )\n",
    "        ),\n",
    "    html.Div(id='page-1-content'),\n",
    "    html.Br(),\n",
    "    dcc.Link('Go to Page 2', href='/page-2'),\n",
    "    html.Br(),\n",
    "    dcc.Link('Go back to home', href='/')\n",
    "])\n",
    "\n",
    "page_2_layout = html.Div([\n",
    "    html.H1('Page 2'),\n",
    "    html.Div(id='page-2-content'),\n",
    "    html.Br(),\n",
    "    dcc.Link('Analiza wypadków', href='/page-1'),\n",
    "    html.Br(),\n",
    "    dcc.Link('Go back to home', href='/')\n",
    "])\n",
    "\n",
    "# Update the index\n",
    "@app.callback(dash.dependencies.Output('page-content', 'children'),\n",
    "              [dash.dependencies.Input('url', 'pathname')])\n",
    "def display_page(pathname):\n",
    "    if pathname == '/page-1':\n",
    "        return page_1_layout\n",
    "    elif pathname == '/page-2':\n",
    "        return page_2_layout\n",
    "    else:\n",
    "        return index_page\n",
    "    # You could also return a 404 \"URL not found\" page here"
   ]
  },
  {
   "cell_type": "code",
   "execution_count": 5,
   "metadata": {},
   "outputs": [],
   "source": [
    "@app.callback(\n",
    "    Output(component_id='my-graph', component_property='figure'),\n",
    "    Input(component_id='dpdn2', component_property='value')\n",
    ")\n",
    "\n",
    "def update_graph(Jednostka_chosen):\n",
    "    dff = df_Wypadki[df_Wypadki.Jednostka.isin(Jednostka_chosen)]\n",
    "    fig = px.line(data_frame=dff, x='Rok', y='Wypadki ogółem', color='Jednostka',\n",
    "                  custom_data=['Jednostka', 'Wypadki ogółem', 'Ofiary śmiertelne', 'Ranni'],\n",
    "                 title=f'Wypadki ogółem: ', color_discrete_map=c)\n",
    "    fig.update_traces(mode='lines+markers')\n",
    "    return fig\n",
    "\n"
   ]
  },
  {
   "cell_type": "code",
   "execution_count": 6,
   "metadata": {},
   "outputs": [],
   "source": [
    "@app.callback(\n",
    "    Output(component_id='pie-graph', component_property='figure'),\n",
    "    Input(component_id='my-graph', component_property='hoverData'),\n",
    "    Input(component_id='my-graph', component_property='clickData'),\n",
    "    Input(component_id='my-graph', component_property='selectedData'),\n",
    "    Input(component_id='dpdn2', component_property='value')\n",
    ")\n",
    "def update_side_graph(hov_data, clk_data, slct_data, Jednostka_chosen):\n",
    "    if hov_data is None:\n",
    "        dff2 = df_Wypadki[df_Wypadki.Jednostka.isin(Jednostka_chosen)]\n",
    "        dff2 = df_Wypadki[df_Wypadki.Rok == 2014]\n",
    "        print(dff2)\n",
    "        fig2 = px.pie(data_frame=dff2, values='Ofiary śmiertelne', names='Jednostka',\n",
    "                      title='Ofiary śmiertelne w 2014',color=\"Jednostka\", color_discrete_map=c)\n",
    "        return fig2\n",
    "    else:\n",
    "        print(f'hover data: {hov_data}')\n",
    "        #print(hov_data['points'][0]['customdata'][0])\n",
    "        #print(f'click data: {clk_data}')\n",
    "        #print(f'selected data: {slct_data}')\n",
    "        dff2 = df_Wypadki[df_Wypadki.Jednostka.isin(Jednostka_chosen)]\n",
    "        hov_year = hov_data['points'][0]['x']\n",
    "        dff2 = dff2[dff2.Rok == hov_year]\n",
    "        fig2 = px.pie(data_frame=dff2, values='Ofiary śmiertelne', names='Jednostka',\n",
    "                      title=f'Ofiary śmiertelne w: {hov_year}',color='Jednostka', color_discrete_map=c)\n",
    "        return fig2\n",
    "    \n",
    "@app.callback(\n",
    "    Output(component_id='pie-graph2', component_property='figure'),\n",
    "    Input(component_id='my-graph', component_property='hoverData'),\n",
    "    Input(component_id='my-graph', component_property='clickData'),\n",
    "    Input(component_id='my-graph', component_property='selectedData'),\n",
    "    Input(component_id='dpdn2', component_property='value')\n",
    ")\n",
    "def update_side_graph(hov_data, clk_data, slct_data, Jednostka_chosen):\n",
    "    if hov_data is None:\n",
    "        dff2 = df_Wypadki[df_Wypadki.Jednostka.isin(Jednostka_chosen)]\n",
    "        dff2 = df_Wypadki[df_Wypadki.Rok == 2014]\n",
    "        print(dff2)\n",
    "        fig2 = px.pie(data_frame=dff2, values='Ranni', names='Jednostka',\n",
    "                      title='Ranni w 2014',color='Jednostka', color_discrete_map=c)\n",
    "        return fig2\n",
    "    else:\n",
    "        print(f'hover data: {hov_data}')\n",
    "        #print(hov_data['points'][0]['customdata'][0])\n",
    "        #print(f'click data: {clk_data}')\n",
    "        #print(f'selected data: {slct_data}')\n",
    "        dff2 = df_Wypadki[df_Wypadki.Jednostka.isin(Jednostka_chosen)]\n",
    "        hov_year = hov_data['points'][0]['x']\n",
    "        dff2 = dff2[dff2.Rok == hov_year]\n",
    "        fig2 = px.pie(data_frame=dff2, values='Ranni', names='Jednostka',\n",
    "                      title=f'Ranni w: {hov_year}',color='Jednostka', color_discrete_map=c)\n",
    "        return fig2\n",
    "        \n"
   ]
  },
  {
   "cell_type": "code",
   "execution_count": null,
   "metadata": {},
   "outputs": [
    {
     "name": "stdout",
     "output_type": "stream",
     "text": [
      "Dash is running on http://127.0.0.1:8050/\n",
      "\n",
      " * Serving Flask app \"__main__\" (lazy loading)\n",
      " * Environment: production\n",
      "   WARNING: This is a development server. Do not use it in a production deployment.\n",
      "   Use a production WSGI server instead.\n",
      " * Debug mode: off\n"
     ]
    },
    {
     "name": "stderr",
     "output_type": "stream",
     "text": [
      " * Running on http://127.0.0.1:8050/ (Press CTRL+C to quit)\n",
      "127.0.0.1 - - [28/Dec/2021 14:42:56] \"\u001b[37mGET / HTTP/1.1\u001b[0m\" 200 -\n",
      "127.0.0.1 - - [28/Dec/2021 14:42:57] \"\u001b[37mGET /_dash-layout HTTP/1.1\u001b[0m\" 200 -\n",
      "127.0.0.1 - - [28/Dec/2021 14:42:57] \"\u001b[37mGET /_dash-dependencies HTTP/1.1\u001b[0m\" 200 -\n",
      "127.0.0.1 - - [28/Dec/2021 14:42:57] \"\u001b[37mPOST /_dash-update-component HTTP/1.1\u001b[0m\" 200 -\n",
      "127.0.0.1 - - [28/Dec/2021 14:42:57] \"\u001b[37mPOST /_dash-update-component HTTP/1.1\u001b[0m\" 200 -\n",
      "127.0.0.1 - - [28/Dec/2021 14:43:10] \"\u001b[37mGET / HTTP/1.1\u001b[0m\" 200 -\n",
      "127.0.0.1 - - [28/Dec/2021 14:43:10] \"\u001b[37mGET /_dash-component-suites/dash_renderer/react@16.v1_1_2m1576595738.8.6.min.js HTTP/1.1\u001b[0m\" 200 -\n",
      "127.0.0.1 - - [28/Dec/2021 14:43:10] \"\u001b[37mGET /_dash-component-suites/dash_renderer/prop-types@15.v1_1_2m1576595738.7.2.min.js HTTP/1.1\u001b[0m\" 200 -\n",
      "127.0.0.1 - - [28/Dec/2021 14:43:10] \"\u001b[37mGET /_dash-component-suites/dash_renderer/react-dom@16.v1_1_2m1576595738.8.6.min.js HTTP/1.1\u001b[0m\" 200 -\n",
      "127.0.0.1 - - [28/Dec/2021 14:43:10] \"\u001b[37mGET /_dash-component-suites/dash_core_components/highlight.v1_3_1m1576595950.pack.js HTTP/1.1\u001b[0m\" 200 -\n",
      "127.0.0.1 - - [28/Dec/2021 14:43:10] \"\u001b[37mGET /_dash-component-suites/dash_bootstrap_components/_components/dash_bootstrap_components.v0_8_3m1583589390.min.js HTTP/1.1\u001b[0m\" 200 -\n",
      "127.0.0.1 - - [28/Dec/2021 14:43:10] \"\u001b[37mGET /_dash-component-suites/dash_html_components/dash_html_components.v1_0_1m1576596177.min.js HTTP/1.1\u001b[0m\" 200 -\n",
      "127.0.0.1 - - [28/Dec/2021 14:43:10] \"\u001b[37mGET /_dash-component-suites/dash_renderer/dash_renderer.v1_1_2m1576595738.min.js HTTP/1.1\u001b[0m\" 200 -\n",
      "127.0.0.1 - - [28/Dec/2021 14:43:10] \"\u001b[37mGET /_dash-component-suites/dash_core_components/dash_core_components.v1_3_1m1576595950.min.js HTTP/1.1\u001b[0m\" 200 -\n",
      "127.0.0.1 - - [28/Dec/2021 14:43:10] \"\u001b[37mGET /_dash-component-suites/dash_core_components/plotly-1.v1_3_1m1576595950.50.1.min.js HTTP/1.1\u001b[0m\" 200 -\n",
      "127.0.0.1 - - [28/Dec/2021 14:43:10] \"\u001b[37mGET /_dash-layout HTTP/1.1\u001b[0m\" 200 -\n",
      "127.0.0.1 - - [28/Dec/2021 14:43:10] \"\u001b[37mGET /_dash-dependencies HTTP/1.1\u001b[0m\" 200 -\n",
      "127.0.0.1 - - [28/Dec/2021 14:43:10] \"\u001b[37mGET /_favicon.ico?v=1.19.0 HTTP/1.1\u001b[0m\" 200 -\n",
      "127.0.0.1 - - [28/Dec/2021 14:43:10] \"\u001b[37mPOST /_dash-update-component HTTP/1.1\u001b[0m\" 200 -\n",
      "127.0.0.1 - - [28/Dec/2021 14:43:10] \"\u001b[37mPOST /_dash-update-component HTTP/1.1\u001b[0m\" 200 -\n",
      "127.0.0.1 - - [28/Dec/2021 14:43:15] \"\u001b[37mGET /page-1 HTTP/1.1\u001b[0m\" 200 -\n",
      "127.0.0.1 - - [28/Dec/2021 14:43:16] \"\u001b[37mGET /_dash-layout HTTP/1.1\u001b[0m\" 200 -\n",
      "127.0.0.1 - - [28/Dec/2021 14:43:16] \"\u001b[37mGET /_dash-dependencies HTTP/1.1\u001b[0m\" 200 -\n",
      "127.0.0.1 - - [28/Dec/2021 14:43:16] \"\u001b[37mGET /_favicon.ico?v=1.19.0 HTTP/1.1\u001b[0m\" 200 -\n",
      "127.0.0.1 - - [28/Dec/2021 14:43:16] \"\u001b[37mPOST /_dash-update-component HTTP/1.1\u001b[0m\" 200 -\n",
      "127.0.0.1 - - [28/Dec/2021 14:43:16] \"\u001b[37mPOST /_dash-update-component HTTP/1.1\u001b[0m\" 200 -\n"
     ]
    },
    {
     "name": "stdout",
     "output_type": "stream",
     "text": [
      "               Jednostka   Rok  Wypadki ogółem  Ofiary śmiertelne  Ranni\n",
      "0           DOLNOŚLĄSKIE  2014            2466                242   3154\n",
      "7     KUJAWSKO-POMORSKIE  2014            1044                179   1112\n",
      "14             LUBELSKIE  2014            1408                195   1667\n",
      "21              LUBUSKIE  2014             717                 81    957\n",
      "28           MAZOWIECKIE  2014            4385                518   5211\n",
      "35           MAŁOPOLSKIE  2014            3936                234   4805\n",
      "42              OPOLSKIE  2014             738                104    857\n",
      "49          PODKARPACKIE  2014            1751                144   2184\n",
      "56             PODLASKIE  2014             692                126    793\n",
      "63             POMORSKIE  2014            2724                181   3476\n",
      "70   WARMIŃSKO-MAZURSKIE  2014            1645                148   2052\n",
      "77         WIELKOPOLSKIE  2014            2392                268   2808\n",
      "84    ZACHODNIOPOMORSKIE  2014            1418                147   1717\n",
      "91               ŁÓDZKIE  2014            3986                256   4807\n",
      "98               ŚLĄSKIE  2014            4360                249   5324\n",
      "105       ŚWIĘTOKRZYSKIE  2014            1308                130   1621\n",
      "               Jednostka   Rok  Wypadki ogółem  Ofiary śmiertelne  Ranni\n",
      "0           DOLNOŚLĄSKIE  2014            2466                242   3154\n",
      "7     KUJAWSKO-POMORSKIE  2014            1044                179   1112\n",
      "14             LUBELSKIE  2014            1408                195   1667\n",
      "21              LUBUSKIE  2014             717                 81    957\n",
      "28           MAZOWIECKIE  2014            4385                518   5211\n",
      "35           MAŁOPOLSKIE  2014            3936                234   4805\n",
      "42              OPOLSKIE  2014             738                104    857\n",
      "49          PODKARPACKIE  2014            1751                144   2184\n",
      "56             PODLASKIE  2014             692                126    793\n",
      "63             POMORSKIE  2014            2724                181   3476\n",
      "70   WARMIŃSKO-MAZURSKIE  2014            1645                148   2052\n",
      "77         WIELKOPOLSKIE  2014            2392                268   2808\n",
      "84    ZACHODNIOPOMORSKIE  2014            1418                147   1717\n",
      "91               ŁÓDZKIE  2014            3986                256   4807\n",
      "98               ŚLĄSKIE  2014            4360                249   5324\n",
      "105       ŚWIĘTOKRZYSKIE  2014            1308                130   1621\n"
     ]
    },
    {
     "name": "stderr",
     "output_type": "stream",
     "text": [
      "127.0.0.1 - - [28/Dec/2021 14:43:17] \"\u001b[37mPOST /_dash-update-component HTTP/1.1\u001b[0m\" 200 -\n",
      "127.0.0.1 - - [28/Dec/2021 14:43:17] \"\u001b[37mPOST /_dash-update-component HTTP/1.1\u001b[0m\" 200 -\n",
      "127.0.0.1 - - [28/Dec/2021 14:43:17] \"\u001b[37mPOST /_dash-update-component HTTP/1.1\u001b[0m\" 200 -\n",
      "127.0.0.1 - - [28/Dec/2021 14:43:19] \"\u001b[37mPOST /_dash-update-component HTTP/1.1\u001b[0m\" 200 -\n",
      "127.0.0.1 - - [28/Dec/2021 14:43:19] \"\u001b[37mPOST /_dash-update-component HTTP/1.1\u001b[0m\" 200 -\n"
     ]
    },
    {
     "name": "stdout",
     "output_type": "stream",
     "text": [
      "hover data: {'points': [{'curveNumber': 7, 'pointNumber': 2, 'pointIndex': 2, 'x': 2016, 'y': 1682, 'customdata': ['PODKARPACKIE', 1682, 141, 2019]}]}\n",
      "hover data: {'points': [{'curveNumber': 7, 'pointNumber': 2, 'pointIndex': 2, 'x': 2016, 'y': 1682, 'customdata': ['PODKARPACKIE', 1682, 141, 2019]}]}\n",
      "hover data: {'points': [{'curveNumber': 10, 'pointNumber': 2, 'pointIndex': 2, 'x': 2016, 'y': 1627, 'customdata': ['WARMIŃSKO-MAZURSKIE', 1627, 158, 2025]}]}\n",
      "hover data: {'points': [{'curveNumber': 10, 'pointNumber': 2, 'pointIndex': 2, 'x': 2016, 'y': 1627, 'customdata': ['WARMIŃSKO-MAZURSKIE', 1627, 158, 2025]}]}\n"
     ]
    },
    {
     "name": "stderr",
     "output_type": "stream",
     "text": [
      "127.0.0.1 - - [28/Dec/2021 14:43:19] \"\u001b[37mPOST /_dash-update-component HTTP/1.1\u001b[0m\" 200 -\n",
      "127.0.0.1 - - [28/Dec/2021 14:43:19] \"\u001b[37mPOST /_dash-update-component HTTP/1.1\u001b[0m\" 200 -\n",
      "127.0.0.1 - - [28/Dec/2021 14:43:19] \"\u001b[37mPOST /_dash-update-component HTTP/1.1\u001b[0m\" 200 -\n"
     ]
    },
    {
     "name": "stdout",
     "output_type": "stream",
     "text": [
      "hover data: {'points': [{'curveNumber': 1, 'pointNumber': 2, 'pointIndex': 2, 'x': 2016, 'y': 1018, 'customdata': ['KUJAWSKO-POMORSKIE', 1018, 178, 1101]}]}\n",
      "hover data: {'points': [{'curveNumber': 1, 'pointNumber': 2, 'pointIndex': 2, 'x': 2016, 'y': 1018, 'customdata': ['KUJAWSKO-POMORSKIE', 1018, 178, 1101]}]}\n",
      "hover data: {'points': [{'curveNumber': 3, 'pointNumber': 2, 'pointIndex': 2, 'x': 2016, 'y': 684, 'customdata': ['LUBUSKIE', 684, 113, 878]}]}\n",
      "hover data: {'points': [{'curveNumber': 3, 'pointNumber': 2, 'pointIndex': 2, 'x': 2016, 'y': 684, 'customdata': ['LUBUSKIE', 684, 113, 878]}]}\n"
     ]
    },
    {
     "name": "stderr",
     "output_type": "stream",
     "text": [
      "127.0.0.1 - - [28/Dec/2021 14:43:19] \"\u001b[37mPOST /_dash-update-component HTTP/1.1\u001b[0m\" 200 -\n",
      "127.0.0.1 - - [28/Dec/2021 14:43:19] \"\u001b[37mPOST /_dash-update-component HTTP/1.1\u001b[0m\" 200 -\n",
      "127.0.0.1 - - [28/Dec/2021 14:43:19] \"\u001b[37mPOST /_dash-update-component HTTP/1.1\u001b[0m\" 200 -\n",
      "127.0.0.1 - - [28/Dec/2021 14:43:20] \"\u001b[37mPOST /_dash-update-component HTTP/1.1\u001b[0m\" 200 -\n",
      "127.0.0.1 - - [28/Dec/2021 14:43:20] \"\u001b[37mPOST /_dash-update-component HTTP/1.1\u001b[0m\" 200 -\n"
     ]
    },
    {
     "name": "stdout",
     "output_type": "stream",
     "text": [
      "hover data: {'points': [{'curveNumber': 6, 'pointNumber': 1, 'pointIndex': 1, 'x': 2015, 'y': 710, 'customdata': ['OPOLSKIE', 710, 102, 808]}]}\n",
      "hover data: {'points': [{'curveNumber': 6, 'pointNumber': 1, 'pointIndex': 1, 'x': 2015, 'y': 710, 'customdata': ['OPOLSKIE', 710, 102, 808]}]}\n"
     ]
    },
    {
     "name": "stderr",
     "output_type": "stream",
     "text": [
      "127.0.0.1 - - [28/Dec/2021 14:43:21] \"\u001b[37mPOST /_dash-update-component HTTP/1.1\u001b[0m\" 200 -\n",
      "127.0.0.1 - - [28/Dec/2021 14:43:21] \"\u001b[37mPOST /_dash-update-component HTTP/1.1\u001b[0m\" 200 -\n"
     ]
    },
    {
     "name": "stdout",
     "output_type": "stream",
     "text": [
      "hover data: {'points': [{'curveNumber': 6, 'pointNumber': 0, 'pointIndex': 0, 'x': 2014, 'y': 738, 'customdata': ['OPOLSKIE', 738, 104, 857]}]}\n",
      "hover data: {'points': [{'curveNumber': 6, 'pointNumber': 0, 'pointIndex': 0, 'x': 2014, 'y': 738, 'customdata': ['OPOLSKIE', 738, 104, 857]}]}\n"
     ]
    },
    {
     "name": "stderr",
     "output_type": "stream",
     "text": [
      "127.0.0.1 - - [28/Dec/2021 14:43:23] \"\u001b[37mPOST /_dash-update-component HTTP/1.1\u001b[0m\" 200 -\n",
      "127.0.0.1 - - [28/Dec/2021 14:43:23] \"\u001b[37mPOST /_dash-update-component HTTP/1.1\u001b[0m\" 200 -\n"
     ]
    },
    {
     "name": "stdout",
     "output_type": "stream",
     "text": [
      "hover data: {'points': [{'curveNumber': 3, 'pointNumber': 2, 'pointIndex': 2, 'x': 2016, 'y': 684, 'customdata': ['LUBUSKIE', 684, 113, 878]}]}\n",
      "hover data: {'points': [{'curveNumber': 3, 'pointNumber': 2, 'pointIndex': 2, 'x': 2016, 'y': 684, 'customdata': ['LUBUSKIE', 684, 113, 878]}]}\n"
     ]
    },
    {
     "name": "stderr",
     "output_type": "stream",
     "text": [
      "127.0.0.1 - - [28/Dec/2021 14:43:38] \"\u001b[37mPOST /_dash-update-component HTTP/1.1\u001b[0m\" 200 -\n",
      "127.0.0.1 - - [28/Dec/2021 14:43:38] \"\u001b[37mPOST /_dash-update-component HTTP/1.1\u001b[0m\" 200 -\n"
     ]
    },
    {
     "name": "stdout",
     "output_type": "stream",
     "text": [
      "hover data: {'points': [{'curveNumber': 14, 'pointNumber': 1, 'pointIndex': 1, 'x': 2015, 'y': 3792, 'customdata': ['ŚLĄSKIE', 3792, 255, 4584]}]}\n",
      "hover data: {'points': [{'curveNumber': 14, 'pointNumber': 1, 'pointIndex': 1, 'x': 2015, 'y': 3792, 'customdata': ['ŚLĄSKIE', 3792, 255, 4584]}]}\n"
     ]
    },
    {
     "name": "stderr",
     "output_type": "stream",
     "text": [
      "127.0.0.1 - - [28/Dec/2021 14:43:44] \"\u001b[37mPOST /_dash-update-component HTTP/1.1\u001b[0m\" 200 -\n",
      "127.0.0.1 - - [28/Dec/2021 14:43:56] \"\u001b[37mPOST /_dash-update-component HTTP/1.1\u001b[0m\" 200 -\n"
     ]
    }
   ],
   "source": [
    "\n",
    "if __name__ == '__main__':\n",
    "    app.run_server()"
   ]
  },
  {
   "cell_type": "code",
   "execution_count": null,
   "metadata": {},
   "outputs": [],
   "source": []
  }
 ],
 "metadata": {
  "kernelspec": {
   "display_name": "Python 3",
   "language": "python",
   "name": "python3"
  },
  "language_info": {
   "codemirror_mode": {
    "name": "ipython",
    "version": 3
   },
   "file_extension": ".py",
   "mimetype": "text/x-python",
   "name": "python",
   "nbconvert_exporter": "python",
   "pygments_lexer": "ipython3",
   "version": "3.8.5"
  }
 },
 "nbformat": 4,
 "nbformat_minor": 4
}
