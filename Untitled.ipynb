{
 "cells": [
  {
   "cell_type": "code",
   "execution_count": 1,
   "metadata": {},
   "outputs": [],
   "source": [
    "import dash  # use Dash version 1.16.0 or higher for this app to work\n",
    "import dash_core_components as dcc\n",
    "import dash_html_components as html\n",
    "from dash.dependencies import Output, Input\n",
    "import plotly.express as px\n",
    "import pandas as pd\n",
    "\n"
   ]
  },
  {
   "cell_type": "code",
   "execution_count": 4,
   "metadata": {},
   "outputs": [
    {
     "name": "stdout",
     "output_type": "stream",
     "text": [
      "              Jednostka   Rok  Wypadki ogółem  Ofiary śmiertelne  Ranni\n",
      "0          DOLNOŚLĄSKIE  2014            2466                242   3154\n",
      "1          DOLNOŚLĄSKIE  2015            2280                185   2968\n",
      "2          DOLNOŚLĄSKIE  2016            2324                226   2907\n",
      "3          DOLNOŚLĄSKIE  2017            2183                219   2749\n",
      "4          DOLNOŚLĄSKIE  2018            2148                203   2674\n",
      "..                  ...   ...             ...                ...    ...\n",
      "107  ZACHODNIOPOMORSKIE  2016            1332                149   1608\n",
      "108  ZACHODNIOPOMORSKIE  2017            1232                120   1435\n",
      "109  ZACHODNIOPOMORSKIE  2018            1182                129   1357\n",
      "110  ZACHODNIOPOMORSKIE  2019            1221                129   1406\n",
      "111  ZACHODNIOPOMORSKIE  2020             927                101   1012\n",
      "\n",
      "[112 rows x 5 columns]\n"
     ]
    }
   ],
   "source": [
    "df2=pd.read_excel(r'C:\\Users\\natal\\OneDrive\\Dokumenty\\AnalizaDanych\\DATA\\test.xlsx')\n",
    "print(df2)"
   ]
  },
  {
   "cell_type": "code",
   "execution_count": 5,
   "metadata": {},
   "outputs": [],
   "source": [
    "external_stylesheets = ['https://codepen.io/chriddyp/pen/bWLwgP.css']\n",
    "app = dash.Dash(__name__, external_stylesheets=external_stylesheets)\n",
    "\n",
    "app.layout = html.Div([\n",
    "    dcc.Dropdown(id='dpdn2', value=['DOLNOŚLĄSKIE','ZACHODNIOPOMORSKIE'], multi=True,\n",
    "                 options=[{'label': x, 'value': x} for x in\n",
    "                          df2.Jednostka.unique()]),\n",
    "    html.Div([\n",
    "        dcc.Graph(id='pie-graph', figure={}, className='six columns'),\n",
    "        dcc.Graph(id='my-graph', figure={}, clickData=None, hoverData=None, # I assigned None for tutorial purposes. By defualt, these are None, unless you specify otherwise.\n",
    "                  config={\n",
    "                      'staticPlot': False,     # True, False\n",
    "                      'scrollZoom': True,      # True, False\n",
    "                      'doubleClick': 'reset',  # 'reset', 'autosize' or 'reset+autosize', False\n",
    "                      'showTips': False,       # True, False\n",
    "                      'displayModeBar': True,  # True, False, 'hover'\n",
    "                      'watermark': True,\n",
    "                      # 'modeBarButtonsToRemove': ['pan2d','select2d'],\n",
    "                        },\n",
    "                  className='six columns'\n",
    "                  )\n",
    "    ])\n",
    "])\n",
    "\n",
    "    "
   ]
  },
  {
   "cell_type": "code",
   "execution_count": 6,
   "metadata": {},
   "outputs": [],
   "source": [
    "@app.callback(\n",
    "    Output(component_id='my-graph', component_property='figure'),\n",
    "    Input(component_id='dpdn2', component_property='value'),\n",
    ")\n",
    "def update_graph(Jednostka_chosen):\n",
    "    dff = df2[df2.Jednostka.isin(Jednostka_chosen)]\n",
    "    fig = px.line(data_frame=dff, x='Rok', y='Wypadki ogółem', color='Jednostka',\n",
    "                  custom_data=['Jednostka', 'Wypadki ogółem', 'Ofiary śmiertelne', 'Ranni'])\n",
    "    fig.update_traces(mode='lines+markers')\n",
    "    return fig\n",
    "\n"
   ]
  },
  {
   "cell_type": "code",
   "execution_count": null,
   "metadata": {},
   "outputs": [
    {
     "name": "stdout",
     "output_type": "stream",
     "text": [
      "Dash is running on http://127.0.0.1:8050/\n",
      "\n",
      "Dash is running on http://127.0.0.1:8050/\n",
      "\n",
      " * Serving Flask app \"__main__\" (lazy loading)\n",
      " * Environment: production\n",
      "   WARNING: This is a development server. Do not use it in a production deployment.\n",
      "   Use a production WSGI server instead.\n",
      " * Debug mode: off\n"
     ]
    },
    {
     "name": "stderr",
     "output_type": "stream",
     "text": [
      " * Running on http://127.0.0.1:8050/ (Press CTRL+C to quit)\n",
      "127.0.0.1 - - [18/Dec/2021 20:13:33] \"\u001b[37mGET / HTTP/1.1\u001b[0m\" 200 -\n",
      "127.0.0.1 - - [18/Dec/2021 20:13:34] \"\u001b[37mGET /_dash-layout HTTP/1.1\u001b[0m\" 200 -\n",
      "127.0.0.1 - - [18/Dec/2021 20:13:34] \"\u001b[37mGET /_dash-dependencies HTTP/1.1\u001b[0m\" 200 -\n",
      "127.0.0.1 - - [18/Dec/2021 20:13:34] \"\u001b[37mPOST /_dash-update-component HTTP/1.1\u001b[0m\" 200 -\n",
      "127.0.0.1 - - [18/Dec/2021 20:13:34] \"\u001b[37mPOST /_dash-update-component HTTP/1.1\u001b[0m\" 200 -\n"
     ]
    },
    {
     "name": "stdout",
     "output_type": "stream",
     "text": [
      "               Jednostka   Rok  Wypadki ogółem  Ofiary śmiertelne  Ranni\n",
      "0           DOLNOŚLĄSKIE  2014            2466                242   3154\n",
      "7     KUJAWSKO-POMORSKIE  2014            1044                179   1112\n",
      "14             LUBELSKIE  2014            1408                195   1667\n",
      "21              LUBUSKIE  2014             717                 81    957\n",
      "28               ŁÓDZKIE  2014            3986                256   4807\n",
      "35           MAŁOPOLSKIE  2014            3936                234   4805\n",
      "42           MAZOWIECKIE  2014            4385                518   5211\n",
      "49              OPOLSKIE  2014             738                104    857\n",
      "56          PODKARPACKIE  2014            1751                144   2184\n",
      "63             PODLASKIE  2014             692                126    793\n",
      "70             POMORSKIE  2014            2724                181   3476\n",
      "77               ŚLĄSKIE  2014            4360                249   5324\n",
      "84        ŚWIĘTOKRZYSKIE  2014            1308                130   1621\n",
      "91   WARMIŃSKO-MAZURSKIE  2014            1645                148   2052\n",
      "98         WIELKOPOLSKIE  2014            2392                268   2808\n",
      "105   ZACHODNIOPOMORSKIE  2014            1418                147   1717\n"
     ]
    },
    {
     "name": "stderr",
     "output_type": "stream",
     "text": [
      "127.0.0.1 - - [18/Dec/2021 20:13:40] \"\u001b[37mPOST /_dash-update-component HTTP/1.1\u001b[0m\" 200 -\n"
     ]
    },
    {
     "name": "stdout",
     "output_type": "stream",
     "text": [
      "hover data: {'points': [{'curveNumber': 1, 'pointNumber': 0, 'pointIndex': 0, 'x': 2014, 'y': 1418, 'customdata': ['ZACHODNIOPOMORSKIE', 1418, 147, 1717]}]}\n"
     ]
    },
    {
     "name": "stderr",
     "output_type": "stream",
     "text": [
      "127.0.0.1 - - [18/Dec/2021 20:13:40] \"\u001b[37mPOST /_dash-update-component HTTP/1.1\u001b[0m\" 200 -\n"
     ]
    },
    {
     "name": "stdout",
     "output_type": "stream",
     "text": [
      "hover data: {'points': [{'curveNumber': 1, 'pointNumber': 1, 'pointIndex': 1, 'x': 2015, 'y': 1298, 'customdata': ['ZACHODNIOPOMORSKIE', 1298, 125, 1470]}]}\n"
     ]
    },
    {
     "name": "stderr",
     "output_type": "stream",
     "text": [
      "127.0.0.1 - - [18/Dec/2021 20:13:45] \"\u001b[37mPOST /_dash-update-component HTTP/1.1\u001b[0m\" 200 -\n"
     ]
    },
    {
     "name": "stdout",
     "output_type": "stream",
     "text": [
      "hover data: {'points': [{'curveNumber': 1, 'pointNumber': 2, 'pointIndex': 2, 'x': 2016, 'y': 1332, 'customdata': ['ZACHODNIOPOMORSKIE', 1332, 149, 1608]}]}\n"
     ]
    },
    {
     "name": "stderr",
     "output_type": "stream",
     "text": [
      "127.0.0.1 - - [18/Dec/2021 20:15:06] \"\u001b[37mPOST /_dash-update-component HTTP/1.1\u001b[0m\" 200 -\n"
     ]
    },
    {
     "name": "stdout",
     "output_type": "stream",
     "text": [
      "hover data: {'points': [{'curveNumber': 1, 'pointNumber': 1, 'pointIndex': 1, 'x': 2015, 'y': 1298, 'customdata': ['ZACHODNIOPOMORSKIE', 1298, 125, 1470]}]}\n"
     ]
    },
    {
     "name": "stderr",
     "output_type": "stream",
     "text": [
      "127.0.0.1 - - [18/Dec/2021 20:15:07] \"\u001b[37mPOST /_dash-update-component HTTP/1.1\u001b[0m\" 200 -\n"
     ]
    },
    {
     "name": "stdout",
     "output_type": "stream",
     "text": [
      "hover data: {'points': [{'curveNumber': 1, 'pointNumber': 1, 'pointIndex': 1, 'x': 2015, 'y': 1298, 'customdata': ['ZACHODNIOPOMORSKIE', 1298, 125, 1470]}]}\n"
     ]
    },
    {
     "name": "stderr",
     "output_type": "stream",
     "text": [
      "127.0.0.1 - - [18/Dec/2021 20:15:07] \"\u001b[37mPOST /_dash-update-component HTTP/1.1\u001b[0m\" 200 -\n"
     ]
    },
    {
     "name": "stdout",
     "output_type": "stream",
     "text": [
      "hover data: {'points': [{'curveNumber': 1, 'pointNumber': 1, 'pointIndex': 1, 'x': 2015, 'y': 1298, 'customdata': ['ZACHODNIOPOMORSKIE', 1298, 125, 1470]}]}\n"
     ]
    },
    {
     "name": "stderr",
     "output_type": "stream",
     "text": [
      "127.0.0.1 - - [18/Dec/2021 20:15:12] \"\u001b[37mPOST /_dash-update-component HTTP/1.1\u001b[0m\" 200 -\n"
     ]
    },
    {
     "name": "stdout",
     "output_type": "stream",
     "text": [
      "hover data: {'points': [{'curveNumber': 1, 'pointNumber': 2, 'pointIndex': 2, 'x': 2016, 'y': 1332, 'customdata': ['ZACHODNIOPOMORSKIE', 1332, 149, 1608]}]}\n"
     ]
    },
    {
     "name": "stderr",
     "output_type": "stream",
     "text": [
      "127.0.0.1 - - [18/Dec/2021 20:15:13] \"\u001b[37mPOST /_dash-update-component HTTP/1.1\u001b[0m\" 200 -\n"
     ]
    },
    {
     "name": "stdout",
     "output_type": "stream",
     "text": [
      "hover data: {'points': [{'curveNumber': 1, 'pointNumber': 3, 'pointIndex': 3, 'x': 2017, 'y': 1232, 'customdata': ['ZACHODNIOPOMORSKIE', 1232, 120, 1435]}]}\n"
     ]
    },
    {
     "name": "stderr",
     "output_type": "stream",
     "text": [
      "127.0.0.1 - - [18/Dec/2021 20:15:16] \"\u001b[37mPOST /_dash-update-component HTTP/1.1\u001b[0m\" 200 -\n"
     ]
    },
    {
     "name": "stdout",
     "output_type": "stream",
     "text": [
      "hover data: {'points': [{'curveNumber': 1, 'pointNumber': 4, 'pointIndex': 4, 'x': 2018, 'y': 1182, 'customdata': ['ZACHODNIOPOMORSKIE', 1182, 129, 1357]}]}\n"
     ]
    },
    {
     "name": "stderr",
     "output_type": "stream",
     "text": [
      "127.0.0.1 - - [18/Dec/2021 20:17:15] \"\u001b[37mPOST /_dash-update-component HTTP/1.1\u001b[0m\" 200 -\n"
     ]
    },
    {
     "name": "stdout",
     "output_type": "stream",
     "text": [
      "hover data: {'points': [{'curveNumber': 0, 'pointNumber': 2, 'pointIndex': 2, 'x': 2016, 'y': 2324, 'customdata': ['DOLNOŚLĄSKIE', 2324, 226, 2907]}]}\n"
     ]
    },
    {
     "name": "stderr",
     "output_type": "stream",
     "text": [
      "127.0.0.1 - - [18/Dec/2021 20:17:15] \"\u001b[37mPOST /_dash-update-component HTTP/1.1\u001b[0m\" 200 -\n"
     ]
    },
    {
     "name": "stdout",
     "output_type": "stream",
     "text": [
      "hover data: {'points': [{'curveNumber': 0, 'pointNumber': 2, 'pointIndex': 2, 'x': 2016, 'y': 2324, 'customdata': ['DOLNOŚLĄSKIE', 2324, 226, 2907]}]}\n"
     ]
    },
    {
     "name": "stderr",
     "output_type": "stream",
     "text": [
      "127.0.0.1 - - [18/Dec/2021 20:17:16] \"\u001b[37mPOST /_dash-update-component HTTP/1.1\u001b[0m\" 200 -\n"
     ]
    },
    {
     "name": "stdout",
     "output_type": "stream",
     "text": [
      "hover data: {'points': [{'curveNumber': 0, 'pointNumber': 3, 'pointIndex': 3, 'x': 2017, 'y': 2183, 'customdata': ['DOLNOŚLĄSKIE', 2183, 219, 2749]}]}\n"
     ]
    },
    {
     "name": "stderr",
     "output_type": "stream",
     "text": [
      "127.0.0.1 - - [18/Dec/2021 20:17:18] \"\u001b[37mPOST /_dash-update-component HTTP/1.1\u001b[0m\" 200 -\n"
     ]
    },
    {
     "name": "stdout",
     "output_type": "stream",
     "text": [
      "hover data: {'points': [{'curveNumber': 1, 'pointNumber': 3, 'pointIndex': 3, 'x': 2017, 'y': 1232, 'customdata': ['ZACHODNIOPOMORSKIE', 1232, 120, 1435]}]}\n"
     ]
    },
    {
     "name": "stderr",
     "output_type": "stream",
     "text": [
      "127.0.0.1 - - [18/Dec/2021 20:17:19] \"\u001b[37mPOST /_dash-update-component HTTP/1.1\u001b[0m\" 200 -\n"
     ]
    },
    {
     "name": "stdout",
     "output_type": "stream",
     "text": [
      "hover data: {'points': [{'curveNumber': 0, 'pointNumber': 3, 'pointIndex': 3, 'x': 2017, 'y': 2183, 'customdata': ['DOLNOŚLĄSKIE', 2183, 219, 2749]}]}\n"
     ]
    },
    {
     "name": "stderr",
     "output_type": "stream",
     "text": [
      "127.0.0.1 - - [18/Dec/2021 20:17:20] \"\u001b[37mPOST /_dash-update-component HTTP/1.1\u001b[0m\" 200 -\n"
     ]
    },
    {
     "name": "stdout",
     "output_type": "stream",
     "text": [
      "hover data: {'points': [{'curveNumber': 0, 'pointNumber': 4, 'pointIndex': 4, 'x': 2018, 'y': 2148, 'customdata': ['DOLNOŚLĄSKIE', 2148, 203, 2674]}]}\n"
     ]
    },
    {
     "name": "stderr",
     "output_type": "stream",
     "text": [
      "127.0.0.1 - - [18/Dec/2021 20:17:20] \"\u001b[37mPOST /_dash-update-component HTTP/1.1\u001b[0m\" 200 -\n"
     ]
    },
    {
     "name": "stdout",
     "output_type": "stream",
     "text": [
      "hover data: {'points': [{'curveNumber': 0, 'pointNumber': 5, 'pointIndex': 5, 'x': 2019, 'y': 1929, 'customdata': ['DOLNOŚLĄSKIE', 1929, 215, 2275]}]}\n"
     ]
    },
    {
     "name": "stderr",
     "output_type": "stream",
     "text": [
      "127.0.0.1 - - [18/Dec/2021 20:17:21] \"\u001b[37mPOST /_dash-update-component HTTP/1.1\u001b[0m\" 200 -\n"
     ]
    },
    {
     "name": "stdout",
     "output_type": "stream",
     "text": [
      "hover data: {'points': [{'curveNumber': 0, 'pointNumber': 6, 'pointIndex': 6, 'x': 2020, 'y': 1578, 'customdata': ['DOLNOŚLĄSKIE', 1578, 165, 1794]}]}\n"
     ]
    },
    {
     "name": "stderr",
     "output_type": "stream",
     "text": [
      "127.0.0.1 - - [18/Dec/2021 20:17:22] \"\u001b[37mPOST /_dash-update-component HTTP/1.1\u001b[0m\" 200 -\n"
     ]
    },
    {
     "name": "stdout",
     "output_type": "stream",
     "text": [
      "hover data: {'points': [{'curveNumber': 1, 'pointNumber': 4, 'pointIndex': 4, 'x': 2018, 'y': 1182, 'customdata': ['ZACHODNIOPOMORSKIE', 1182, 129, 1357]}]}\n"
     ]
    },
    {
     "name": "stderr",
     "output_type": "stream",
     "text": [
      "127.0.0.1 - - [18/Dec/2021 20:17:36] \"\u001b[37mPOST /_dash-update-component HTTP/1.1\u001b[0m\" 200 -\n",
      "127.0.0.1 - - [18/Dec/2021 20:17:36] \"\u001b[37mPOST /_dash-update-component HTTP/1.1\u001b[0m\" 200 -\n"
     ]
    },
    {
     "name": "stdout",
     "output_type": "stream",
     "text": [
      "hover data: {'points': [{'curveNumber': 1, 'pointNumber': 4, 'pointIndex': 4, 'x': 2018, 'y': 1182, 'customdata': ['ZACHODNIOPOMORSKIE', 1182, 129, 1357]}]}\n"
     ]
    },
    {
     "name": "stderr",
     "output_type": "stream",
     "text": [
      "127.0.0.1 - - [18/Dec/2021 20:17:38] \"\u001b[37mPOST /_dash-update-component HTTP/1.1\u001b[0m\" 200 -\n",
      "127.0.0.1 - - [18/Dec/2021 20:17:38] \"\u001b[37mPOST /_dash-update-component HTTP/1.1\u001b[0m\" 200 -\n"
     ]
    },
    {
     "name": "stdout",
     "output_type": "stream",
     "text": [
      "hover data: {'points': [{'curveNumber': 1, 'pointNumber': 4, 'pointIndex': 4, 'x': 2018, 'y': 1182, 'customdata': ['ZACHODNIOPOMORSKIE', 1182, 129, 1357]}]}\n"
     ]
    },
    {
     "name": "stderr",
     "output_type": "stream",
     "text": [
      "127.0.0.1 - - [18/Dec/2021 20:17:39] \"\u001b[37mPOST /_dash-update-component HTTP/1.1\u001b[0m\" 200 -\n",
      "127.0.0.1 - - [18/Dec/2021 20:17:39] \"\u001b[37mPOST /_dash-update-component HTTP/1.1\u001b[0m\" 200 -\n"
     ]
    },
    {
     "name": "stdout",
     "output_type": "stream",
     "text": [
      "hover data: {'points': [{'curveNumber': 1, 'pointNumber': 4, 'pointIndex': 4, 'x': 2018, 'y': 1182, 'customdata': ['ZACHODNIOPOMORSKIE', 1182, 129, 1357]}]}\n"
     ]
    },
    {
     "name": "stderr",
     "output_type": "stream",
     "text": [
      "127.0.0.1 - - [18/Dec/2021 20:17:41] \"\u001b[37mPOST /_dash-update-component HTTP/1.1\u001b[0m\" 200 -\n",
      "127.0.0.1 - - [18/Dec/2021 20:17:41] \"\u001b[37mPOST /_dash-update-component HTTP/1.1\u001b[0m\" 200 -\n"
     ]
    },
    {
     "name": "stdout",
     "output_type": "stream",
     "text": [
      "hover data: {'points': [{'curveNumber': 1, 'pointNumber': 4, 'pointIndex': 4, 'x': 2018, 'y': 1182, 'customdata': ['ZACHODNIOPOMORSKIE', 1182, 129, 1357]}]}\n"
     ]
    },
    {
     "name": "stderr",
     "output_type": "stream",
     "text": [
      "127.0.0.1 - - [18/Dec/2021 20:17:42] \"\u001b[37mPOST /_dash-update-component HTTP/1.1\u001b[0m\" 200 -\n",
      "127.0.0.1 - - [18/Dec/2021 20:17:42] \"\u001b[37mPOST /_dash-update-component HTTP/1.1\u001b[0m\" 200 -\n"
     ]
    },
    {
     "name": "stdout",
     "output_type": "stream",
     "text": [
      "hover data: {'points': [{'curveNumber': 1, 'pointNumber': 4, 'pointIndex': 4, 'x': 2018, 'y': 1182, 'customdata': ['ZACHODNIOPOMORSKIE', 1182, 129, 1357]}]}\n"
     ]
    },
    {
     "name": "stderr",
     "output_type": "stream",
     "text": [
      "127.0.0.1 - - [18/Dec/2021 20:17:43] \"\u001b[37mPOST /_dash-update-component HTTP/1.1\u001b[0m\" 200 -\n",
      "127.0.0.1 - - [18/Dec/2021 20:17:43] \"\u001b[37mPOST /_dash-update-component HTTP/1.1\u001b[0m\" 200 -\n"
     ]
    },
    {
     "name": "stdout",
     "output_type": "stream",
     "text": [
      "hover data: {'points': [{'curveNumber': 1, 'pointNumber': 4, 'pointIndex': 4, 'x': 2018, 'y': 1182, 'customdata': ['ZACHODNIOPOMORSKIE', 1182, 129, 1357]}]}\n"
     ]
    },
    {
     "name": "stderr",
     "output_type": "stream",
     "text": [
      "127.0.0.1 - - [18/Dec/2021 20:17:44] \"\u001b[37mPOST /_dash-update-component HTTP/1.1\u001b[0m\" 200 -\n"
     ]
    },
    {
     "name": "stdout",
     "output_type": "stream",
     "text": [
      "hover data: {'points': [{'curveNumber': 1, 'pointNumber': 4, 'pointIndex': 4, 'x': 2018, 'y': 1182, 'customdata': ['ZACHODNIOPOMORSKIE', 1182, 129, 1357]}]}\n"
     ]
    },
    {
     "name": "stderr",
     "output_type": "stream",
     "text": [
      "127.0.0.1 - - [18/Dec/2021 20:17:44] \"\u001b[37mPOST /_dash-update-component HTTP/1.1\u001b[0m\" 200 -\n",
      "127.0.0.1 - - [18/Dec/2021 20:17:46] \"\u001b[37mPOST /_dash-update-component HTTP/1.1\u001b[0m\" 200 -\n"
     ]
    },
    {
     "name": "stdout",
     "output_type": "stream",
     "text": [
      "hover data: {'points': [{'curveNumber': 1, 'pointNumber': 4, 'pointIndex': 4, 'x': 2018, 'y': 1182, 'customdata': ['ZACHODNIOPOMORSKIE', 1182, 129, 1357]}]}\n"
     ]
    },
    {
     "name": "stderr",
     "output_type": "stream",
     "text": [
      "127.0.0.1 - - [18/Dec/2021 20:17:46] \"\u001b[37mPOST /_dash-update-component HTTP/1.1\u001b[0m\" 200 -\n",
      "127.0.0.1 - - [18/Dec/2021 20:17:47] \"\u001b[37mPOST /_dash-update-component HTTP/1.1\u001b[0m\" 200 -\n"
     ]
    },
    {
     "name": "stdout",
     "output_type": "stream",
     "text": [
      "hover data: {'points': [{'curveNumber': 1, 'pointNumber': 4, 'pointIndex': 4, 'x': 2018, 'y': 1182, 'customdata': ['ZACHODNIOPOMORSKIE', 1182, 129, 1357]}]}\n"
     ]
    },
    {
     "name": "stderr",
     "output_type": "stream",
     "text": [
      "127.0.0.1 - - [18/Dec/2021 20:17:47] \"\u001b[37mPOST /_dash-update-component HTTP/1.1\u001b[0m\" 200 -\n",
      "127.0.0.1 - - [18/Dec/2021 20:17:48] \"\u001b[37mPOST /_dash-update-component HTTP/1.1\u001b[0m\" 200 -\n",
      "127.0.0.1 - - [18/Dec/2021 20:17:48] \"\u001b[37mPOST /_dash-update-component HTTP/1.1\u001b[0m\" 200 -\n"
     ]
    },
    {
     "name": "stdout",
     "output_type": "stream",
     "text": [
      "hover data: {'points': [{'curveNumber': 1, 'pointNumber': 4, 'pointIndex': 4, 'x': 2018, 'y': 1182, 'customdata': ['ZACHODNIOPOMORSKIE', 1182, 129, 1357]}]}\n"
     ]
    },
    {
     "name": "stderr",
     "output_type": "stream",
     "text": [
      "127.0.0.1 - - [18/Dec/2021 20:17:53] \"\u001b[37mPOST /_dash-update-component HTTP/1.1\u001b[0m\" 200 -\n",
      "127.0.0.1 - - [18/Dec/2021 20:17:53] \"\u001b[37mPOST /_dash-update-component HTTP/1.1\u001b[0m\" 200 -\n"
     ]
    },
    {
     "name": "stdout",
     "output_type": "stream",
     "text": [
      "hover data: {'points': [{'curveNumber': 1, 'pointNumber': 4, 'pointIndex': 4, 'x': 2018, 'y': 1182, 'customdata': ['ZACHODNIOPOMORSKIE', 1182, 129, 1357]}]}\n"
     ]
    },
    {
     "name": "stderr",
     "output_type": "stream",
     "text": [
      "127.0.0.1 - - [18/Dec/2021 20:17:54] \"\u001b[37mPOST /_dash-update-component HTTP/1.1\u001b[0m\" 200 -\n",
      "127.0.0.1 - - [18/Dec/2021 20:17:54] \"\u001b[37mPOST /_dash-update-component HTTP/1.1\u001b[0m\" 200 -\n"
     ]
    },
    {
     "name": "stdout",
     "output_type": "stream",
     "text": [
      "hover data: {'points': [{'curveNumber': 1, 'pointNumber': 4, 'pointIndex': 4, 'x': 2018, 'y': 1182, 'customdata': ['ZACHODNIOPOMORSKIE', 1182, 129, 1357]}]}\n"
     ]
    },
    {
     "name": "stderr",
     "output_type": "stream",
     "text": [
      "127.0.0.1 - - [18/Dec/2021 20:17:56] \"\u001b[37mPOST /_dash-update-component HTTP/1.1\u001b[0m\" 200 -\n",
      "127.0.0.1 - - [18/Dec/2021 20:17:56] \"\u001b[37mPOST /_dash-update-component HTTP/1.1\u001b[0m\" 200 -\n"
     ]
    },
    {
     "name": "stdout",
     "output_type": "stream",
     "text": [
      "hover data: {'points': [{'curveNumber': 1, 'pointNumber': 4, 'pointIndex': 4, 'x': 2018, 'y': 1182, 'customdata': ['ZACHODNIOPOMORSKIE', 1182, 129, 1357]}]}\n"
     ]
    },
    {
     "name": "stderr",
     "output_type": "stream",
     "text": [
      "127.0.0.1 - - [18/Dec/2021 20:17:57] \"\u001b[37mPOST /_dash-update-component HTTP/1.1\u001b[0m\" 200 -\n",
      "127.0.0.1 - - [18/Dec/2021 20:17:57] \"\u001b[37mPOST /_dash-update-component HTTP/1.1\u001b[0m\" 200 -\n"
     ]
    },
    {
     "name": "stdout",
     "output_type": "stream",
     "text": [
      "hover data: {'points': [{'curveNumber': 1, 'pointNumber': 4, 'pointIndex': 4, 'x': 2018, 'y': 1182, 'customdata': ['ZACHODNIOPOMORSKIE', 1182, 129, 1357]}]}\n"
     ]
    },
    {
     "name": "stderr",
     "output_type": "stream",
     "text": [
      "127.0.0.1 - - [18/Dec/2021 20:17:58] \"\u001b[37mPOST /_dash-update-component HTTP/1.1\u001b[0m\" 200 -\n",
      "127.0.0.1 - - [18/Dec/2021 20:17:58] \"\u001b[37mPOST /_dash-update-component HTTP/1.1\u001b[0m\" 200 -\n"
     ]
    },
    {
     "name": "stdout",
     "output_type": "stream",
     "text": [
      "hover data: {'points': [{'curveNumber': 1, 'pointNumber': 4, 'pointIndex': 4, 'x': 2018, 'y': 1182, 'customdata': ['ZACHODNIOPOMORSKIE', 1182, 129, 1357]}]}\n"
     ]
    },
    {
     "name": "stderr",
     "output_type": "stream",
     "text": [
      "127.0.0.1 - - [18/Dec/2021 20:17:58] \"\u001b[37mPOST /_dash-update-component HTTP/1.1\u001b[0m\" 200 -\n",
      "127.0.0.1 - - [18/Dec/2021 20:17:59] \"\u001b[37mPOST /_dash-update-component HTTP/1.1\u001b[0m\" 200 -\n"
     ]
    },
    {
     "name": "stdout",
     "output_type": "stream",
     "text": [
      "hover data: {'points': [{'curveNumber': 1, 'pointNumber': 4, 'pointIndex': 4, 'x': 2018, 'y': 1182, 'customdata': ['ZACHODNIOPOMORSKIE', 1182, 129, 1357]}]}\n"
     ]
    },
    {
     "name": "stderr",
     "output_type": "stream",
     "text": [
      "127.0.0.1 - - [18/Dec/2021 20:18:00] \"\u001b[37mPOST /_dash-update-component HTTP/1.1\u001b[0m\" 200 -\n"
     ]
    },
    {
     "name": "stdout",
     "output_type": "stream",
     "text": [
      "hover data: {'points': [{'curveNumber': 1, 'pointNumber': 4, 'pointIndex': 4, 'x': 2018, 'y': 1182, 'customdata': ['ZACHODNIOPOMORSKIE', 1182, 129, 1357]}]}\n"
     ]
    },
    {
     "name": "stderr",
     "output_type": "stream",
     "text": [
      "127.0.0.1 - - [18/Dec/2021 20:18:00] \"\u001b[37mPOST /_dash-update-component HTTP/1.1\u001b[0m\" 200 -\n",
      "127.0.0.1 - - [18/Dec/2021 20:18:01] \"\u001b[37mPOST /_dash-update-component HTTP/1.1\u001b[0m\" 200 -\n",
      "127.0.0.1 - - [18/Dec/2021 20:18:01] \"\u001b[37mPOST /_dash-update-component HTTP/1.1\u001b[0m\" 200 -\n"
     ]
    },
    {
     "name": "stdout",
     "output_type": "stream",
     "text": [
      "hover data: {'points': [{'curveNumber': 1, 'pointNumber': 4, 'pointIndex': 4, 'x': 2018, 'y': 1182, 'customdata': ['ZACHODNIOPOMORSKIE', 1182, 129, 1357]}]}\n"
     ]
    },
    {
     "name": "stderr",
     "output_type": "stream",
     "text": [
      "127.0.0.1 - - [18/Dec/2021 20:18:03] \"\u001b[37mPOST /_dash-update-component HTTP/1.1\u001b[0m\" 200 -\n"
     ]
    },
    {
     "name": "stdout",
     "output_type": "stream",
     "text": [
      "hover data: {'points': [{'curveNumber': 1, 'pointNumber': 4, 'pointIndex': 4, 'x': 2018, 'y': 1182, 'customdata': ['ZACHODNIOPOMORSKIE', 1182, 129, 1357]}]}\n"
     ]
    },
    {
     "name": "stderr",
     "output_type": "stream",
     "text": [
      "127.0.0.1 - - [18/Dec/2021 20:18:03] \"\u001b[37mPOST /_dash-update-component HTTP/1.1\u001b[0m\" 200 -\n",
      "127.0.0.1 - - [18/Dec/2021 20:18:04] \"\u001b[37mPOST /_dash-update-component HTTP/1.1\u001b[0m\" 200 -\n",
      "127.0.0.1 - - [18/Dec/2021 20:18:04] \"\u001b[37mPOST /_dash-update-component HTTP/1.1\u001b[0m\" 200 -\n"
     ]
    },
    {
     "name": "stdout",
     "output_type": "stream",
     "text": [
      "hover data: {'points': [{'curveNumber': 1, 'pointNumber': 4, 'pointIndex': 4, 'x': 2018, 'y': 1182, 'customdata': ['ZACHODNIOPOMORSKIE', 1182, 129, 1357]}]}\n"
     ]
    },
    {
     "name": "stderr",
     "output_type": "stream",
     "text": [
      "127.0.0.1 - - [18/Dec/2021 20:18:06] \"\u001b[37mPOST /_dash-update-component HTTP/1.1\u001b[0m\" 200 -\n",
      "127.0.0.1 - - [18/Dec/2021 20:18:06] \"\u001b[37mPOST /_dash-update-component HTTP/1.1\u001b[0m\" 200 -\n"
     ]
    },
    {
     "name": "stdout",
     "output_type": "stream",
     "text": [
      "hover data: {'points': [{'curveNumber': 1, 'pointNumber': 4, 'pointIndex': 4, 'x': 2018, 'y': 1182, 'customdata': ['ZACHODNIOPOMORSKIE', 1182, 129, 1357]}]}\n"
     ]
    },
    {
     "name": "stderr",
     "output_type": "stream",
     "text": [
      "127.0.0.1 - - [18/Dec/2021 20:18:07] \"\u001b[37mPOST /_dash-update-component HTTP/1.1\u001b[0m\" 200 -\n",
      "127.0.0.1 - - [18/Dec/2021 20:18:07] \"\u001b[37mPOST /_dash-update-component HTTP/1.1\u001b[0m\" 200 -\n"
     ]
    },
    {
     "name": "stdout",
     "output_type": "stream",
     "text": [
      "hover data: {'points': [{'curveNumber': 1, 'pointNumber': 4, 'pointIndex': 4, 'x': 2018, 'y': 1182, 'customdata': ['ZACHODNIOPOMORSKIE', 1182, 129, 1357]}]}\n"
     ]
    },
    {
     "name": "stderr",
     "output_type": "stream",
     "text": [
      "127.0.0.1 - - [18/Dec/2021 20:18:09] \"\u001b[37mPOST /_dash-update-component HTTP/1.1\u001b[0m\" 200 -\n"
     ]
    },
    {
     "name": "stdout",
     "output_type": "stream",
     "text": [
      "hover data: {'points': [{'curveNumber': 1, 'pointNumber': 4, 'pointIndex': 4, 'x': 2018, 'y': 1182, 'customdata': ['ZACHODNIOPOMORSKIE', 1182, 129, 1357]}]}\n"
     ]
    },
    {
     "name": "stderr",
     "output_type": "stream",
     "text": [
      "127.0.0.1 - - [18/Dec/2021 20:18:09] \"\u001b[37mPOST /_dash-update-component HTTP/1.1\u001b[0m\" 200 -\n",
      "127.0.0.1 - - [18/Dec/2021 20:18:10] \"\u001b[37mPOST /_dash-update-component HTTP/1.1\u001b[0m\" 200 -\n"
     ]
    },
    {
     "name": "stdout",
     "output_type": "stream",
     "text": [
      "hover data: {'points': [{'curveNumber': 1, 'pointNumber': 4, 'pointIndex': 4, 'x': 2018, 'y': 1182, 'customdata': ['ZACHODNIOPOMORSKIE', 1182, 129, 1357]}]}\n"
     ]
    },
    {
     "name": "stderr",
     "output_type": "stream",
     "text": [
      "127.0.0.1 - - [18/Dec/2021 20:18:10] \"\u001b[37mPOST /_dash-update-component HTTP/1.1\u001b[0m\" 200 -\n",
      "127.0.0.1 - - [18/Dec/2021 20:18:11] \"\u001b[37mPOST /_dash-update-component HTTP/1.1\u001b[0m\" 200 -\n"
     ]
    },
    {
     "name": "stdout",
     "output_type": "stream",
     "text": [
      "hover data: {'points': [{'curveNumber': 1, 'pointNumber': 4, 'pointIndex': 4, 'x': 2018, 'y': 1182, 'customdata': ['ZACHODNIOPOMORSKIE', 1182, 129, 1357]}]}\n"
     ]
    },
    {
     "name": "stderr",
     "output_type": "stream",
     "text": [
      "127.0.0.1 - - [18/Dec/2021 20:18:11] \"\u001b[37mPOST /_dash-update-component HTTP/1.1\u001b[0m\" 200 -\n",
      "127.0.0.1 - - [18/Dec/2021 20:18:12] \"\u001b[37mPOST /_dash-update-component HTTP/1.1\u001b[0m\" 200 -\n"
     ]
    },
    {
     "name": "stdout",
     "output_type": "stream",
     "text": [
      "hover data: {'points': [{'curveNumber': 1, 'pointNumber': 4, 'pointIndex': 4, 'x': 2018, 'y': 1182, 'customdata': ['ZACHODNIOPOMORSKIE', 1182, 129, 1357]}]}\n"
     ]
    },
    {
     "name": "stderr",
     "output_type": "stream",
     "text": [
      "127.0.0.1 - - [18/Dec/2021 20:18:13] \"\u001b[37mPOST /_dash-update-component HTTP/1.1\u001b[0m\" 200 -\n",
      "127.0.0.1 - - [18/Dec/2021 20:18:19] \"\u001b[37mPOST /_dash-update-component HTTP/1.1\u001b[0m\" 200 -\n"
     ]
    },
    {
     "name": "stdout",
     "output_type": "stream",
     "text": [
      "hover data: {'points': [{'curveNumber': 10, 'pointNumber': 0, 'pointIndex': 0, 'x': 2014, 'y': 2724, 'customdata': ['POMORSKIE', 2724, 181, 3476]}]}\n"
     ]
    },
    {
     "name": "stderr",
     "output_type": "stream",
     "text": [
      "127.0.0.1 - - [18/Dec/2021 20:18:20] \"\u001b[37mPOST /_dash-update-component HTTP/1.1\u001b[0m\" 200 -\n"
     ]
    },
    {
     "name": "stdout",
     "output_type": "stream",
     "text": [
      "hover data: {'points': [{'curveNumber': 0, 'pointNumber': 0, 'pointIndex': 0, 'x': 2014, 'y': 2466, 'customdata': ['DOLNOŚLĄSKIE', 2466, 242, 3154]}]}\n"
     ]
    },
    {
     "name": "stderr",
     "output_type": "stream",
     "text": [
      "127.0.0.1 - - [18/Dec/2021 20:18:21] \"\u001b[37mPOST /_dash-update-component HTTP/1.1\u001b[0m\" 200 -\n"
     ]
    },
    {
     "name": "stdout",
     "output_type": "stream",
     "text": [
      "hover data: {'points': [{'curveNumber': 10, 'pointNumber': 1, 'pointIndex': 1, 'x': 2015, 'y': 2675, 'customdata': ['POMORSKIE', 2675, 170, 3347]}]}\n"
     ]
    },
    {
     "name": "stderr",
     "output_type": "stream",
     "text": [
      "127.0.0.1 - - [18/Dec/2021 20:18:21] \"\u001b[37mPOST /_dash-update-component HTTP/1.1\u001b[0m\" 200 -\n"
     ]
    },
    {
     "name": "stdout",
     "output_type": "stream",
     "text": [
      "hover data: {'points': [{'curveNumber': 10, 'pointNumber': 0, 'pointIndex': 0, 'x': 2014, 'y': 2724, 'customdata': ['POMORSKIE', 2724, 181, 3476]}]}\n"
     ]
    },
    {
     "name": "stderr",
     "output_type": "stream",
     "text": [
      "127.0.0.1 - - [18/Dec/2021 20:18:22] \"\u001b[37mPOST /_dash-update-component HTTP/1.1\u001b[0m\" 200 -\n"
     ]
    },
    {
     "name": "stdout",
     "output_type": "stream",
     "text": [
      "hover data: {'points': [{'curveNumber': 10, 'pointNumber': 1, 'pointIndex': 1, 'x': 2015, 'y': 2675, 'customdata': ['POMORSKIE', 2675, 170, 3347]}]}\n"
     ]
    },
    {
     "name": "stderr",
     "output_type": "stream",
     "text": [
      "127.0.0.1 - - [18/Dec/2021 20:18:23] \"\u001b[37mPOST /_dash-update-component HTTP/1.1\u001b[0m\" 200 -\n"
     ]
    },
    {
     "name": "stdout",
     "output_type": "stream",
     "text": [
      "hover data: {'points': [{'curveNumber': 10, 'pointNumber': 2, 'pointIndex': 2, 'x': 2016, 'y': 2725, 'customdata': ['POMORSKIE', 2725, 144, 3357]}]}\n"
     ]
    },
    {
     "name": "stderr",
     "output_type": "stream",
     "text": [
      "127.0.0.1 - - [18/Dec/2021 20:18:24] \"\u001b[37mPOST /_dash-update-component HTTP/1.1\u001b[0m\" 200 -\n"
     ]
    },
    {
     "name": "stdout",
     "output_type": "stream",
     "text": [
      "hover data: {'points': [{'curveNumber': 10, 'pointNumber': 3, 'pointIndex': 3, 'x': 2017, 'y': 2608, 'customdata': ['POMORSKIE', 2608, 134, 3253]}]}\n"
     ]
    },
    {
     "name": "stderr",
     "output_type": "stream",
     "text": [
      "127.0.0.1 - - [18/Dec/2021 20:18:25] \"\u001b[37mPOST /_dash-update-component HTTP/1.1\u001b[0m\" 200 -\n"
     ]
    },
    {
     "name": "stdout",
     "output_type": "stream",
     "text": [
      "hover data: {'points': [{'curveNumber': 10, 'pointNumber': 4, 'pointIndex': 4, 'x': 2018, 'y': 2504, 'customdata': ['POMORSKIE', 2504, 146, 3098]}]}\n"
     ]
    },
    {
     "name": "stderr",
     "output_type": "stream",
     "text": [
      "127.0.0.1 - - [18/Dec/2021 20:18:27] \"\u001b[37mPOST /_dash-update-component HTTP/1.1\u001b[0m\" 200 -\n"
     ]
    },
    {
     "name": "stdout",
     "output_type": "stream",
     "text": [
      "hover data: {'points': [{'curveNumber': 10, 'pointNumber': 5, 'pointIndex': 5, 'x': 2019, 'y': 2297, 'customdata': ['POMORSKIE', 2297, 160, 2775]}]}\n"
     ]
    },
    {
     "name": "stderr",
     "output_type": "stream",
     "text": [
      "127.0.0.1 - - [18/Dec/2021 20:18:28] \"\u001b[37mPOST /_dash-update-component HTTP/1.1\u001b[0m\" 200 -\n"
     ]
    },
    {
     "name": "stdout",
     "output_type": "stream",
     "text": [
      "hover data: {'points': [{'curveNumber': 10, 'pointNumber': 6, 'pointIndex': 6, 'x': 2020, 'y': 1848, 'customdata': ['POMORSKIE', 1848, 169, 2236]}]}\n"
     ]
    },
    {
     "name": "stderr",
     "output_type": "stream",
     "text": [
      "127.0.0.1 - - [18/Dec/2021 20:18:28] \"\u001b[37mPOST /_dash-update-component HTTP/1.1\u001b[0m\" 200 -\n"
     ]
    },
    {
     "name": "stdout",
     "output_type": "stream",
     "text": [
      "hover data: {'points': [{'curveNumber': 13, 'pointNumber': 6, 'pointIndex': 6, 'x': 2020, 'y': 1040, 'customdata': ['WARMIŃSKO-MAZURSKIE', 1040, 115, 1186]}]}\n"
     ]
    },
    {
     "name": "stderr",
     "output_type": "stream",
     "text": [
      "127.0.0.1 - - [18/Dec/2021 20:18:31] \"\u001b[37mPOST /_dash-update-component HTTP/1.1\u001b[0m\" 200 -\n",
      "127.0.0.1 - - [18/Dec/2021 20:18:31] \"\u001b[37mPOST /_dash-update-component HTTP/1.1\u001b[0m\" 200 -\n"
     ]
    },
    {
     "name": "stdout",
     "output_type": "stream",
     "text": [
      "hover data: {'points': [{'curveNumber': 0, 'pointNumber': 6, 'pointIndex': 6, 'x': 2020, 'y': 1578, 'customdata': ['DOLNOŚLĄSKIE', 1578, 165, 1794]}]}\n",
      "hover data: {'points': [{'curveNumber': 15, 'pointNumber': 5, 'pointIndex': 5, 'x': 2019, 'y': 1221, 'customdata': ['ZACHODNIOPOMORSKIE', 1221, 129, 1406]}]}\n",
      "hover data: {'points': [{'curveNumber': 8, 'pointNumber': 5, 'pointIndex': 5, 'x': 2019, 'y': 1481, 'customdata': ['PODKARPACKIE', 1481, 157, 1708]}]}\n"
     ]
    },
    {
     "name": "stderr",
     "output_type": "stream",
     "text": [
      "127.0.0.1 - - [18/Dec/2021 20:18:31] \"\u001b[37mPOST /_dash-update-component HTTP/1.1\u001b[0m\" 200 -\n",
      "127.0.0.1 - - [18/Dec/2021 20:18:31] \"\u001b[37mPOST /_dash-update-component HTTP/1.1\u001b[0m\" 200 -\n"
     ]
    },
    {
     "name": "stdout",
     "output_type": "stream",
     "text": [
      "hover data: {'points': [{'curveNumber': 0, 'pointNumber': 5, 'pointIndex': 5, 'x': 2019, 'y': 1929, 'customdata': ['DOLNOŚLĄSKIE', 1929, 215, 2275]}]}\n"
     ]
    },
    {
     "name": "stderr",
     "output_type": "stream",
     "text": [
      "127.0.0.1 - - [18/Dec/2021 20:18:33] \"\u001b[37mPOST /_dash-update-component HTTP/1.1\u001b[0m\" 200 -\n"
     ]
    },
    {
     "name": "stdout",
     "output_type": "stream",
     "text": [
      "hover data: {'points': [{'curveNumber': 10, 'pointNumber': 4, 'pointIndex': 4, 'x': 2018, 'y': 2504, 'customdata': ['POMORSKIE', 2504, 146, 3098]}]}\n"
     ]
    },
    {
     "name": "stderr",
     "output_type": "stream",
     "text": [
      "127.0.0.1 - - [18/Dec/2021 20:18:33] \"\u001b[37mPOST /_dash-update-component HTTP/1.1\u001b[0m\" 200 -\n",
      "127.0.0.1 - - [18/Dec/2021 20:18:34] \"\u001b[37mPOST /_dash-update-component HTTP/1.1\u001b[0m\" 200 -\n"
     ]
    },
    {
     "name": "stdout",
     "output_type": "stream",
     "text": [
      "hover data: {'points': [{'curveNumber': 13, 'pointNumber': 3, 'pointIndex': 3, 'x': 2017, 'y': 1455, 'customdata': ['WARMIŃSKO-MAZURSKIE', 1455, 118, 1734]}]}\n",
      "hover data: {'points': [{'curveNumber': 3, 'pointNumber': 3, 'pointIndex': 3, 'x': 2017, 'y': 682, 'customdata': ['LUBUSKIE', 682, 84, 855]}]}\n"
     ]
    },
    {
     "name": "stderr",
     "output_type": "stream",
     "text": [
      "127.0.0.1 - - [18/Dec/2021 20:18:35] \"\u001b[37mPOST /_dash-update-component HTTP/1.1\u001b[0m\" 200 -\n",
      "127.0.0.1 - - [18/Dec/2021 20:18:35] \"\u001b[37mPOST /_dash-update-component HTTP/1.1\u001b[0m\" 200 -\n"
     ]
    },
    {
     "name": "stdout",
     "output_type": "stream",
     "text": [
      "hover data: {'points': [{'curveNumber': 7, 'pointNumber': 4, 'pointIndex': 4, 'x': 2018, 'y': 705, 'customdata': ['OPOLSKIE', 705, 81, 787]}]}\n",
      "hover data: {'points': [{'curveNumber': 1, 'pointNumber': 4, 'pointIndex': 4, 'x': 2018, 'y': 970, 'customdata': ['KUJAWSKO-POMORSKIE', 970, 171, 1031]}]}\n"
     ]
    },
    {
     "name": "stderr",
     "output_type": "stream",
     "text": [
      "127.0.0.1 - - [18/Dec/2021 20:18:36] \"\u001b[37mPOST /_dash-update-component HTTP/1.1\u001b[0m\" 200 -\n",
      "127.0.0.1 - - [18/Dec/2021 20:18:36] \"\u001b[37mPOST /_dash-update-component HTTP/1.1\u001b[0m\" 200 -\n"
     ]
    },
    {
     "name": "stdout",
     "output_type": "stream",
     "text": [
      "hover data: {'points': [{'curveNumber': 9, 'pointNumber': 5, 'pointIndex': 5, 'x': 2019, 'y': 585, 'customdata': ['PODLASKIE', 585, 106, 620]}]}\n",
      "hover data: {'points': [{'curveNumber': 3, 'pointNumber': 5, 'pointIndex': 5, 'x': 2019, 'y': 660, 'customdata': ['LUBUSKIE', 660, 92, 775]}]}\n",
      "hover data: {'points': [{'curveNumber': 1, 'pointNumber': 5, 'pointIndex': 5, 'x': 2019, 'y': 940, 'customdata': ['KUJAWSKO-POMORSKIE', 940, 211, 974]}]}\n"
     ]
    },
    {
     "name": "stderr",
     "output_type": "stream",
     "text": [
      "127.0.0.1 - - [18/Dec/2021 20:18:36] \"\u001b[37mPOST /_dash-update-component HTTP/1.1\u001b[0m\" 200 -\n",
      "127.0.0.1 - - [18/Dec/2021 20:18:36] \"\u001b[37mPOST /_dash-update-component HTTP/1.1\u001b[0m\" 200 -\n",
      "127.0.0.1 - - [18/Dec/2021 20:18:37] \"\u001b[37mPOST /_dash-update-component HTTP/1.1\u001b[0m\" 200 -\n"
     ]
    },
    {
     "name": "stdout",
     "output_type": "stream",
     "text": [
      "hover data: {'points': [{'curveNumber': 12, 'pointNumber': 5, 'pointIndex': 5, 'x': 2019, 'y': 1056, 'customdata': ['ŚWIĘTOKRZYSKIE', 1056, 131, 1241]}]}\n",
      "hover data: {'points': [{'curveNumber': 2, 'pointNumber': 5, 'pointIndex': 5, 'x': 2019, 'y': 1139, 'customdata': ['LUBELSKIE', 1139, 170, 1233]}]}\n",
      "hover data: {'points': [{'curveNumber': 15, 'pointNumber': 5, 'pointIndex': 5, 'x': 2019, 'y': 1221, 'customdata': ['ZACHODNIOPOMORSKIE', 1221, 129, 1406]}]}\n"
     ]
    },
    {
     "name": "stderr",
     "output_type": "stream",
     "text": [
      "127.0.0.1 - - [18/Dec/2021 20:18:37] \"\u001b[37mPOST /_dash-update-component HTTP/1.1\u001b[0m\" 200 -\n",
      "127.0.0.1 - - [18/Dec/2021 20:18:37] \"\u001b[37mPOST /_dash-update-component HTTP/1.1\u001b[0m\" 200 -\n",
      "127.0.0.1 - - [18/Dec/2021 20:18:37] \"\u001b[37mPOST /_dash-update-component HTTP/1.1\u001b[0m\" 200 -\n",
      "127.0.0.1 - - [18/Dec/2021 20:18:37] \"\u001b[37mPOST /_dash-update-component HTTP/1.1\u001b[0m\" 200 -\n"
     ]
    },
    {
     "name": "stdout",
     "output_type": "stream",
     "text": [
      "hover data: {'points': [{'curveNumber': 8, 'pointNumber': 5, 'pointIndex': 5, 'x': 2019, 'y': 1481, 'customdata': ['PODKARPACKIE', 1481, 157, 1708]}]}\n",
      "hover data: {'points': [{'curveNumber': 0, 'pointNumber': 5, 'pointIndex': 5, 'x': 2019, 'y': 1929, 'customdata': ['DOLNOŚLĄSKIE', 1929, 215, 2275]}]}\n",
      "hover data: {'points': [{'curveNumber': 10, 'pointNumber': 5, 'pointIndex': 5, 'x': 2019, 'y': 2297, 'customdata': ['POMORSKIE', 2297, 160, 2775]}]}\n",
      "hover data: {'points': [{'curveNumber': 11, 'pointNumber': 5, 'pointIndex': 5, 'x': 2019, 'y': 2965, 'customdata': ['ŚLĄSKIE', 2965, 199, 3561]}]}\n"
     ]
    },
    {
     "name": "stderr",
     "output_type": "stream",
     "text": [
      "127.0.0.1 - - [18/Dec/2021 20:18:37] \"\u001b[37mPOST /_dash-update-component HTTP/1.1\u001b[0m\" 200 -\n",
      "127.0.0.1 - - [18/Dec/2021 20:18:37] \"\u001b[37mPOST /_dash-update-component HTTP/1.1\u001b[0m\" 200 -\n",
      "127.0.0.1 - - [18/Dec/2021 20:18:37] \"\u001b[37mPOST /_dash-update-component HTTP/1.1\u001b[0m\" 200 -\n"
     ]
    },
    {
     "name": "stdout",
     "output_type": "stream",
     "text": [
      "hover data: {'points': [{'curveNumber': 5, 'pointNumber': 5, 'pointIndex': 5, 'x': 2019, 'y': 3136, 'customdata': ['MAŁOPOLSKIE', 3136, 176, 3716]}]}\n",
      "hover data: {'points': [{'curveNumber': 4, 'pointNumber': 5, 'pointIndex': 5, 'x': 2019, 'y': 3351, 'customdata': ['ŁÓDZKIE', 3351, 239, 4047]}]}\n"
     ]
    },
    {
     "name": "stderr",
     "output_type": "stream",
     "text": [
      "127.0.0.1 - - [18/Dec/2021 20:18:37] \"\u001b[37mPOST /_dash-update-component HTTP/1.1\u001b[0m\" 200 -\n"
     ]
    },
    {
     "name": "stdout",
     "output_type": "stream",
     "text": [
      "hover data: {'points': [{'curveNumber': 6, 'pointNumber': 5, 'pointIndex': 5, 'x': 2019, 'y': 3802, 'customdata': ['MAZOWIECKIE', 3802, 469, 4391]}]}\n"
     ]
    },
    {
     "name": "stderr",
     "output_type": "stream",
     "text": [
      "127.0.0.1 - - [18/Dec/2021 20:18:38] \"\u001b[37mPOST /_dash-update-component HTTP/1.1\u001b[0m\" 200 -\n"
     ]
    },
    {
     "name": "stdout",
     "output_type": "stream",
     "text": [
      "hover data: {'points': [{'curveNumber': 14, 'pointNumber': 5, 'pointIndex': 5, 'x': 2019, 'y': 3894, 'customdata': ['WIELKOPOLSKIE', 3894, 279, 4566]}]}\n"
     ]
    },
    {
     "name": "stderr",
     "output_type": "stream",
     "text": [
      "127.0.0.1 - - [18/Dec/2021 20:18:39] \"\u001b[37mPOST /_dash-update-component HTTP/1.1\u001b[0m\" 200 -\n"
     ]
    },
    {
     "name": "stdout",
     "output_type": "stream",
     "text": [
      "hover data: {'points': [{'curveNumber': 6, 'pointNumber': 5, 'pointIndex': 5, 'x': 2019, 'y': 3802, 'customdata': ['MAZOWIECKIE', 3802, 469, 4391]}]}\n"
     ]
    },
    {
     "name": "stderr",
     "output_type": "stream",
     "text": [
      "127.0.0.1 - - [18/Dec/2021 20:18:40] \"\u001b[37mPOST /_dash-update-component HTTP/1.1\u001b[0m\" 200 -\n"
     ]
    },
    {
     "name": "stdout",
     "output_type": "stream",
     "text": [
      "hover data: {'points': [{'curveNumber': 4, 'pointNumber': 5, 'pointIndex': 5, 'x': 2019, 'y': 3351, 'customdata': ['ŁÓDZKIE', 3351, 239, 4047]}]}\n"
     ]
    },
    {
     "name": "stderr",
     "output_type": "stream",
     "text": [
      "127.0.0.1 - - [18/Dec/2021 20:18:40] \"\u001b[37mPOST /_dash-update-component HTTP/1.1\u001b[0m\" 200 -\n"
     ]
    },
    {
     "name": "stdout",
     "output_type": "stream",
     "text": [
      "hover data: {'points': [{'curveNumber': 5, 'pointNumber': 5, 'pointIndex': 5, 'x': 2019, 'y': 3136, 'customdata': ['MAŁOPOLSKIE', 3136, 176, 3716]}]}\n",
      "hover data: {'points': [{'curveNumber': 11, 'pointNumber': 5, 'pointIndex': 5, 'x': 2019, 'y': 2965, 'customdata': ['ŚLĄSKIE', 2965, 199, 3561]}]}\n"
     ]
    },
    {
     "name": "stderr",
     "output_type": "stream",
     "text": [
      "127.0.0.1 - - [18/Dec/2021 20:18:40] \"\u001b[37mPOST /_dash-update-component HTTP/1.1\u001b[0m\" 200 -\n",
      "127.0.0.1 - - [18/Dec/2021 20:18:41] \"\u001b[37mPOST /_dash-update-component HTTP/1.1\u001b[0m\" 200 -\n",
      "127.0.0.1 - - [18/Dec/2021 20:18:41] \"\u001b[37mPOST /_dash-update-component HTTP/1.1\u001b[0m\" 200 -\n"
     ]
    },
    {
     "name": "stdout",
     "output_type": "stream",
     "text": [
      "hover data: {'points': [{'curveNumber': 5, 'pointNumber': 5, 'pointIndex': 5, 'x': 2019, 'y': 3136, 'customdata': ['MAŁOPOLSKIE', 3136, 176, 3716]}]}\n",
      "hover data: {'points': [{'curveNumber': 4, 'pointNumber': 5, 'pointIndex': 5, 'x': 2019, 'y': 3351, 'customdata': ['ŁÓDZKIE', 3351, 239, 4047]}]}\n"
     ]
    },
    {
     "name": "stderr",
     "output_type": "stream",
     "text": [
      "127.0.0.1 - - [18/Dec/2021 20:18:41] \"\u001b[37mPOST /_dash-update-component HTTP/1.1\u001b[0m\" 200 -\n"
     ]
    },
    {
     "name": "stdout",
     "output_type": "stream",
     "text": [
      "hover data: {'points': [{'curveNumber': 11, 'pointNumber': 4, 'pointIndex': 4, 'x': 2018, 'y': 3222, 'customdata': ['ŚLĄSKIE', 3222, 219, 3783]}]}\n"
     ]
    },
    {
     "name": "stderr",
     "output_type": "stream",
     "text": [
      "127.0.0.1 - - [18/Dec/2021 20:18:41] \"\u001b[37mPOST /_dash-update-component HTTP/1.1\u001b[0m\" 200 -\n"
     ]
    },
    {
     "name": "stdout",
     "output_type": "stream",
     "text": [
      "hover data: {'points': [{'curveNumber': 14, 'pointNumber': 3, 'pointIndex': 3, 'x': 2017, 'y': 3122, 'customdata': ['WIELKOPOLSKIE', 3122, 294, 3594]}]}\n"
     ]
    },
    {
     "name": "stderr",
     "output_type": "stream",
     "text": [
      "127.0.0.1 - - [18/Dec/2021 20:18:42] \"\u001b[37mPOST /_dash-update-component HTTP/1.1\u001b[0m\" 200 -\n",
      "127.0.0.1 - - [18/Dec/2021 20:18:42] \"\u001b[37mPOST /_dash-update-component HTTP/1.1\u001b[0m\" 200 -\n",
      "127.0.0.1 - - [18/Dec/2021 20:18:42] \"\u001b[37mPOST /_dash-update-component HTTP/1.1\u001b[0m\" 200 -\n"
     ]
    },
    {
     "name": "stdout",
     "output_type": "stream",
     "text": [
      "hover data: {'points': [{'curveNumber': 11, 'pointNumber': 4, 'pointIndex': 4, 'x': 2018, 'y': 3222, 'customdata': ['ŚLĄSKIE', 3222, 219, 3783]}]}\n",
      "hover data: {'points': [{'curveNumber': 5, 'pointNumber': 5, 'pointIndex': 5, 'x': 2019, 'y': 3136, 'customdata': ['MAŁOPOLSKIE', 3136, 176, 3716]}]}\n",
      "hover data: {'points': [{'curveNumber': 4, 'pointNumber': 5, 'pointIndex': 5, 'x': 2019, 'y': 3351, 'customdata': ['ŁÓDZKIE', 3351, 239, 4047]}]}\n"
     ]
    },
    {
     "name": "stderr",
     "output_type": "stream",
     "text": [
      "127.0.0.1 - - [18/Dec/2021 20:18:42] \"\u001b[37mPOST /_dash-update-component HTTP/1.1\u001b[0m\" 200 -\n",
      "127.0.0.1 - - [18/Dec/2021 20:18:43] \"\u001b[37mPOST /_dash-update-component HTTP/1.1\u001b[0m\" 200 -\n"
     ]
    },
    {
     "name": "stdout",
     "output_type": "stream",
     "text": [
      "hover data: {'points': [{'curveNumber': 6, 'pointNumber': 5, 'pointIndex': 5, 'x': 2019, 'y': 3802, 'customdata': ['MAZOWIECKIE', 3802, 469, 4391]}]}\n",
      "hover data: {'points': [{'curveNumber': 14, 'pointNumber': 5, 'pointIndex': 5, 'x': 2019, 'y': 3894, 'customdata': ['WIELKOPOLSKIE', 3894, 279, 4566]}]}\n"
     ]
    },
    {
     "name": "stderr",
     "output_type": "stream",
     "text": [
      "127.0.0.1 - - [18/Dec/2021 20:18:43] \"\u001b[37mPOST /_dash-update-component HTTP/1.1\u001b[0m\" 200 -\n",
      "127.0.0.1 - - [18/Dec/2021 20:18:44] \"\u001b[37mPOST /_dash-update-component HTTP/1.1\u001b[0m\" 200 -\n"
     ]
    },
    {
     "name": "stdout",
     "output_type": "stream",
     "text": [
      "hover data: {'points': [{'curveNumber': 6, 'pointNumber': 5, 'pointIndex': 5, 'x': 2019, 'y': 3802, 'customdata': ['MAZOWIECKIE', 3802, 469, 4391]}]}\n",
      "hover data: {'points': [{'curveNumber': 11, 'pointNumber': 5, 'pointIndex': 5, 'x': 2019, 'y': 2965, 'customdata': ['ŚLĄSKIE', 2965, 199, 3561]}]}\n",
      "hover data: {'points': [{'curveNumber': 8, 'pointNumber': 4, 'pointIndex': 4, 'x': 2018, 'y': 1481, 'customdata': ['PODKARPACKIE', 1481, 125, 1775]}]}\n"
     ]
    },
    {
     "name": "stderr",
     "output_type": "stream",
     "text": [
      "127.0.0.1 - - [18/Dec/2021 20:18:44] \"\u001b[37mPOST /_dash-update-component HTTP/1.1\u001b[0m\" 200 -\n",
      "127.0.0.1 - - [18/Dec/2021 20:18:44] \"\u001b[37mPOST /_dash-update-component HTTP/1.1\u001b[0m\" 200 -\n",
      "127.0.0.1 - - [18/Dec/2021 20:18:44] \"\u001b[37mPOST /_dash-update-component HTTP/1.1\u001b[0m\" 200 -\n"
     ]
    },
    {
     "name": "stdout",
     "output_type": "stream",
     "text": [
      "hover data: {'points': [{'curveNumber': 1, 'pointNumber': 4, 'pointIndex': 4, 'x': 2018, 'y': 970, 'customdata': ['KUJAWSKO-POMORSKIE', 970, 171, 1031]}]}\n",
      "hover data: {'points': [{'curveNumber': 8, 'pointNumber': 4, 'pointIndex': 4, 'x': 2018, 'y': 1481, 'customdata': ['PODKARPACKIE', 1481, 125, 1775]}]}\n",
      "hover data: {'points': [{'curveNumber': 10, 'pointNumber': 4, 'pointIndex': 4, 'x': 2018, 'y': 2504, 'customdata': ['POMORSKIE', 2504, 146, 3098]}]}"
     ]
    },
    {
     "name": "stderr",
     "output_type": "stream",
     "text": [
      "127.0.0.1 - - [18/Dec/2021 20:18:44] \"\u001b[37mPOST /_dash-update-component HTTP/1.1\u001b[0m\" 200 -\n"
     ]
    },
    {
     "name": "stdout",
     "output_type": "stream",
     "text": [
      "\n",
      "hover data: {'points': [{'curveNumber': 11, 'pointNumber': 4, 'pointIndex': 4, 'x': 2018, 'y': 3222, 'customdata': ['ŚLĄSKIE', 3222, 219, 3783]}]}\n"
     ]
    },
    {
     "name": "stderr",
     "output_type": "stream",
     "text": [
      "127.0.0.1 - - [18/Dec/2021 20:18:44] \"\u001b[37mPOST /_dash-update-component HTTP/1.1\u001b[0m\" 200 -\n",
      "127.0.0.1 - - [18/Dec/2021 20:18:44] \"\u001b[37mPOST /_dash-update-component HTTP/1.1\u001b[0m\" 200 -\n"
     ]
    },
    {
     "name": "stdout",
     "output_type": "stream",
     "text": [
      "hover data: {'points': [{'curveNumber': 14, 'pointNumber': 4, 'pointIndex': 4, 'x': 2018, 'y': 3232, 'customdata': ['WIELKOPOLSKIE', 3232, 261, 3766]}]}\n"
     ]
    },
    {
     "name": "stderr",
     "output_type": "stream",
     "text": [
      "127.0.0.1 - - [18/Dec/2021 20:18:45] \"\u001b[37mPOST /_dash-update-component HTTP/1.1\u001b[0m\" 200 -\n"
     ]
    },
    {
     "name": "stdout",
     "output_type": "stream",
     "text": [
      "hover data: {'points': [{'curveNumber': 6, 'pointNumber': 5, 'pointIndex': 5, 'x': 2019, 'y': 3802, 'customdata': ['MAZOWIECKIE', 3802, 469, 4391]}]}\n",
      "hover data: {'points': [{'curveNumber': 14, 'pointNumber': 5, 'pointIndex': 5, 'x': 2019, 'y': 3894, 'customdata': ['WIELKOPOLSKIE', 3894, 279, 4566]}]}\n"
     ]
    },
    {
     "name": "stderr",
     "output_type": "stream",
     "text": [
      "127.0.0.1 - - [18/Dec/2021 20:18:45] \"\u001b[37mPOST /_dash-update-component HTTP/1.1\u001b[0m\" 200 -\n",
      "127.0.0.1 - - [18/Dec/2021 20:18:46] \"\u001b[37mPOST /_dash-update-component HTTP/1.1\u001b[0m\" 200 -\n"
     ]
    },
    {
     "name": "stdout",
     "output_type": "stream",
     "text": [
      "hover data: {'points': [{'curveNumber': 6, 'pointNumber': 5, 'pointIndex': 5, 'x': 2019, 'y': 3802, 'customdata': ['MAZOWIECKIE', 3802, 469, 4391]}]}\n"
     ]
    },
    {
     "name": "stderr",
     "output_type": "stream",
     "text": [
      "127.0.0.1 - - [18/Dec/2021 20:18:46] \"\u001b[37mPOST /_dash-update-component HTTP/1.1\u001b[0m\" 200 -\n"
     ]
    },
    {
     "name": "stdout",
     "output_type": "stream",
     "text": [
      "hover data: {'points': [{'curveNumber': 14, 'pointNumber': 5, 'pointIndex': 5, 'x': 2019, 'y': 3894, 'customdata': ['WIELKOPOLSKIE', 3894, 279, 4566]}]}\n"
     ]
    },
    {
     "name": "stderr",
     "output_type": "stream",
     "text": [
      "127.0.0.1 - - [18/Dec/2021 20:18:47] \"\u001b[37mPOST /_dash-update-component HTTP/1.1\u001b[0m\" 200 -\n"
     ]
    },
    {
     "name": "stdout",
     "output_type": "stream",
     "text": [
      "hover data: {'points': [{'curveNumber': 11, 'pointNumber': 4, 'pointIndex': 4, 'x': 2018, 'y': 3222, 'customdata': ['ŚLĄSKIE', 3222, 219, 3783]}]}\n",
      "hover data: {'points': [{'curveNumber': 11, 'pointNumber': 4, 'pointIndex': 4, 'x': 2018, 'y': 3222, 'customdata': ['ŚLĄSKIE', 3222, 219, 3783]}]}\n"
     ]
    },
    {
     "name": "stderr",
     "output_type": "stream",
     "text": [
      "127.0.0.1 - - [18/Dec/2021 20:18:47] \"\u001b[37mPOST /_dash-update-component HTTP/1.1\u001b[0m\" 200 -\n",
      "127.0.0.1 - - [18/Dec/2021 20:18:47] \"\u001b[37mPOST /_dash-update-component HTTP/1.1\u001b[0m\" 200 -\n",
      "127.0.0.1 - - [18/Dec/2021 20:18:47] \"\u001b[37mPOST /_dash-update-component HTTP/1.1\u001b[0m\" 200 -\n"
     ]
    },
    {
     "name": "stdout",
     "output_type": "stream",
     "text": [
      "hover data: {'points': [{'curveNumber': 14, 'pointNumber': 4, 'pointIndex': 4, 'x': 2018, 'y': 3232, 'customdata': ['WIELKOPOLSKIE', 3232, 261, 3766]}]}\n",
      "hover data: {'points': [{'curveNumber': 6, 'pointNumber': 5, 'pointIndex': 5, 'x': 2019, 'y': 3802, 'customdata': ['MAZOWIECKIE', 3802, 469, 4391]}]}\n"
     ]
    },
    {
     "name": "stderr",
     "output_type": "stream",
     "text": [
      "127.0.0.1 - - [18/Dec/2021 20:18:47] \"\u001b[37mPOST /_dash-update-component HTTP/1.1\u001b[0m\" 200 -\n"
     ]
    },
    {
     "name": "stdout",
     "output_type": "stream",
     "text": [
      "hover data: {'points': [{'curveNumber': 14, 'pointNumber': 5, 'pointIndex': 5, 'x': 2019, 'y': 3894, 'customdata': ['WIELKOPOLSKIE', 3894, 279, 4566]}]}\n"
     ]
    },
    {
     "name": "stderr",
     "output_type": "stream",
     "text": [
      "127.0.0.1 - - [18/Dec/2021 20:18:49] \"\u001b[37mPOST /_dash-update-component HTTP/1.1\u001b[0m\" 200 -\n",
      "127.0.0.1 - - [18/Dec/2021 20:18:49] \"\u001b[37mPOST /_dash-update-component HTTP/1.1\u001b[0m\" 200 -\n",
      "127.0.0.1 - - [18/Dec/2021 20:18:49] \"\u001b[37mPOST /_dash-update-component HTTP/1.1\u001b[0m\" 200 -\n"
     ]
    },
    {
     "name": "stdout",
     "output_type": "stream",
     "text": [
      "hover data: {'points': [{'curveNumber': 6, 'pointNumber': 5, 'pointIndex': 5, 'x': 2019, 'y': 3802, 'customdata': ['MAZOWIECKIE', 3802, 469, 4391]}]}\n",
      "hover data: {'points': [{'curveNumber': 14, 'pointNumber': 4, 'pointIndex': 4, 'x': 2018, 'y': 3232, 'customdata': ['WIELKOPOLSKIE', 3232, 261, 3766]}]}\n",
      "hover data: {'points': [{'curveNumber': 11, 'pointNumber': 4, 'pointIndex': 4, 'x': 2018, 'y': 3222, 'customdata': ['ŚLĄSKIE', 3222, 219, 3783]}]}\n"
     ]
    },
    {
     "name": "stderr",
     "output_type": "stream",
     "text": [
      "127.0.0.1 - - [18/Dec/2021 20:18:49] \"\u001b[37mPOST /_dash-update-component HTTP/1.1\u001b[0m\" 200 -\n"
     ]
    },
    {
     "name": "stdout",
     "output_type": "stream",
     "text": [
      "hover data: {'points': [{'curveNumber': 14, 'pointNumber': 4, 'pointIndex': 4, 'x': 2018, 'y': 3232, 'customdata': ['WIELKOPOLSKIE', 3232, 261, 3766]}]}\n"
     ]
    },
    {
     "name": "stderr",
     "output_type": "stream",
     "text": [
      "127.0.0.1 - - [18/Dec/2021 20:18:49] \"\u001b[37mPOST /_dash-update-component HTTP/1.1\u001b[0m\" 200 -\n",
      "127.0.0.1 - - [18/Dec/2021 20:18:50] \"\u001b[37mPOST /_dash-update-component HTTP/1.1\u001b[0m\" 200 -\n"
     ]
    },
    {
     "name": "stdout",
     "output_type": "stream",
     "text": [
      "hover data: {'points': [{'curveNumber': 6, 'pointNumber': 5, 'pointIndex': 5, 'x': 2019, 'y': 3802, 'customdata': ['MAZOWIECKIE', 3802, 469, 4391]}]}\n",
      "hover data: {'points': [{'curveNumber': 14, 'pointNumber': 5, 'pointIndex': 5, 'x': 2019, 'y': 3894, 'customdata': ['WIELKOPOLSKIE', 3894, 279, 4566]}]}\n"
     ]
    },
    {
     "name": "stderr",
     "output_type": "stream",
     "text": [
      "127.0.0.1 - - [18/Dec/2021 20:18:51] \"\u001b[37mPOST /_dash-update-component HTTP/1.1\u001b[0m\" 200 -\n"
     ]
    },
    {
     "name": "stdout",
     "output_type": "stream",
     "text": [
      "hover data: {'points': [{'curveNumber': 12, 'pointNumber': 0, 'pointIndex': 0, 'x': 2014, 'y': 1308, 'customdata': ['ŚWIĘTOKRZYSKIE', 1308, 130, 1621]}]}\n"
     ]
    },
    {
     "name": "stderr",
     "output_type": "stream",
     "text": [
      "127.0.0.1 - - [18/Dec/2021 20:18:51] \"\u001b[37mPOST /_dash-update-component HTTP/1.1\u001b[0m\" 200 -\n",
      "127.0.0.1 - - [18/Dec/2021 20:18:51] \"\u001b[37mPOST /_dash-update-component HTTP/1.1\u001b[0m\" 200 -\n",
      "127.0.0.1 - - [18/Dec/2021 20:18:51] \"\u001b[37mPOST /_dash-update-component HTTP/1.1\u001b[0m\" 200 -\n"
     ]
    },
    {
     "name": "stdout",
     "output_type": "stream",
     "text": [
      "hover data: {'points': [{'curveNumber': 7, 'pointNumber': 2, 'pointIndex': 2, 'x': 2016, 'y': 754, 'customdata': ['OPOLSKIE', 754, 99, 859]}]}\n",
      "hover data: {'points': [{'curveNumber': 8, 'pointNumber': 2, 'pointIndex': 2, 'x': 2016, 'y': 1682, 'customdata': ['PODKARPACKIE', 1682, 141, 2019]}]}\n",
      "hover data: {'points': [{'curveNumber': 14, 'pointNumber': 2, 'pointIndex': 2, 'x': 2016, 'y': 2316, 'customdata': ['WIELKOPOLSKIE', 2316, 249, 2683]}]}\n"
     ]
    },
    {
     "name": "stderr",
     "output_type": "stream",
     "text": [
      "127.0.0.1 - - [18/Dec/2021 20:18:51] \"\u001b[37mPOST /_dash-update-component HTTP/1.1\u001b[0m\" 200 -\n",
      "127.0.0.1 - - [18/Dec/2021 20:18:51] \"\u001b[37mPOST /_dash-update-component HTTP/1.1\u001b[0m\" 200 -\n"
     ]
    },
    {
     "name": "stdout",
     "output_type": "stream",
     "text": [
      "hover data: {'points': [{'curveNumber': 14, 'pointNumber': 2, 'pointIndex': 2, 'x': 2016, 'y': 2316, 'customdata': ['WIELKOPOLSKIE', 2316, 249, 2683]}]}\n",
      "hover data: {'points': [{'curveNumber': 0, 'pointNumber': 2, 'pointIndex': 2, 'x': 2016, 'y': 2324, 'customdata': ['DOLNOŚLĄSKIE', 2324, 226, 2907]}]}\n",
      "hover data: {'points': [{'curveNumber': 14, 'pointNumber': 2, 'pointIndex': 2, 'x': 2016, 'y': 2316, 'customdata': ['WIELKOPOLSKIE', 2316, 249, 2683]}]}\n"
     ]
    },
    {
     "name": "stderr",
     "output_type": "stream",
     "text": [
      "127.0.0.1 - - [18/Dec/2021 20:18:52] \"\u001b[37mPOST /_dash-update-component HTTP/1.1\u001b[0m\" 200 -\n",
      "127.0.0.1 - - [18/Dec/2021 20:18:52] \"\u001b[37mPOST /_dash-update-component HTTP/1.1\u001b[0m\" 200 -\n"
     ]
    },
    {
     "name": "stdout",
     "output_type": "stream",
     "text": [
      "hover data: {'points': [{'curveNumber': 9, 'pointNumber': 4, 'pointIndex': 4, 'x': 2018, 'y': 672, 'customdata': ['PODLASKIE', 672, 102, 771]}]}\n",
      "hover data: {'points': [{'curveNumber': 2, 'pointNumber': 5, 'pointIndex': 5, 'x': 2019, 'y': 1139, 'customdata': ['LUBELSKIE', 1139, 170, 1233]}]}"
     ]
    },
    {
     "name": "stderr",
     "output_type": "stream",
     "text": [
      "127.0.0.1 - - [18/Dec/2021 20:18:52] \"\u001b[37mPOST /_dash-update-component HTTP/1.1\u001b[0m\" 200 -\n",
      "127.0.0.1 - - [18/Dec/2021 20:18:52] \"\u001b[37mPOST /_dash-update-component HTTP/1.1\u001b[0m\" 200 -\n"
     ]
    },
    {
     "name": "stdout",
     "output_type": "stream",
     "text": [
      "\n",
      "hover data: {'points': [{'curveNumber': 6, 'pointNumber': 6, 'pointIndex': 6, 'x': 2020, 'y': 2960, 'customdata': ['MAZOWIECKIE', 2960, 420, 3295]}]}\n"
     ]
    },
    {
     "name": "stderr",
     "output_type": "stream",
     "text": [
      "127.0.0.1 - - [18/Dec/2021 20:18:52] \"\u001b[37mPOST /_dash-update-component HTTP/1.1\u001b[0m\" 200 -\n"
     ]
    },
    {
     "name": "stdout",
     "output_type": "stream",
     "text": [
      "hover data: {'points': [{'curveNumber': 14, 'pointNumber': 5, 'pointIndex': 5, 'x': 2019, 'y': 3894, 'customdata': ['WIELKOPOLSKIE', 3894, 279, 4566]}]}\n"
     ]
    },
    {
     "name": "stderr",
     "output_type": "stream",
     "text": [
      "127.0.0.1 - - [18/Dec/2021 20:18:53] \"\u001b[37mPOST /_dash-update-component HTTP/1.1\u001b[0m\" 200 -\n"
     ]
    },
    {
     "name": "stdout",
     "output_type": "stream",
     "text": [
      "hover data: {'points': [{'curveNumber': 0, 'pointNumber': 3, 'pointIndex': 3, 'x': 2017, 'y': 2183, 'customdata': ['DOLNOŚLĄSKIE', 2183, 219, 2749]}]}\n"
     ]
    },
    {
     "name": "stderr",
     "output_type": "stream",
     "text": [
      "127.0.0.1 - - [18/Dec/2021 20:18:54] \"\u001b[37mPOST /_dash-update-component HTTP/1.1\u001b[0m\" 200 -\n"
     ]
    },
    {
     "name": "stdout",
     "output_type": "stream",
     "text": [
      "hover data: {'points': [{'curveNumber': 8, 'pointNumber': 3, 'pointIndex': 3, 'x': 2017, 'y': 1710, 'customdata': ['PODKARPACKIE', 1710, 124, 2033]}]}\n",
      "hover data: {'points': [{'curveNumber': 9, 'pointNumber': 5, 'pointIndex': 5, 'x': 2019, 'y': 585, 'customdata': ['PODLASKIE', 585, 106, 620]}]}\n"
     ]
    },
    {
     "name": "stderr",
     "output_type": "stream",
     "text": [
      "127.0.0.1 - - [18/Dec/2021 20:18:54] \"\u001b[37mPOST /_dash-update-component HTTP/1.1\u001b[0m\" 200 -\n",
      "127.0.0.1 - - [18/Dec/2021 20:18:54] \"\u001b[37mPOST /_dash-update-component HTTP/1.1\u001b[0m\" 200 -\n"
     ]
    },
    {
     "name": "stdout",
     "output_type": "stream",
     "text": [
      "hover data: {'points': [{'curveNumber': 7, 'pointNumber': 3, 'pointIndex': 3, 'x': 2017, 'y': 700, 'customdata': ['OPOLSKIE', 700, 78, 849]}]}\n"
     ]
    },
    {
     "name": "stderr",
     "output_type": "stream",
     "text": [
      "127.0.0.1 - - [18/Dec/2021 20:18:54] \"\u001b[37mPOST /_dash-update-component HTTP/1.1\u001b[0m\" 200 -\n",
      "127.0.0.1 - - [18/Dec/2021 20:18:54] \"\u001b[37mPOST /_dash-update-component HTTP/1.1\u001b[0m\" 200 -\n"
     ]
    },
    {
     "name": "stdout",
     "output_type": "stream",
     "text": [
      "hover data: {'points': [{'curveNumber': 3, 'pointNumber': 3, 'pointIndex': 3, 'x': 2017, 'y': 682, 'customdata': ['LUBUSKIE', 682, 84, 855]}]}\n",
      "hover data: {'points': [{'curveNumber': 1, 'pointNumber': 2, 'pointIndex': 2, 'x': 2016, 'y': 1018, 'customdata': ['KUJAWSKO-POMORSKIE', 1018, 178, 1101]}]}\n",
      "hover data: {'points': [{'curveNumber': 10, 'pointNumber': 2, 'pointIndex': 2, 'x': 2016, 'y': 2725, 'customdata': ['POMORSKIE', 2725, 144, 3357]}]}\n"
     ]
    },
    {
     "name": "stderr",
     "output_type": "stream",
     "text": [
      "127.0.0.1 - - [18/Dec/2021 20:18:54] \"\u001b[37mPOST /_dash-update-component HTTP/1.1\u001b[0m\" 200 -\n",
      "127.0.0.1 - - [18/Dec/2021 20:18:55] \"\u001b[37mPOST /_dash-update-component HTTP/1.1\u001b[0m\" 200 -\n"
     ]
    },
    {
     "name": "stdout",
     "output_type": "stream",
     "text": [
      "hover data: {'points': [{'curveNumber': 0, 'pointNumber': 3, 'pointIndex': 3, 'x': 2017, 'y': 2183, 'customdata': ['DOLNOŚLĄSKIE', 2183, 219, 2749]}]}\n",
      "hover data: {'points': [{'curveNumber': 10, 'pointNumber': 3, 'pointIndex': 3, 'x': 2017, 'y': 2608, 'customdata': ['POMORSKIE', 2608, 134, 3253]}]}\n"
     ]
    },
    {
     "name": "stderr",
     "output_type": "stream",
     "text": [
      "127.0.0.1 - - [18/Dec/2021 20:18:55] \"\u001b[37mPOST /_dash-update-component HTTP/1.1\u001b[0m\" 200 -\n",
      "127.0.0.1 - - [18/Dec/2021 20:18:55] \"\u001b[37mPOST /_dash-update-component HTTP/1.1\u001b[0m\" 200 -\n",
      "127.0.0.1 - - [18/Dec/2021 20:18:55] \"\u001b[37mPOST /_dash-update-component HTTP/1.1\u001b[0m\" 200 -\n"
     ]
    },
    {
     "name": "stdout",
     "output_type": "stream",
     "text": [
      "hover data: {'points': [{'curveNumber': 14, 'pointNumber': 3, 'pointIndex': 3, 'x': 2017, 'y': 3122, 'customdata': ['WIELKOPOLSKIE', 3122, 294, 3594]}]}\n",
      "hover data: {'points': [{'curveNumber': 5, 'pointNumber': 3, 'pointIndex': 3, 'x': 2017, 'y': 3612, 'customdata': ['MAŁOPOLSKIE', 3612, 194, 4310]}]}\n"
     ]
    },
    {
     "name": "stderr",
     "output_type": "stream",
     "text": [
      "127.0.0.1 - - [18/Dec/2021 20:18:55] \"\u001b[37mPOST /_dash-update-component HTTP/1.1\u001b[0m\" 200 -\n",
      "127.0.0.1 - - [18/Dec/2021 20:18:56] \"\u001b[37mPOST /_dash-update-component HTTP/1.1\u001b[0m\" 200 -\n"
     ]
    },
    {
     "name": "stdout",
     "output_type": "stream",
     "text": [
      "hover data: {'points': [{'curveNumber': 11, 'pointNumber': 3, 'pointIndex': 3, 'x': 2017, 'y': 3502, 'customdata': ['ŚLĄSKIE', 3502, 246, 4307]}]}\n",
      "hover data: {'points': [{'curveNumber': 11, 'pointNumber': 2, 'pointIndex': 2, 'x': 2016, 'y': 3650, 'customdata': ['ŚLĄSKIE', 3650, 257, 4347]}]}\n",
      "hover data: {'points': [{'curveNumber': 5, 'pointNumber': 2, 'pointIndex': 2, 'x': 2016, 'y': 3939, 'customdata': ['MAŁOPOLSKIE', 3939, 185, 4764]}]}"
     ]
    },
    {
     "name": "stderr",
     "output_type": "stream",
     "text": [
      "127.0.0.1 - - [18/Dec/2021 20:18:56] \"\u001b[37mPOST /_dash-update-component HTTP/1.1\u001b[0m\" 200 -\n"
     ]
    },
    {
     "name": "stdout",
     "output_type": "stream",
     "text": [
      "\n",
      "hover data: {'points': [{'curveNumber': 4, 'pointNumber': 2, 'pointIndex': 2, 'x': 2016, 'y': 4222, 'customdata': ['ŁÓDZKIE', 4222, 214, 5298]}]}\n"
     ]
    },
    {
     "name": "stderr",
     "output_type": "stream",
     "text": [
      "127.0.0.1 - - [18/Dec/2021 20:18:56] \"\u001b[37mPOST /_dash-update-component HTTP/1.1\u001b[0m\" 200 -\n",
      "127.0.0.1 - - [18/Dec/2021 20:18:57] \"\u001b[37mPOST /_dash-update-component HTTP/1.1\u001b[0m\" 200 -\n",
      "127.0.0.1 - - [18/Dec/2021 20:18:57] \"\u001b[37mPOST /_dash-update-component HTTP/1.1\u001b[0m\" 200 -\n"
     ]
    },
    {
     "name": "stdout",
     "output_type": "stream",
     "text": [
      "hover data: {'points': [{'curveNumber': 6, 'pointNumber': 2, 'pointIndex': 2, 'x': 2016, 'y': 4078, 'customdata': ['MAZOWIECKIE', 4078, 508, 4878]}]}\n",
      "hover data: {'points': [{'curveNumber': 5, 'pointNumber': 2, 'pointIndex': 2, 'x': 2016, 'y': 3939, 'customdata': ['MAŁOPOLSKIE', 3939, 185, 4764]}]}\n"
     ]
    },
    {
     "name": "stderr",
     "output_type": "stream",
     "text": [
      "127.0.0.1 - - [18/Dec/2021 20:18:58] \"\u001b[37mPOST /_dash-update-component HTTP/1.1\u001b[0m\" 200 -\n",
      "127.0.0.1 - - [18/Dec/2021 20:18:58] \"\u001b[37mPOST /_dash-update-component HTTP/1.1\u001b[0m\" 200 -\n"
     ]
    },
    {
     "name": "stdout",
     "output_type": "stream",
     "text": [
      "hover data: {'points': [{'curveNumber': 11, 'pointNumber': 2, 'pointIndex': 2, 'x': 2016, 'y': 3650, 'customdata': ['ŚLĄSKIE', 3650, 257, 4347]}]}\n",
      "hover data: {'points': [{'curveNumber': 11, 'pointNumber': 3, 'pointIndex': 3, 'x': 2017, 'y': 3502, 'customdata': ['ŚLĄSKIE', 3502, 246, 4307]}]}\n"
     ]
    },
    {
     "name": "stderr",
     "output_type": "stream",
     "text": [
      "127.0.0.1 - - [18/Dec/2021 20:18:58] \"\u001b[37mPOST /_dash-update-component HTTP/1.1\u001b[0m\" 200 -\n",
      "127.0.0.1 - - [18/Dec/2021 20:18:58] \"\u001b[37mPOST /_dash-update-component HTTP/1.1\u001b[0m\" 200 -\n"
     ]
    },
    {
     "name": "stdout",
     "output_type": "stream",
     "text": [
      "hover data: {'points': [{'curveNumber': 5, 'pointNumber': 4, 'pointIndex': 4, 'x': 2018, 'y': 3404, 'customdata': ['MAŁOPOLSKIE', 3404, 223, 4003]}]}\n",
      "hover data: {'points': [{'curveNumber': 4, 'pointNumber': 5, 'pointIndex': 5, 'x': 2019, 'y': 3351, 'customdata': ['ŁÓDZKIE', 3351, 239, 4047]}]}\n"
     ]
    },
    {
     "name": "stderr",
     "output_type": "stream",
     "text": [
      "127.0.0.1 - - [18/Dec/2021 20:18:59] \"\u001b[37mPOST /_dash-update-component HTTP/1.1\u001b[0m\" 200 -\n"
     ]
    },
    {
     "name": "stdout",
     "output_type": "stream",
     "text": [
      "hover data: {'points': [{'curveNumber': 11, 'pointNumber': 5, 'pointIndex': 5, 'x': 2019, 'y': 2965, 'customdata': ['ŚLĄSKIE', 2965, 199, 3561]}]}\n"
     ]
    },
    {
     "name": "stderr",
     "output_type": "stream",
     "text": [
      "127.0.0.1 - - [18/Dec/2021 20:18:59] \"\u001b[37mPOST /_dash-update-component HTTP/1.1\u001b[0m\" 200 -\n",
      "127.0.0.1 - - [18/Dec/2021 20:18:59] \"\u001b[37mPOST /_dash-update-component HTTP/1.1\u001b[0m\" 200 -\n",
      "127.0.0.1 - - [18/Dec/2021 20:19:00] \"\u001b[37mPOST /_dash-update-component HTTP/1.1\u001b[0m\" 200 -\n"
     ]
    },
    {
     "name": "stdout",
     "output_type": "stream",
     "text": [
      "hover data: {'points': [{'curveNumber': 0, 'pointNumber': 4, 'pointIndex': 4, 'x': 2018, 'y': 2148, 'customdata': ['DOLNOŚLĄSKIE', 2148, 203, 2674]}]}\n",
      "hover data: {'points': [{'curveNumber': 8, 'pointNumber': 4, 'pointIndex': 4, 'x': 2018, 'y': 1481, 'customdata': ['PODKARPACKIE', 1481, 125, 1775]}]}\n",
      "hover data: {'points': [{'curveNumber': 1, 'pointNumber': 3, 'pointIndex': 3, 'x': 2017, 'y': 949, 'customdata': ['KUJAWSKO-POMORSKIE', 949, 151, 1080]}]}\n"
     ]
    },
    {
     "name": "stderr",
     "output_type": "stream",
     "text": [
      "127.0.0.1 - - [18/Dec/2021 20:19:00] \"\u001b[37mPOST /_dash-update-component HTTP/1.1\u001b[0m\" 200 -\n",
      "127.0.0.1 - - [18/Dec/2021 20:19:00] \"\u001b[37mPOST /_dash-update-component HTTP/1.1\u001b[0m\" 200 -\n"
     ]
    },
    {
     "name": "stdout",
     "output_type": "stream",
     "text": [
      "hover data: {'points': [{'curveNumber': 7, 'pointNumber': 3, 'pointIndex': 3, 'x': 2017, 'y': 700, 'customdata': ['OPOLSKIE', 700, 78, 849]}]}\n",
      "hover data: {'points': [{'curveNumber': 3, 'pointNumber': 3, 'pointIndex': 3, 'x': 2017, 'y': 682, 'customdata': ['LUBUSKIE', 682, 84, 855]}]}\n"
     ]
    },
    {
     "name": "stderr",
     "output_type": "stream",
     "text": [
      "127.0.0.1 - - [18/Dec/2021 20:19:01] \"\u001b[37mPOST /_dash-update-component HTTP/1.1\u001b[0m\" 200 -\n",
      "127.0.0.1 - - [18/Dec/2021 20:19:01] \"\u001b[37mPOST /_dash-update-component HTTP/1.1\u001b[0m\" 200 -\n"
     ]
    },
    {
     "name": "stdout",
     "output_type": "stream",
     "text": [
      "hover data: {'points': [{'curveNumber': 7, 'pointNumber': 3, 'pointIndex': 3, 'x': 2017, 'y': 700, 'customdata': ['OPOLSKIE', 700, 78, 849]}]}\n",
      "hover data: {'points': [{'curveNumber': 1, 'pointNumber': 3, 'pointIndex': 3, 'x': 2017, 'y': 949, 'customdata': ['KUJAWSKO-POMORSKIE', 949, 151, 1080]}]}\n"
     ]
    },
    {
     "name": "stderr",
     "output_type": "stream",
     "text": [
      "127.0.0.1 - - [18/Dec/2021 20:19:01] \"\u001b[37mPOST /_dash-update-component HTTP/1.1\u001b[0m\" 200 -\n"
     ]
    },
    {
     "name": "stdout",
     "output_type": "stream",
     "text": [
      "hover data: {'points': [{'curveNumber': 15, 'pointNumber': 3, 'pointIndex': 3, 'x': 2017, 'y': 1232, 'customdata': ['ZACHODNIOPOMORSKIE', 1232, 120, 1435]}]}\n"
     ]
    },
    {
     "name": "stderr",
     "output_type": "stream",
     "text": [
      "127.0.0.1 - - [18/Dec/2021 20:19:02] \"\u001b[37mPOST /_dash-update-component HTTP/1.1\u001b[0m\" 200 -\n"
     ]
    },
    {
     "name": "stdout",
     "output_type": "stream",
     "text": [
      "hover data: {'points': [{'curveNumber': 13, 'pointNumber': 3, 'pointIndex': 3, 'x': 2017, 'y': 1455, 'customdata': ['WARMIŃSKO-MAZURSKIE', 1455, 118, 1734]}]}\n"
     ]
    },
    {
     "name": "stderr",
     "output_type": "stream",
     "text": [
      "127.0.0.1 - - [18/Dec/2021 20:19:02] \"\u001b[37mPOST /_dash-update-component HTTP/1.1\u001b[0m\" 200 -\n",
      "127.0.0.1 - - [18/Dec/2021 20:19:02] \"\u001b[37mPOST /_dash-update-component HTTP/1.1\u001b[0m\" 200 -\n"
     ]
    },
    {
     "name": "stdout",
     "output_type": "stream",
     "text": [
      "hover data: {'points': [{'curveNumber': 8, 'pointNumber': 4, 'pointIndex': 4, 'x': 2018, 'y': 1481, 'customdata': ['PODKARPACKIE', 1481, 125, 1775]}]}\n",
      "hover data: {'points': [{'curveNumber': 8, 'pointNumber': 5, 'pointIndex': 5, 'x': 2019, 'y': 1481, 'customdata': ['PODKARPACKIE', 1481, 157, 1708]}]}\n",
      "hover data: {'points': [{'curveNumber': 8, 'pointNumber': 6, 'pointIndex': 6, 'x': 2020, 'y': 1167, 'customdata': ['PODKARPACKIE', 1167, 132, 1240]}]}\n"
     ]
    },
    {
     "name": "stderr",
     "output_type": "stream",
     "text": [
      "127.0.0.1 - - [18/Dec/2021 20:19:02] \"\u001b[37mPOST /_dash-update-component HTTP/1.1\u001b[0m\" 200 -\n",
      "127.0.0.1 - - [18/Dec/2021 20:19:03] \"\u001b[37mPOST /_dash-update-component HTTP/1.1\u001b[0m\" 200 -\n"
     ]
    },
    {
     "name": "stdout",
     "output_type": "stream",
     "text": [
      "hover data: {'points': [{'curveNumber': 0, 'pointNumber': 5, 'pointIndex': 5, 'x': 2019, 'y': 1929, 'customdata': ['DOLNOŚLĄSKIE', 1929, 215, 2275]}]}\n"
     ]
    },
    {
     "name": "stderr",
     "output_type": "stream",
     "text": [
      "127.0.0.1 - - [18/Dec/2021 20:19:04] \"\u001b[37mPOST /_dash-update-component HTTP/1.1\u001b[0m\" 200 -\n"
     ]
    },
    {
     "name": "stdout",
     "output_type": "stream",
     "text": [
      "hover data: {'points': [{'curveNumber': 0, 'pointNumber': 6, 'pointIndex': 6, 'x': 2020, 'y': 1578, 'customdata': ['DOLNOŚLĄSKIE', 1578, 165, 1794]}]}\n"
     ]
    },
    {
     "name": "stderr",
     "output_type": "stream",
     "text": [
      "127.0.0.1 - - [18/Dec/2021 20:19:05] \"\u001b[37mPOST /_dash-update-component HTTP/1.1\u001b[0m\" 200 -\n"
     ]
    },
    {
     "name": "stdout",
     "output_type": "stream",
     "text": [
      "hover data: {'points': [{'curveNumber': 8, 'pointNumber': 5, 'pointIndex': 5, 'x': 2019, 'y': 1481, 'customdata': ['PODKARPACKIE', 1481, 157, 1708]}]}\n"
     ]
    },
    {
     "name": "stderr",
     "output_type": "stream",
     "text": [
      "127.0.0.1 - - [18/Dec/2021 20:19:05] \"\u001b[37mPOST /_dash-update-component HTTP/1.1\u001b[0m\" 200 -\n"
     ]
    },
    {
     "name": "stdout",
     "output_type": "stream",
     "text": [
      "hover data: {'points': [{'curveNumber': 0, 'pointNumber': 6, 'pointIndex': 6, 'x': 2020, 'y': 1578, 'customdata': ['DOLNOŚLĄSKIE', 1578, 165, 1794]}]}\n",
      "hover data: {'points': [{'curveNumber': 8, 'pointNumber': 6, 'pointIndex': 6, 'x': 2020, 'y': 1167, 'customdata': ['PODKARPACKIE', 1167, 132, 1240]}]}\n"
     ]
    },
    {
     "name": "stderr",
     "output_type": "stream",
     "text": [
      "127.0.0.1 - - [18/Dec/2021 20:19:05] \"\u001b[37mPOST /_dash-update-component HTTP/1.1\u001b[0m\" 200 -\n",
      "127.0.0.1 - - [18/Dec/2021 20:19:06] \"\u001b[37mPOST /_dash-update-component HTTP/1.1\u001b[0m\" 200 -\n",
      "127.0.0.1 - - [18/Dec/2021 20:19:06] \"\u001b[37mPOST /_dash-update-component HTTP/1.1\u001b[0m\" 200 -\n"
     ]
    },
    {
     "name": "stdout",
     "output_type": "stream",
     "text": [
      "hover data: {'points': [{'curveNumber': 0, 'pointNumber': 6, 'pointIndex': 6, 'x': 2020, 'y': 1578, 'customdata': ['DOLNOŚLĄSKIE', 1578, 165, 1794]}]}\n",
      "hover data: {'points': [{'curveNumber': 8, 'pointNumber': 5, 'pointIndex': 5, 'x': 2019, 'y': 1481, 'customdata': ['PODKARPACKIE', 1481, 157, 1708]}]}\n"
     ]
    },
    {
     "name": "stderr",
     "output_type": "stream",
     "text": [
      "127.0.0.1 - - [18/Dec/2021 20:19:06] \"\u001b[37mPOST /_dash-update-component HTTP/1.1\u001b[0m\" 200 -\n"
     ]
    },
    {
     "name": "stdout",
     "output_type": "stream",
     "text": [
      "hover data: {'points': [{'curveNumber': 8, 'pointNumber': 6, 'pointIndex': 6, 'x': 2020, 'y': 1167, 'customdata': ['PODKARPACKIE', 1167, 132, 1240]}]}\n"
     ]
    },
    {
     "name": "stderr",
     "output_type": "stream",
     "text": [
      "127.0.0.1 - - [18/Dec/2021 20:19:07] \"\u001b[37mPOST /_dash-update-component HTTP/1.1\u001b[0m\" 200 -\n"
     ]
    },
    {
     "name": "stdout",
     "output_type": "stream",
     "text": [
      "hover data: {'points': [{'curveNumber': 8, 'pointNumber': 5, 'pointIndex': 5, 'x': 2019, 'y': 1481, 'customdata': ['PODKARPACKIE', 1481, 157, 1708]}]}\n"
     ]
    },
    {
     "name": "stderr",
     "output_type": "stream",
     "text": [
      "127.0.0.1 - - [18/Dec/2021 20:19:08] \"\u001b[37mPOST /_dash-update-component HTTP/1.1\u001b[0m\" 200 -\n",
      "127.0.0.1 - - [18/Dec/2021 20:19:08] \"\u001b[37mPOST /_dash-update-component HTTP/1.1\u001b[0m\" 200 -\n",
      "127.0.0.1 - - [18/Dec/2021 20:19:08] \"\u001b[37mPOST /_dash-update-component HTTP/1.1\u001b[0m\" 200 -\n"
     ]
    },
    {
     "name": "stdout",
     "output_type": "stream",
     "text": [
      "hover data: {'points': [{'curveNumber': 8, 'pointNumber': 4, 'pointIndex': 4, 'x': 2018, 'y': 1481, 'customdata': ['PODKARPACKIE', 1481, 125, 1775]}]}\n",
      "hover data: {'points': [{'curveNumber': 0, 'pointNumber': 3, 'pointIndex': 3, 'x': 2017, 'y': 2183, 'customdata': ['DOLNOŚLĄSKIE', 2183, 219, 2749]}]}\n",
      "hover data: {'points': [{'curveNumber': 10, 'pointNumber': 0, 'pointIndex': 0, 'x': 2014, 'y': 2724, 'customdata': ['POMORSKIE', 2724, 181, 3476]}]}\n"
     ]
    },
    {
     "name": "stderr",
     "output_type": "stream",
     "text": [
      "127.0.0.1 - - [18/Dec/2021 20:20:18] \"\u001b[37mPOST /_dash-update-component HTTP/1.1\u001b[0m\" 200 -\n"
     ]
    },
    {
     "name": "stdout",
     "output_type": "stream",
     "text": [
      "hover data: {'points': [{'curveNumber': 8, 'pointNumber': 1, 'pointIndex': 1, 'x': 2015, 'y': 1703, 'customdata': ['PODKARPACKIE', 1703, 136, 2120]}]}\n"
     ]
    },
    {
     "name": "stderr",
     "output_type": "stream",
     "text": [
      "127.0.0.1 - - [18/Dec/2021 20:20:19] \"\u001b[37mPOST /_dash-update-component HTTP/1.1\u001b[0m\" 200 -\n"
     ]
    },
    {
     "name": "stdout",
     "output_type": "stream",
     "text": [
      "hover data: {'points': [{'curveNumber': 14, 'pointNumber': 2, 'pointIndex': 2, 'x': 2016, 'y': 2316, 'customdata': ['WIELKOPOLSKIE', 2316, 249, 2683]}]}\n"
     ]
    },
    {
     "name": "stderr",
     "output_type": "stream",
     "text": [
      "127.0.0.1 - - [18/Dec/2021 20:20:19] \"\u001b[37mPOST /_dash-update-component HTTP/1.1\u001b[0m\" 200 -\n"
     ]
    },
    {
     "name": "stdout",
     "output_type": "stream",
     "text": [
      "hover data: {'points': [{'curveNumber': 0, 'pointNumber': 1, 'pointIndex': 1, 'x': 2015, 'y': 2280, 'customdata': ['DOLNOŚLĄSKIE', 2280, 185, 2968]}]}\n"
     ]
    },
    {
     "name": "stderr",
     "output_type": "stream",
     "text": [
      "127.0.0.1 - - [18/Dec/2021 20:20:19] \"\u001b[37mPOST /_dash-update-component HTTP/1.1\u001b[0m\" 200 -\n"
     ]
    },
    {
     "name": "stdout",
     "output_type": "stream",
     "text": [
      "hover data: {'points': [{'curveNumber': 14, 'pointNumber': 0, 'pointIndex': 0, 'x': 2014, 'y': 2392, 'customdata': ['WIELKOPOLSKIE', 2392, 268, 2808]}]}\n"
     ]
    },
    {
     "name": "stderr",
     "output_type": "stream",
     "text": [
      "127.0.0.1 - - [18/Dec/2021 20:20:20] \"\u001b[37mPOST /_dash-update-component HTTP/1.1\u001b[0m\" 200 -\n"
     ]
    },
    {
     "name": "stdout",
     "output_type": "stream",
     "text": [
      "hover data: {'points': [{'curveNumber': 0, 'pointNumber': 1, 'pointIndex': 1, 'x': 2015, 'y': 2280, 'customdata': ['DOLNOŚLĄSKIE', 2280, 185, 2968]}]}\n",
      "hover data: {'points': [{'curveNumber': 14, 'pointNumber': 1, 'pointIndex': 1, 'x': 2015, 'y': 2196, 'customdata': ['WIELKOPOLSKIE', 2196, 245, 2523]}]}\n"
     ]
    },
    {
     "name": "stderr",
     "output_type": "stream",
     "text": [
      "127.0.0.1 - - [18/Dec/2021 20:20:21] \"\u001b[37mPOST /_dash-update-component HTTP/1.1\u001b[0m\" 200 -\n",
      "127.0.0.1 - - [18/Dec/2021 20:20:22] \"\u001b[37mPOST /_dash-update-component HTTP/1.1\u001b[0m\" 200 -\n"
     ]
    },
    {
     "name": "stdout",
     "output_type": "stream",
     "text": [
      "hover data: {'points': [{'curveNumber': 8, 'pointNumber': 1, 'pointIndex': 1, 'x': 2015, 'y': 1703, 'customdata': ['PODKARPACKIE', 1703, 136, 2120]}]}\n",
      "hover data: {'points': [{'curveNumber': 8, 'pointNumber': 2, 'pointIndex': 2, 'x': 2016, 'y': 1682, 'customdata': ['PODKARPACKIE', 1682, 141, 2019]}]}\n"
     ]
    },
    {
     "name": "stderr",
     "output_type": "stream",
     "text": [
      "127.0.0.1 - - [18/Dec/2021 20:20:22] \"\u001b[37mPOST /_dash-update-component HTTP/1.1\u001b[0m\" 200 -\n",
      "127.0.0.1 - - [18/Dec/2021 20:20:22] \"\u001b[37mPOST /_dash-update-component HTTP/1.1\u001b[0m\" 200 -\n"
     ]
    },
    {
     "name": "stdout",
     "output_type": "stream",
     "text": [
      "hover data: {'points': [{'curveNumber': 14, 'pointNumber': 2, 'pointIndex': 2, 'x': 2016, 'y': 2316, 'customdata': ['WIELKOPOLSKIE', 2316, 249, 2683]}]}\n"
     ]
    },
    {
     "name": "stderr",
     "output_type": "stream",
     "text": [
      "127.0.0.1 - - [18/Dec/2021 20:20:24] \"\u001b[37mPOST /_dash-update-component HTTP/1.1\u001b[0m\" 200 -\n"
     ]
    },
    {
     "name": "stdout",
     "output_type": "stream",
     "text": [
      "hover data: {'points': [{'curveNumber': 2, 'pointNumber': 2, 'pointIndex': 2, 'x': 2016, 'y': 1262, 'customdata': ['LUBELSKIE', 1262, 178, 1484]}]}\n"
     ]
    }
   ],
   "source": [
    "@app.callback(\n",
    "    Output(component_id='pie-graph', component_property='figure'),\n",
    "    Input(component_id='my-graph', component_property='hoverData'),\n",
    "    Input(component_id='my-graph', component_property='clickData'),\n",
    "    Input(component_id='my-graph', component_property='selectedData'),\n",
    "    Input(component_id='dpdn2', component_property='value')\n",
    ")\n",
    "def update_side_graph(hov_data, clk_data, slct_data, Jednostka_chosen):\n",
    "    if hov_data is None:\n",
    "        dff2 = df2[df2.Jednostka.isin(Jednostka_chosen)]\n",
    "        dff2 = df2[df2.Rok == 2014]\n",
    "        print(dff2)\n",
    "        fig2 = px.pie(data_frame=dff2, values='Ofiary śmiertelne', names='Jednostka',\n",
    "                      title='Śmiertelne for 2014')\n",
    "        return fig2\n",
    "    else:\n",
    "        print(f'hover data: {hov_data}')\n",
    "        # print(hov_data['points'][0]['customdata'][0])\n",
    "        # print(f'click data: {clk_data}')\n",
    "        # print(f'selected data: {slct_data}')\n",
    "        dff2 = df2[df2.Jednostka.isin(Jednostka_chosen)]\n",
    "        hov_year = hov_data['points'][0]['x']\n",
    "        dff2 = dff2[dff2.Rok == hov_year]\n",
    "        fig2 = px.pie(data_frame=dff2, values='Ofiary śmiertelne', names='Jednostka', title=f'Wypadki: {hov_year}')\n",
    "        return fig2\n",
    "\n",
    "\n",
    "if __name__ == '__main__':\n",
    "    app.run_server()\n",
    "    "
   ]
  },
  {
   "cell_type": "code",
   "execution_count": 18,
   "metadata": {},
   "outputs": [
    {
     "name": "stdout",
     "output_type": "stream",
     "text": [
      "          country continent  year  lifeExp       pop   gdpPercap iso_alpha  \\\n",
      "0     Afghanistan      Asia  1952   28.801   8425333  779.445314       AFG   \n",
      "1     Afghanistan      Asia  1957   30.332   9240934  820.853030       AFG   \n",
      "2     Afghanistan      Asia  1962   31.997  10267083  853.100710       AFG   \n",
      "3     Afghanistan      Asia  1967   34.020  11537966  836.197138       AFG   \n",
      "4     Afghanistan      Asia  1972   36.088  13079460  739.981106       AFG   \n",
      "...           ...       ...   ...      ...       ...         ...       ...   \n",
      "1699     Zimbabwe    Africa  1987   62.351   9216418  706.157306       ZWE   \n",
      "1700     Zimbabwe    Africa  1992   60.377  10704340  693.420786       ZWE   \n",
      "1701     Zimbabwe    Africa  1997   46.809  11404948  792.449960       ZWE   \n",
      "1702     Zimbabwe    Africa  2002   39.989  11926563  672.038623       ZWE   \n",
      "1703     Zimbabwe    Africa  2007   43.487  12311143  469.709298       ZWE   \n",
      "\n",
      "      iso_num  \n",
      "0           4  \n",
      "1           4  \n",
      "2           4  \n",
      "3           4  \n",
      "4           4  \n",
      "...       ...  \n",
      "1699      716  \n",
      "1700      716  \n",
      "1701      716  \n",
      "1702      716  \n",
      "1703      716  \n",
      "\n",
      "[1704 rows x 8 columns]\n"
     ]
    }
   ],
   "source": [
    "df = px.data.gapminder()\n",
    "print(df)"
   ]
  },
  {
   "cell_type": "code",
   "execution_count": 7,
   "metadata": {},
   "outputs": [],
   "source": [
    "\n",
    "df = px.data.gapminder()\n",
    "\n",
    "external_stylesheets = ['https://codepen.io/chriddyp/pen/bWLwgP.css']\n",
    "app = dash.Dash(__name__, external_stylesheets=external_stylesheets)\n",
    "\n",
    "app.layout = html.Div([\n",
    "    dcc.Dropdown(id='dpdn2', value=['Germany','Brazil'], multi=True,\n",
    "                 options=[{'label': x, 'value': x} for x in\n",
    "                          df.country.unique()]),\n",
    "    html.Div([\n",
    "        dcc.Graph(id='pie-graph', figure={}, className='six columns'),\n",
    "        dcc.Graph(id='my-graph', figure={}, clickData=None, hoverData=None, # I assigned None for tutorial purposes. By defualt, these are None, unless you specify otherwise.\n",
    "                  config={\n",
    "                      'staticPlot': False,     # True, False\n",
    "                      'scrollZoom': True,      # True, False\n",
    "                      'doubleClick': 'reset',  # 'reset', 'autosize' or 'reset+autosize', False\n",
    "                      'showTips': False,       # True, False\n",
    "                      'displayModeBar': True,  # True, False, 'hover'\n",
    "                      'watermark': True,\n",
    "                      # 'modeBarButtonsToRemove': ['pan2d','select2d'],\n",
    "                        },\n",
    "                  className='six columns'\n",
    "                  )\n",
    "    ])\n",
    "])\n",
    "\n"
   ]
  },
  {
   "cell_type": "code",
   "execution_count": 8,
   "metadata": {},
   "outputs": [],
   "source": [
    "@app.callback(\n",
    "    Output(component_id='my-graph', component_property='figure'),\n",
    "    Input(component_id='dpdn2', component_property='value'),\n",
    ")\n",
    "def update_graph(country_chosen):\n",
    "    dff = df[df.country.isin(country_chosen)]\n",
    "    fig = px.line(data_frame=dff, x='year', y='gdpPercap', color='country',\n",
    "                  custom_data=['country', 'continent', 'lifeExp', 'pop'])\n",
    "    fig.update_traces(mode='lines+markers')\n",
    "    return fig\n"
   ]
  },
  {
   "cell_type": "code",
   "execution_count": 10,
   "metadata": {},
   "outputs": [
    {
     "name": "stdout",
     "output_type": "stream",
     "text": [
      "Dash is running on http://127.0.0.1:8050/\n",
      "\n",
      "Dash is running on http://127.0.0.1:8050/\n",
      "\n",
      "Dash is running on http://127.0.0.1:8050/\n",
      "\n",
      " * Serving Flask app \"__main__\" (lazy loading)\n",
      " * Environment: production\n",
      "   WARNING: This is a development server. Do not use it in a production deployment.\n",
      "   Use a production WSGI server instead.\n",
      " * Debug mode: off\n",
      "     country continent  year  lifeExp       pop    gdpPercap iso_alpha  \\\n",
      "168   Brazil  Americas  1952   50.917  56602560  2108.944355       BRA   \n",
      "564  Germany    Europe  1952   67.500  69145952  7144.114393       DEU   \n",
      "\n",
      "     iso_num  \n",
      "168       76  \n",
      "564      276  \n",
      "hover data: {'points': [{'curveNumber': 1, 'pointNumber': 1, 'pointIndex': 1, 'x': 1957, 'y': 10187.82665, 'customdata': ['Germany', 'Europe', 69.1, 71019069]}]}\n",
      "hover data: {'points': [{'curveNumber': 1, 'pointNumber': 1, 'pointIndex': 1, 'x': 1957, 'y': 10187.82665, 'customdata': ['Germany', 'Europe', 69.1, 71019069]}]}\n",
      "hover data: {'points': [{'curveNumber': 1, 'pointNumber': 2, 'pointIndex': 2, 'x': 1962, 'y': 12902.46291, 'customdata': ['Germany', 'Europe', 70.3, 73739117]}]}\n",
      "hover data: {'points': [{'curveNumber': 1, 'pointNumber': 3, 'pointIndex': 3, 'x': 1967, 'y': 14745.62561, 'customdata': ['Germany', 'Europe', 70.8, 76368453]}]}\n",
      "hover data: {'points': [{'curveNumber': 1, 'pointNumber': 4, 'pointIndex': 4, 'x': 1972, 'y': 18016.180269999997, 'customdata': ['Germany', 'Europe', 71, 78717088]}]}\n",
      "hover data: {'points': [{'curveNumber': 1, 'pointNumber': 5, 'pointIndex': 5, 'x': 1977, 'y': 20512.92123, 'customdata': ['Germany', 'Europe', 72.5, 78160773]}]}\n",
      "hover data: {'points': [{'curveNumber': 1, 'pointNumber': 6, 'pointIndex': 6, 'x': 1982, 'y': 22031.532740000002, 'customdata': ['Germany', 'Europe', 73.8, 78335266]}]}\n",
      "hover data: {'points': [{'curveNumber': 1, 'pointNumber': 4, 'pointIndex': 4, 'x': 1972, 'y': 18016.180269999997, 'customdata': ['Germany', 'Europe', 71, 78717088]}]}\n",
      "hover data: {'points': [{'curveNumber': 1, 'pointNumber': 0, 'pointIndex': 0, 'x': 1952, 'y': 7144.114393000001, 'customdata': ['Germany', 'Europe', 67.5, 69145952]}]}\n",
      "hover data: {'points': [{'curveNumber': 0, 'pointNumber': 0, 'pointIndex': 0, 'x': 1952, 'y': 2108.944355, 'customdata': ['Brazil', 'Americas', 50.917, 56602560]}]}\n",
      "hover data: {'points': [{'curveNumber': 0, 'pointNumber': 1, 'pointIndex': 1, 'x': 1957, 'y': 2487.365989, 'customdata': ['Brazil', 'Americas', 53.285, 65551171]}]}\n"
     ]
    }
   ],
   "source": [
    "@app.callback(\n",
    "    Output(component_id='pie-graph', component_property='figure'),\n",
    "    Input(component_id='my-graph', component_property='hoverData'),\n",
    "    Input(component_id='my-graph', component_property='clickData'),\n",
    "    Input(component_id='my-graph', component_property='selectedData'),\n",
    "    Input(component_id='dpdn2', component_property='value')\n",
    ")\n",
    "def update_side_graph(hov_data, clk_data, slct_data, country_chosen):\n",
    "    if hov_data is None:\n",
    "        dff2 = df[df.country.isin(country_chosen)]\n",
    "        dff2 = dff2[dff2.year == 1952]\n",
    "        print(dff2)\n",
    "        fig2 = px.pie(data_frame=dff2, values='pop', names='country',\n",
    "                      title='Population for 1952')\n",
    "        return fig2\n",
    "    else:\n",
    "        print(f'hover data: {hov_data}')\n",
    "        # print(hov_data['points'][0]['customdata'][0])\n",
    "        # print(f'click data: {clk_data}')\n",
    "        # print(f'selected data: {slct_data}')\n",
    "        dff2 = df[df.country.isin(country_chosen)]\n",
    "        hov_year = hov_data['points'][0]['x']\n",
    "        dff2 = dff2[dff2.year == hov_year]\n",
    "        fig2 = px.pie(data_frame=dff2, values='pop', names='country', title=f'Population for: {hov_year}')\n",
    "        return fig2\n",
    "\n",
    "\n",
    "if __name__ == '__main__':\n",
    "    app.run_server()\n",
    "    "
   ]
  },
  {
   "cell_type": "code",
   "execution_count": null,
   "metadata": {},
   "outputs": [],
   "source": []
  }
 ],
 "metadata": {
  "kernelspec": {
   "display_name": "Python 3",
   "language": "python",
   "name": "python3"
  },
  "language_info": {
   "codemirror_mode": {
    "name": "ipython",
    "version": 3
   },
   "file_extension": ".py",
   "mimetype": "text/x-python",
   "name": "python",
   "nbconvert_exporter": "python",
   "pygments_lexer": "ipython3",
   "version": "3.8.5"
  }
 },
 "nbformat": 4,
 "nbformat_minor": 4
}
